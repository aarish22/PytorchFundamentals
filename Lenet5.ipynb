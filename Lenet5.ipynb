{
  "nbformat": 4,
  "nbformat_minor": 0,
  "metadata": {
    "colab": {
      "provenance": []
    },
    "kernelspec": {
      "name": "python3",
      "display_name": "Python 3"
    },
    "language_info": {
      "name": "python"
    }
  },
  "cells": [
    {
      "cell_type": "code",
      "execution_count": 2,
      "metadata": {
        "id": "eiyZaWFwW9Ah"
      },
      "outputs": [],
      "source": [
        "import torch\n",
        "from torch import nn\n",
        "import torchvision\n",
        "from torchvision import datasets\n",
        "from torchvision import transforms\n",
        "from torchvision.transforms import ToTensor\n",
        "import matplotlib.pyplot as plt"
      ]
    },
    {
      "cell_type": "code",
      "source": [
        "train_dataset = datasets.MNIST(\n",
        "    root=\"data\", ## where to\n",
        "    train=True, ## do we want the training datset\n",
        "    download=True, ## do we want to download it\n",
        "    transform=ToTensor(), ## transform them to tensors\n",
        "    target_transform=None ## transform the labels\n",
        ")\n",
        "\n",
        "test_dataset = datasets.MNIST(\n",
        "    root=\"data\",\n",
        "    train=False,\n",
        "    download=True,\n",
        "    transform=ToTensor(),\n",
        "    target_transform=None\n",
        ")"
      ],
      "metadata": {
        "colab": {
          "base_uri": "https://localhost:8080/"
        },
        "id": "BxtaJ1zhXRLy",
        "outputId": "2e3ca616-f9f0-4c31-f557-7ff8fe916eb7"
      },
      "execution_count": 3,
      "outputs": [
        {
          "output_type": "stream",
          "name": "stdout",
          "text": [
            "Downloading http://yann.lecun.com/exdb/mnist/train-images-idx3-ubyte.gz\n",
            "Failed to download (trying next):\n",
            "HTTP Error 403: Forbidden\n",
            "\n",
            "Downloading https://ossci-datasets.s3.amazonaws.com/mnist/train-images-idx3-ubyte.gz\n",
            "Downloading https://ossci-datasets.s3.amazonaws.com/mnist/train-images-idx3-ubyte.gz to data/MNIST/raw/train-images-idx3-ubyte.gz\n"
          ]
        },
        {
          "output_type": "stream",
          "name": "stderr",
          "text": [
            "100%|██████████| 9912422/9912422 [00:00<00:00, 11620942.45it/s]\n"
          ]
        },
        {
          "output_type": "stream",
          "name": "stdout",
          "text": [
            "Extracting data/MNIST/raw/train-images-idx3-ubyte.gz to data/MNIST/raw\n",
            "\n",
            "Downloading http://yann.lecun.com/exdb/mnist/train-labels-idx1-ubyte.gz\n",
            "Failed to download (trying next):\n",
            "HTTP Error 403: Forbidden\n",
            "\n",
            "Downloading https://ossci-datasets.s3.amazonaws.com/mnist/train-labels-idx1-ubyte.gz\n",
            "Downloading https://ossci-datasets.s3.amazonaws.com/mnist/train-labels-idx1-ubyte.gz to data/MNIST/raw/train-labels-idx1-ubyte.gz\n"
          ]
        },
        {
          "output_type": "stream",
          "name": "stderr",
          "text": [
            "100%|██████████| 28881/28881 [00:00<00:00, 350214.50it/s]\n"
          ]
        },
        {
          "output_type": "stream",
          "name": "stdout",
          "text": [
            "Extracting data/MNIST/raw/train-labels-idx1-ubyte.gz to data/MNIST/raw\n",
            "\n",
            "Downloading http://yann.lecun.com/exdb/mnist/t10k-images-idx3-ubyte.gz\n",
            "Failed to download (trying next):\n",
            "HTTP Error 403: Forbidden\n",
            "\n",
            "Downloading https://ossci-datasets.s3.amazonaws.com/mnist/t10k-images-idx3-ubyte.gz\n",
            "Downloading https://ossci-datasets.s3.amazonaws.com/mnist/t10k-images-idx3-ubyte.gz to data/MNIST/raw/t10k-images-idx3-ubyte.gz\n"
          ]
        },
        {
          "output_type": "stream",
          "name": "stderr",
          "text": [
            "100%|██████████| 1648877/1648877 [00:00<00:00, 3193048.78it/s]\n"
          ]
        },
        {
          "output_type": "stream",
          "name": "stdout",
          "text": [
            "Extracting data/MNIST/raw/t10k-images-idx3-ubyte.gz to data/MNIST/raw\n",
            "\n",
            "Downloading http://yann.lecun.com/exdb/mnist/t10k-labels-idx1-ubyte.gz\n",
            "Failed to download (trying next):\n",
            "HTTP Error 403: Forbidden\n",
            "\n",
            "Downloading https://ossci-datasets.s3.amazonaws.com/mnist/t10k-labels-idx1-ubyte.gz\n",
            "Downloading https://ossci-datasets.s3.amazonaws.com/mnist/t10k-labels-idx1-ubyte.gz to data/MNIST/raw/t10k-labels-idx1-ubyte.gz\n"
          ]
        },
        {
          "output_type": "stream",
          "name": "stderr",
          "text": [
            "100%|██████████| 4542/4542 [00:00<00:00, 8236285.68it/s]"
          ]
        },
        {
          "output_type": "stream",
          "name": "stdout",
          "text": [
            "Extracting data/MNIST/raw/t10k-labels-idx1-ubyte.gz to data/MNIST/raw\n",
            "\n"
          ]
        },
        {
          "output_type": "stream",
          "name": "stderr",
          "text": [
            "\n"
          ]
        }
      ]
    },
    {
      "cell_type": "code",
      "source": [
        "len(train_dataset), len(test_dataset)"
      ],
      "metadata": {
        "colab": {
          "base_uri": "https://localhost:8080/"
        },
        "id": "FacMBfpsXkNN",
        "outputId": "a7077f1f-1c25-4d0d-bc02-c18e38510efa"
      },
      "execution_count": 4,
      "outputs": [
        {
          "output_type": "execute_result",
          "data": {
            "text/plain": [
              "(60000, 10000)"
            ]
          },
          "metadata": {},
          "execution_count": 4
        }
      ]
    },
    {
      "cell_type": "code",
      "source": [
        "image, label = train_dataset[0]\n",
        "image.shape, label"
      ],
      "metadata": {
        "colab": {
          "base_uri": "https://localhost:8080/"
        },
        "id": "yHQxi_cGXrz1",
        "outputId": "004339c2-1fa7-4a20-8c88-8c6be78f43ab"
      },
      "execution_count": 5,
      "outputs": [
        {
          "output_type": "execute_result",
          "data": {
            "text/plain": [
              "(torch.Size([1, 28, 28]), 5)"
            ]
          },
          "metadata": {},
          "execution_count": 5
        }
      ]
    },
    {
      "cell_type": "code",
      "source": [
        "class_names = train_dataset.classes\n",
        "class_names"
      ],
      "metadata": {
        "colab": {
          "base_uri": "https://localhost:8080/"
        },
        "id": "MMkLwJcdXwmf",
        "outputId": "d896e5d3-85f0-4df0-e398-2fa49cb9202e"
      },
      "execution_count": 6,
      "outputs": [
        {
          "output_type": "execute_result",
          "data": {
            "text/plain": [
              "['0 - zero',\n",
              " '1 - one',\n",
              " '2 - two',\n",
              " '3 - three',\n",
              " '4 - four',\n",
              " '5 - five',\n",
              " '6 - six',\n",
              " '7 - seven',\n",
              " '8 - eight',\n",
              " '9 - nine']"
            ]
          },
          "metadata": {},
          "execution_count": 6
        }
      ]
    },
    {
      "cell_type": "code",
      "source": [
        "class_to_idx = train_dataset.class_to_idx\n",
        "class_to_idx"
      ],
      "metadata": {
        "colab": {
          "base_uri": "https://localhost:8080/"
        },
        "id": "WRFrafR6Xzfy",
        "outputId": "7e0f23b6-8b5d-4e52-a76c-be0db2fc3bad"
      },
      "execution_count": 7,
      "outputs": [
        {
          "output_type": "execute_result",
          "data": {
            "text/plain": [
              "{'0 - zero': 0,\n",
              " '1 - one': 1,\n",
              " '2 - two': 2,\n",
              " '3 - three': 3,\n",
              " '4 - four': 4,\n",
              " '5 - five': 5,\n",
              " '6 - six': 6,\n",
              " '7 - seven': 7,\n",
              " '8 - eight': 8,\n",
              " '9 - nine': 9}"
            ]
          },
          "metadata": {},
          "execution_count": 7
        }
      ]
    },
    {
      "cell_type": "code",
      "source": [
        "plt.imshow(image.squeeze())\n",
        "plt.title(class_names[label])\n",
        "plt.axis(\"off\")"
      ],
      "metadata": {
        "colab": {
          "base_uri": "https://localhost:8080/",
          "height": 445
        },
        "id": "ilM7GsYQX1Jo",
        "outputId": "bdf2d9c9-ac1a-43e3-fd74-706b2c663bf9"
      },
      "execution_count": 8,
      "outputs": [
        {
          "output_type": "execute_result",
          "data": {
            "text/plain": [
              "(-0.5, 27.5, 27.5, -0.5)"
            ]
          },
          "metadata": {},
          "execution_count": 8
        },
        {
          "output_type": "display_data",
          "data": {
            "text/plain": [
              "<Figure size 640x480 with 1 Axes>"
            ],
            "image/png": "[encoded data removed]"
          },
          "metadata": {}
        }
      ]
    },
    {
      "cell_type": "code",
      "source": [
        "## plot random images\n",
        "#torch.manual_seed(23)\n",
        "\n",
        "fig = plt.figure(figsize=(9,9))\n",
        "rows, cols = 4,4\n",
        "for i in range(1,rows*cols+1):\n",
        "    random_idx = torch.randint(0,len(train_dataset),size=[1]).item()\n",
        "    image, label = train_dataset[random_idx]\n",
        "    fig.add_subplot(rows,cols,i)\n",
        "    plt.imshow(image.squeeze(),cmap=\"gray\")\n",
        "    plt.title(class_names[label])\n",
        "    plt.axis(\"off\")"
      ],
      "metadata": {
        "colab": {
          "base_uri": "https://localhost:8080/",
          "height": 752
        },
        "id": "-jPgwxYfX4Gm",
        "outputId": "39aed1aa-da33-4705-ab18-7a6272d4139b"
      },
      "execution_count": 9,
      "outputs": [
        {
          "output_type": "display_data",
          "data": {
            "text/plain": [
              "<Figure size 900x900 with 16 Axes>"
            ],
            "image/png": "[encoded data removed]"
          },
          "metadata": {}
        }
      ]
    },
    {
      "cell_type": "code",
      "source": [
        "from torch.utils.data import DataLoader\n",
        "train_dataloader = DataLoader(\n",
        "    dataset=train_dataset,\n",
        "    batch_size=32,\n",
        "    shuffle=True\n",
        ")\n",
        "\n",
        "test_dataloader = DataLoader(\n",
        "    dataset=test_dataset,\n",
        "    batch_size=32,\n",
        "    shuffle=False\n",
        ")\n",
        "train_dataloader, test_dataloader"
      ],
      "metadata": {
        "colab": {
          "base_uri": "https://localhost:8080/"
        },
        "id": "WJKLdjipX8fu",
        "outputId": "25dd77da-aa11-430c-ef29-c607240483d1"
      },
      "execution_count": 10,
      "outputs": [
        {
          "output_type": "execute_result",
          "data": {
            "text/plain": [
              "(<torch.utils.data.dataloader.DataLoader at 0x79c5dbddd450>,\n",
              " <torch.utils.data.dataloader.DataLoader at 0x79c5d9877ca0>)"
            ]
          },
          "metadata": {},
          "execution_count": 10
        }
      ]
    },
    {
      "cell_type": "code",
      "source": [
        "train_features_batch, train_labels_batch = next(iter(train_dataloader))\n",
        "train_features_batch.shape, train_labels_batch.shape"
      ],
      "metadata": {
        "colab": {
          "base_uri": "https://localhost:8080/"
        },
        "id": "h2u9xZaaYpNK",
        "outputId": "3df7d50e-4f69-45e2-da3b-37ebe4680420"
      },
      "execution_count": 12,
      "outputs": [
        {
          "output_type": "execute_result",
          "data": {
            "text/plain": [
              "(torch.Size([32, 1, 28, 28]), torch.Size([32]))"
            ]
          },
          "metadata": {},
          "execution_count": 12
        }
      ]
    },
    {
      "cell_type": "code",
      "source": [
        "flatten_model = nn.Flatten()\n",
        "\n",
        "x = train_features_batch[0]\n",
        "x.shape  ## torch.Size([1, 28, 28]) -> color channels, height, width\n",
        "\n",
        "output = flatten_model(x) ## perform forward pass\n",
        "output.shape  ## -> color channels, height*width"
      ],
      "metadata": {
        "colab": {
          "base_uri": "https://localhost:8080/"
        },
        "id": "eWR8qCc0YDj_",
        "outputId": "4aa160ac-e5db-4329-f42a-a44b2adad9eb"
      },
      "execution_count": 13,
      "outputs": [
        {
          "output_type": "execute_result",
          "data": {
            "text/plain": [
              "torch.Size([1, 784])"
            ]
          },
          "metadata": {},
          "execution_count": 13
        }
      ]
    },
    {
      "cell_type": "code",
      "source": [
        "# Load and preprocess the dataset (MNIST)\n",
        "transform = transforms.Compose([\n",
        "    transforms.ToTensor(),\n",
        "    transforms.Normalize((0.5,), (0.5,))\n",
        "])\n",
        "\n",
        "trainset = torchvision.datasets.MNIST(root='./data', train=True, download=True, transform=transform)\n",
        "trainloader = torch.utils.data.DataLoader(trainset, batch_size=64, shuffle=True)\n",
        "\n",
        "testset = torchvision.datasets.MNIST(root='./data', train=False, download=True, transform=transform)\n",
        "testloader = torch.utils.data.DataLoader(testset, batch_size=64, shuffle=False)"
      ],
      "metadata": {
        "id": "Q16XGfm0aRL6"
      },
      "execution_count": 14,
      "outputs": []
    },
    {
      "cell_type": "code",
      "source": [
        "## cnn model\n",
        "class Lenet5(nn.Module):\n",
        "  def __init__(self, input_shape: int, hidden_units: int, output_shape: int):\n",
        "    super().__init__()\n",
        "    self.conv_block_1 = nn.Sequential(\n",
        "        nn.Conv2d(in_channels= input_shape,\n",
        "                  out_channels=hidden_units,\n",
        "                  kernel_size = (5,5),\n",
        "                  stride = 2,\n",
        "                  padding = 1),\n",
        "        nn.Tanh(),\n",
        "        nn.Conv2d(in_channels= hidden_units,\n",
        "                   out_channels= hidden_units,\n",
        "                   kernel_size = 3,\n",
        "                   stride = 1,\n",
        "                   padding = 1),\n",
        "        nn.ReLU(),\n",
        "        nn.MaxPool2d(kernel_size=2)\n",
        "    )\n",
        "    self.conv_block_2 = nn.Sequential(\n",
        "        nn.Conv2d(in_channels= hidden_units,\n",
        "                  out_channels=hidden_units,\n",
        "                  kernel_size = 3,\n",
        "                  stride = 1,\n",
        "                  padding = 1),\n",
        "        nn.ReLU(),\n",
        "        nn.Conv2d(in_channels= hidden_units,\n",
        "                   out_channels= hidden_units,\n",
        "                   kernel_size = 3,\n",
        "                   stride = 1,\n",
        "                   padding = 1),\n",
        "        nn.ReLU(),\n",
        "        nn.MaxPool2d(kernel_size = 2)\n",
        "    )\n",
        "    self.classifier = nn.Sequential(\n",
        "        nn.Flatten(),\n",
        "        nn.Linear(in_features=hidden_units*7*7,\n",
        "                  out_features=output_shape)\n",
        "    )\n",
        "\n",
        "def forward(self, x):\n",
        "  x = self.conv_block_1(x)\n",
        "  print(x.shape)\n",
        "  x = self.conv_block_2(x)\n",
        "  print(x.shape)\n",
        "  x = self.classifier(x)\n",
        "  print(x.shape)\n",
        "  return x"
      ],
      "metadata": {
        "id": "OZQBBFHDYJ6w"
      },
      "execution_count": 15,
      "outputs": []
    },
    {
      "cell_type": "code",
      "source": [
        "import torch\n",
        "import torch.nn as nn\n",
        "import torch.optim as optim\n",
        "import torchvision\n",
        "import torchvision.transforms as transforms\n",
        "\n",
        "# Define the LeNet-5 model with tanh activations\n",
        "class LeNet5(nn.Module):\n",
        "    def __init__(self):\n",
        "        super(LeNet5, self).__init__()\n",
        "        self.conv1 = nn.Conv2d(in_channels=1, out_channels=6, kernel_size=5, stride=1, padding=2)\n",
        "        self.conv2 = nn.Conv2d(in_channels=6, out_channels=16, kernel_size=5, stride=1)\n",
        "        self.fc1 = nn.Linear(16 * 5 * 5, 120)  # Fully connected layer 1\n",
        "        self.fc2 = nn.Linear(120, 84)          # Fully connected layer 2\n",
        "        self.fc3 = nn.Linear(84, 10)           # Output layer\n",
        "\n",
        "    def forward(self, x):\n",
        "        x = torch.tanh(self.conv1(x))          # Apply Tanh after Conv1\n",
        "        x = torch.max_pool2d(x, kernel_size=2) # Apply Max Pooling with a kernel size of 2\n",
        "\n",
        "        x = torch.tanh(self.conv2(x))          # Apply Tanh after Conv2\n",
        "        x = torch.max_pool2d(x, kernel_size=2) # Apply Max Pooling with a kernel size of 2\n",
        "\n",
        "        x = x.view(-1, 16 * 5 * 5)             # Flatten the output from the conv layers\n",
        "        x = torch.tanh(self.fc1(x))            # Fully connected layer 1 with Tanh\n",
        "        x = torch.tanh(self.fc2(x))            # Fully connected layer 2 with Tanh\n",
        "        x = self.fc3(x)                        # Output layer (no activation function)\n",
        "        return x\n",
        "\n",
        "# Load and preprocess the dataset (MNIST)\n",
        "transform = transforms.Compose([\n",
        "    transforms.ToTensor(),\n",
        "    transforms.Normalize((0.5,), (0.5,))\n",
        "])\n",
        "\n",
        "trainset = torchvision.datasets.MNIST(root='./data', train=True, download=True, transform=transform)\n",
        "trainloader = torch.utils.data.DataLoader(trainset, batch_size=64, shuffle=True)\n",
        "\n",
        "testset = torchvision.datasets.MNIST(root='./data', train=False, download=True, transform=transform)\n",
        "testloader = torch.utils.data.DataLoader(testset, batch_size=64, shuffle=False)\n",
        "\n",
        "# Initialize the model, loss function, and optimizer\n",
        "model = LeNet5()\n",
        "criterion = nn.CrossEntropyLoss()\n",
        "optimizer = optim.SGD(model.parameters(), lr=0.01, momentum=0.9)\n",
        "\n",
        "# Training the model\n",
        "num_epochs = 10\n",
        "for epoch in range(num_epochs):\n",
        "    running_loss = 0.0\n",
        "    for i, (inputs, labels) in enumerate(trainloader):\n",
        "        optimizer.zero_grad()                 # Zero the parameter gradients\n",
        "\n",
        "        outputs = model(inputs)               # Forward pass\n",
        "        loss = criterion(outputs, labels)     # Compute the loss\n",
        "        loss.backward()                       # Backward pass\n",
        "        optimizer.step()                      # Optimize the weights\n",
        "\n",
        "        running_loss += loss.item()\n",
        "        if i % 100 == 99:    # Print every 100 mini-batches\n",
        "            print(f\"[{epoch + 1}, {i + 1}] loss: {running_loss / 100:.3f}\")\n",
        "            running_loss = 0.0\n",
        "\n",
        "print(\"Training finished.\")\n",
        "\n",
        "# Evaluate the model\n",
        "correct = 0\n",
        "total = 0\n",
        "with torch.no_grad():\n",
        "    for inputs, labels in testloader:\n",
        "        outputs = model(inputs)\n",
        "        _, predicted = torch.max(outputs, 1)\n",
        "        total += labels.size(0)\n",
        "        correct += (predicted == labels).sum().item()\n",
        "\n",
        "print(f\"Accuracy of the network on the 10,000 test images: {100 * correct / total:.2f}%\")"
      ],
      "metadata": {
        "colab": {
          "base_uri": "https://localhost:8080/"
        },
        "id": "E6aYDDJ3Zl_x",
        "outputId": "a76a9dcf-bd19-4e7e-948a-fb9255a8a987"
      },
      "execution_count": 16,
      "outputs": [
        {
          "output_type": "stream",
          "name": "stdout",
          "text": [
            "[1, 100] loss: 1.794\n",
            "[1, 200] loss: 0.497\n",
            "[1, 300] loss: 0.291\n",
            "[1, 400] loss: 0.216\n",
            "[1, 500] loss: 0.172\n",
            "[1, 600] loss: 0.144\n",
            "[1, 700] loss: 0.128\n",
            "[1, 800] loss: 0.113\n",
            "[1, 900] loss: 0.100\n",
            "[2, 100] loss: 0.080\n",
            "[2, 200] loss: 0.082\n",
            "[2, 300] loss: 0.085\n",
            "[2, 400] loss: 0.081\n",
            "[2, 500] loss: 0.088\n",
            "[2, 600] loss: 0.070\n",
            "[2, 700] loss: 0.066\n",
            "[2, 800] loss: 0.059\n",
            "[2, 900] loss: 0.065\n",
            "[3, 100] loss: 0.046\n",
            "[3, 200] loss: 0.051\n",
            "[3, 300] loss: 0.062\n",
            "[3, 400] loss: 0.056\n",
            "[3, 500] loss: 0.048\n",
            "[3, 600] loss: 0.061\n",
            "[3, 700] loss: 0.052\n",
            "[3, 800] loss: 0.051\n",
            "[3, 900] loss: 0.052\n",
            "[4, 100] loss: 0.053\n",
            "[4, 200] loss: 0.037\n",
            "[4, 300] loss: 0.040\n",
            "[4, 400] loss: 0.040\n",
            "[4, 500] loss: 0.040\n",
            "[4, 600] loss: 0.039\n",
            "[4, 700] loss: 0.046\n",
            "[4, 800] loss: 0.040\n",
            "[4, 900] loss: 0.036\n",
            "[5, 100] loss: 0.035\n",
            "[5, 200] loss: 0.037\n",
            "[5, 300] loss: 0.039\n",
            "[5, 400] loss: 0.029\n",
            "[5, 500] loss: 0.035\n",
            "[5, 600] loss: 0.030\n",
            "[5, 700] loss: 0.037\n",
            "[5, 800] loss: 0.035\n",
            "[5, 900] loss: 0.027\n",
            "[6, 100] loss: 0.031\n",
            "[6, 200] loss: 0.025\n",
            "[6, 300] loss: 0.020\n",
            "[6, 400] loss: 0.030\n",
            "[6, 500] loss: 0.032\n",
            "[6, 600] loss: 0.026\n",
            "[6, 700] loss: 0.026\n",
            "[6, 800] loss: 0.028\n",
            "[6, 900] loss: 0.024\n",
            "[7, 100] loss: 0.020\n",
            "[7, 200] loss: 0.019\n",
            "[7, 300] loss: 0.021\n",
            "[7, 400] loss: 0.024\n",
            "[7, 500] loss: 0.024\n",
            "[7, 600] loss: 0.024\n",
            "[7, 700] loss: 0.025\n",
            "[7, 800] loss: 0.025\n",
            "[7, 900] loss: 0.021\n",
            "[8, 100] loss: 0.016\n",
            "[8, 200] loss: 0.022\n",
            "[8, 300] loss: 0.018\n",
            "[8, 400] loss: 0.017\n",
            "[8, 500] loss: 0.022\n",
            "[8, 600] loss: 0.016\n",
            "[8, 700] loss: 0.019\n",
            "[8, 800] loss: 0.019\n",
            "[8, 900] loss: 0.022\n",
            "[9, 100] loss: 0.014\n",
            "[9, 200] loss: 0.018\n",
            "[9, 300] loss: 0.015\n",
            "[9, 400] loss: 0.014\n",
            "[9, 500] loss: 0.013\n",
            "[9, 600] loss: 0.013\n",
            "[9, 700] loss: 0.018\n",
            "[9, 800] loss: 0.014\n",
            "[9, 900] loss: 0.021\n",
            "[10, 100] loss: 0.010\n",
            "[10, 200] loss: 0.010\n",
            "[10, 300] loss: 0.010\n",
            "[10, 400] loss: 0.014\n",
            "[10, 500] loss: 0.016\n",
            "[10, 600] loss: 0.015\n",
            "[10, 700] loss: 0.013\n",
            "[10, 800] loss: 0.018\n",
            "[10, 900] loss: 0.013\n",
            "Training finished.\n",
            "Accuracy of the network on the 10,000 test images: 99.00%\n"
          ]
        }
      ]
    },
    {
      "cell_type": "code",
      "source": [
        "import torch\n",
        "import torch.nn as nn\n",
        "import torch.optim as optim\n",
        "import torchvision\n",
        "import torchvision.transforms as transforms\n",
        "\n",
        "# Define the LeNet-5 model with nn.Sequential\n",
        "class LeNet5(nn.Module):\n",
        "    def __init__(self):\n",
        "        super(LeNet5, self).__init__()\n",
        "        self.layers = nn.Sequential(\n",
        "            nn.Conv2d(in_channels=1, out_channels=6, kernel_size=5, stride=1, padding=2),\n",
        "            nn.Tanh(),\n",
        "            nn.MaxPool2d(kernel_size=2, stride=2),\n",
        "\n",
        "            nn.Conv2d(in_channels=6, out_channels=16, kernel_size=5, stride=1),\n",
        "            nn.Tanh(),\n",
        "            nn.MaxPool2d(kernel_size=2, stride=2),\n",
        "\n",
        "            nn.Flatten(),  # Flatten the tensor for fully connected layers\n",
        "\n",
        "            nn.Linear(16 * 5 * 5, 120),\n",
        "            nn.Tanh(),\n",
        "\n",
        "            nn.Linear(120, 84),\n",
        "            nn.Tanh(),\n",
        "\n",
        "            nn.Linear(84, 10)\n",
        "        )\n",
        "\n",
        "    def forward(self, x):\n",
        "        return self.layers(x)\n",
        "\n",
        "\n",
        "# Initialize the model, loss function, and optimizer\n",
        "model = LeNet5()\n",
        "criterion = nn.CrossEntropyLoss()\n",
        "optimizer = optim.SGD(model.parameters(), lr=0.01, momentum=0.9)\n",
        "\n",
        "# Training the model\n",
        "num_epochs = 10\n",
        "for epoch in range(num_epochs):\n",
        "    running_loss = 0.0\n",
        "    for i, (inputs, labels) in enumerate(trainloader):\n",
        "        optimizer.zero_grad()                 # Zero the parameter gradients\n",
        "\n",
        "        outputs = model(inputs)               # Forward pass\n",
        "        loss = criterion(outputs, labels)     # Compute the loss\n",
        "        loss.backward()                       # Backward pass\n",
        "        optimizer.step()                      # Optimize the weights\n",
        "\n",
        "        running_loss += loss.item()\n",
        "        if i % 100 == 99:    # Print every 100 mini-batches\n",
        "            print(f\"[{epoch + 1}, {i + 1}] loss: {running_loss / 100:.3f}\")\n",
        "            running_loss = 0.0\n",
        "\n",
        "print(\"Training finished.\")\n",
        "\n",
        "# Evaluate the model\n",
        "correct = 0\n",
        "total = 0\n",
        "with torch.no_grad():\n",
        "    for inputs, labels in testloader:\n",
        "        outputs = model(inputs)\n",
        "        _, predicted = torch.max(outputs, 1)\n",
        "        total += labels.size(0)\n",
        "        correct += (predicted == labels).sum().item()\n",
        "\n",
        "print(f\"Accuracy of the network on the 10,000 test images: {100 * correct / total:.2f}%\")"
      ],
      "metadata": {
        "colab": {
          "base_uri": "https://localhost:8080/"
        },
        "id": "OAT0UilFaAqu",
        "outputId": "808d07e2-3c92-4d5a-bdd6-ea2afe001c89"
      },
      "execution_count": 17,
      "outputs": [
        {
          "output_type": "stream",
          "name": "stdout",
          "text": [
            "[1, 100] loss: 1.627\n",
            "[1, 200] loss: 0.450\n",
            "[1, 300] loss: 0.273\n",
            "[1, 400] loss: 0.205\n",
            "[1, 500] loss: 0.154\n",
            "[1, 600] loss: 0.139\n",
            "[1, 700] loss: 0.114\n",
            "[1, 800] loss: 0.103\n",
            "[1, 900] loss: 0.097\n",
            "[2, 100] loss: 0.091\n",
            "[2, 200] loss: 0.081\n",
            "[2, 300] loss: 0.084\n",
            "[2, 400] loss: 0.076\n",
            "[2, 500] loss: 0.075\n",
            "[2, 600] loss: 0.063\n",
            "[2, 700] loss: 0.063\n",
            "[2, 800] loss: 0.057\n",
            "[2, 900] loss: 0.059\n",
            "[3, 100] loss: 0.052\n",
            "[3, 200] loss: 0.051\n",
            "[3, 300] loss: 0.050\n",
            "[3, 400] loss: 0.054\n",
            "[3, 500] loss: 0.051\n",
            "[3, 600] loss: 0.048\n",
            "[3, 700] loss: 0.060\n",
            "[3, 800] loss: 0.045\n",
            "[3, 900] loss: 0.052\n",
            "[4, 100] loss: 0.043\n",
            "[4, 200] loss: 0.039\n",
            "[4, 300] loss: 0.033\n",
            "[4, 400] loss: 0.038\n",
            "[4, 500] loss: 0.042\n",
            "[4, 600] loss: 0.040\n",
            "[4, 700] loss: 0.037\n",
            "[4, 800] loss: 0.048\n",
            "[4, 900] loss: 0.039\n",
            "[5, 100] loss: 0.031\n",
            "[5, 200] loss: 0.038\n",
            "[5, 300] loss: 0.033\n",
            "[5, 400] loss: 0.032\n",
            "[5, 500] loss: 0.040\n",
            "[5, 600] loss: 0.031\n",
            "[5, 700] loss: 0.033\n",
            "[5, 800] loss: 0.025\n",
            "[5, 900] loss: 0.039\n",
            "[6, 100] loss: 0.021\n",
            "[6, 200] loss: 0.025\n",
            "[6, 300] loss: 0.026\n",
            "[6, 400] loss: 0.028\n",
            "[6, 500] loss: 0.027\n",
            "[6, 600] loss: 0.022\n",
            "[6, 700] loss: 0.028\n",
            "[6, 800] loss: 0.030\n",
            "[6, 900] loss: 0.036\n",
            "[7, 100] loss: 0.023\n",
            "[7, 200] loss: 0.025\n",
            "[7, 300] loss: 0.032\n",
            "[7, 400] loss: 0.024\n",
            "[7, 500] loss: 0.023\n",
            "[7, 600] loss: 0.023\n",
            "[7, 700] loss: 0.020\n",
            "[7, 800] loss: 0.020\n",
            "[7, 900] loss: 0.021\n",
            "[8, 100] loss: 0.022\n",
            "[8, 200] loss: 0.020\n",
            "[8, 300] loss: 0.025\n",
            "[8, 400] loss: 0.020\n",
            "[8, 500] loss: 0.016\n",
            "[8, 600] loss: 0.018\n",
            "[8, 700] loss: 0.015\n",
            "[8, 800] loss: 0.023\n",
            "[8, 900] loss: 0.018\n",
            "[9, 100] loss: 0.016\n",
            "[9, 200] loss: 0.015\n",
            "[9, 300] loss: 0.014\n",
            "[9, 400] loss: 0.012\n",
            "[9, 500] loss: 0.015\n",
            "[9, 600] loss: 0.014\n",
            "[9, 700] loss: 0.019\n",
            "[9, 800] loss: 0.019\n",
            "[9, 900] loss: 0.021\n",
            "[10, 100] loss: 0.014\n",
            "[10, 200] loss: 0.012\n",
            "[10, 300] loss: 0.012\n",
            "[10, 400] loss: 0.012\n",
            "[10, 500] loss: 0.012\n",
            "[10, 600] loss: 0.012\n",
            "[10, 700] loss: 0.012\n",
            "[10, 800] loss: 0.018\n",
            "[10, 900] loss: 0.015\n",
            "Training finished.\n",
            "Accuracy of the network on the 10,000 test images: 98.93%\n"
          ]
        }
      ]
    },
    {
      "cell_type": "code",
      "source": [],
      "metadata": {
        "id": "OaNizkaocBPx"
      },
      "execution_count": null,
      "outputs": []
    }
  ]
}