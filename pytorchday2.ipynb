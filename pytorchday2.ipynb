{
  "nbformat": 4,
  "nbformat_minor": 0,
  "metadata": {
    "colab": {
      "provenance": []
    },
    "kernelspec": {
      "name": "python3",
      "display_name": "Python 3"
    },
    "language_info": {
      "name": "python"
    }
  },
  "cells": [
    {
      "cell_type": "code",
      "execution_count": 1,
      "metadata": {
        "id": "OGBJgZD3wEKk"
      },
      "outputs": [],
      "source": [
        "import torch"
      ]
    },
    {
      "cell_type": "code",
      "source": [
        "y = torch.tensor([[[1,2,4]],\n",
        "              [[3,45,5]]\n",
        "              ])"
      ],
      "metadata": {
        "id": "ziqpkPqVwUAG"
      },
      "execution_count": 3,
      "outputs": []
    },
    {
      "cell_type": "code",
      "source": [
        "y"
      ],
      "metadata": {
        "colab": {
          "base_uri": "https://localhost:8080/"
        },
        "id": "UdKP-GgZwrKC",
        "outputId": "061afbb6-29a0-4a70-f5bf-abbd415264fa"
      },
      "execution_count": 4,
      "outputs": [
        {
          "output_type": "execute_result",
          "data": {
            "text/plain": [
              "tensor([[[ 1,  2,  4]],\n",
              "\n",
              "        [[ 3, 45,  5]]])"
            ]
          },
          "metadata": {},
          "execution_count": 4
        }
      ]
    },
    {
      "cell_type": "code",
      "source": [
        "y.shape"
      ],
      "metadata": {
        "colab": {
          "base_uri": "https://localhost:8080/"
        },
        "id": "h2RHbTA5wvDt",
        "outputId": "76f2eb4e-79da-4869-da03-0e3250dd3604"
      },
      "execution_count": 5,
      "outputs": [
        {
          "output_type": "execute_result",
          "data": {
            "text/plain": [
              "torch.Size([2, 1, 3])"
            ]
          },
          "metadata": {},
          "execution_count": 5
        }
      ]
    },
    {
      "cell_type": "code",
      "source": [
        "y.ndim"
      ],
      "metadata": {
        "colab": {
          "base_uri": "https://localhost:8080/"
        },
        "id": "IWSpcTm2w0DF",
        "outputId": "a5a5aa7c-12ec-4ebe-ee7f-e4d8f260b2bd"
      },
      "execution_count": 6,
      "outputs": [
        {
          "output_type": "execute_result",
          "data": {
            "text/plain": [
              "3"
            ]
          },
          "metadata": {},
          "execution_count": 6
        }
      ]
    },
    {
      "cell_type": "code",
      "source": [
        "y[1,0,1]"
      ],
      "metadata": {
        "colab": {
          "base_uri": "https://localhost:8080/"
        },
        "id": "ZNksgt32w3o5",
        "outputId": "ac26d904-18f6-40e2-a785-99877fda1a97"
      },
      "execution_count": 9,
      "outputs": [
        {
          "output_type": "execute_result",
          "data": {
            "text/plain": [
              "tensor(45)"
            ]
          },
          "metadata": {},
          "execution_count": 9
        }
      ]
    },
    {
      "cell_type": "markdown",
      "source": [
        "### random tensors"
      ],
      "metadata": {
        "id": "GmymI-eXxmBx"
      }
    },
    {
      "cell_type": "code",
      "source": [
        "random_tensor = torch.rand(2,2,2,2)"
      ],
      "metadata": {
        "id": "0L-YTSk8x-H9"
      },
      "execution_count": 26,
      "outputs": []
    },
    {
      "cell_type": "code",
      "source": [
        "random_tensor"
      ],
      "metadata": {
        "colab": {
          "base_uri": "https://localhost:8080/"
        },
        "id": "YRPJdYoWyMNb",
        "outputId": "3bfd766e-d388-490e-a272-ed7128c14ff0"
      },
      "execution_count": 27,
      "outputs": [
        {
          "output_type": "execute_result",
          "data": {
            "text/plain": [
              "tensor([[[[0.0809, 0.7514],\n",
              "          [0.9438, 0.3524]],\n",
              "\n",
              "         [[0.7963, 0.5066],\n",
              "          [0.0027, 0.3661]]],\n",
              "\n",
              "\n",
              "        [[[0.5038, 0.6354],\n",
              "          [0.0780, 0.7383]],\n",
              "\n",
              "         [[0.5322, 0.8737],\n",
              "          [0.3243, 0.3196]]]])"
            ]
          },
          "metadata": {},
          "execution_count": 27
        }
      ]
    },
    {
      "cell_type": "code",
      "source": [
        "random_tensor.ndim"
      ],
      "metadata": {
        "colab": {
          "base_uri": "https://localhost:8080/"
        },
        "id": "toTOAW5DyNuy",
        "outputId": "ac83eeb6-a518-43d2-a1ab-926d1fcdc494"
      },
      "execution_count": 28,
      "outputs": [
        {
          "output_type": "execute_result",
          "data": {
            "text/plain": [
              "4"
            ]
          },
          "metadata": {},
          "execution_count": 28
        }
      ]
    },
    {
      "cell_type": "code",
      "source": [
        "random_tensor.shape"
      ],
      "metadata": {
        "colab": {
          "base_uri": "https://localhost:8080/"
        },
        "id": "zKgT9ZpkynEJ",
        "outputId": "0a5fa14d-09bb-4f8c-ca2a-98456c0b89a3"
      },
      "execution_count": 30,
      "outputs": [
        {
          "output_type": "execute_result",
          "data": {
            "text/plain": [
              "torch.Size([2, 2, 2, 2])"
            ]
          },
          "metadata": {},
          "execution_count": 30
        }
      ]
    },
    {
      "cell_type": "code",
      "source": [
        "random_tensor[1,0,0:1,1]"
      ],
      "metadata": {
        "colab": {
          "base_uri": "https://localhost:8080/"
        },
        "id": "zKI6QJtUyvd3",
        "outputId": "d288f14c-4c8a-4f27-ab82-18b06e2bc22a"
      },
      "execution_count": 38,
      "outputs": [
        {
          "output_type": "execute_result",
          "data": {
            "text/plain": [
              "tensor([0.6354])"
            ]
          },
          "metadata": {},
          "execution_count": 38
        }
      ]
    },
    {
      "cell_type": "code",
      "source": [
        "random_image_tensor = torch.rand(size=(224,224,3)) # height, width, color channels\n",
        "random_image_tensor"
      ],
      "metadata": {
        "colab": {
          "base_uri": "https://localhost:8080/"
        },
        "id": "WY-hxcN5zQHA",
        "outputId": "f2243e34-437a-498d-f4cb-ea6acf8abcd0"
      },
      "execution_count": 40,
      "outputs": [
        {
          "output_type": "execute_result",
          "data": {
            "text/plain": [
              "tensor([[[0.9381, 0.8753, 0.8284],\n",
              "         [0.3512, 0.6663, 0.7385],\n",
              "         [0.8442, 0.0332, 0.9306],\n",
              "         ...,\n",
              "         [0.4622, 0.9551, 0.6538],\n",
              "         [0.1841, 0.4612, 0.9868],\n",
              "         [0.6807, 0.8378, 0.0888]],\n",
              "\n",
              "        [[0.4128, 0.4074, 0.7579],\n",
              "         [0.7155, 0.8988, 0.1615],\n",
              "         [0.6119, 0.6817, 0.5171],\n",
              "         ...,\n",
              "         [0.9752, 0.6702, 0.5712],\n",
              "         [0.9720, 0.5762, 0.2468],\n",
              "         [0.7347, 0.2108, 0.7254]],\n",
              "\n",
              "        [[0.9970, 0.8212, 0.1195],\n",
              "         [0.5863, 0.1404, 0.3902],\n",
              "         [0.1874, 0.5502, 0.4156],\n",
              "         ...,\n",
              "         [0.4704, 0.6859, 0.7491],\n",
              "         [0.5535, 0.6165, 0.0486],\n",
              "         [0.7363, 0.8463, 0.8852]],\n",
              "\n",
              "        ...,\n",
              "\n",
              "        [[0.9948, 0.8310, 0.5666],\n",
              "         [0.0163, 0.9989, 0.0801],\n",
              "         [0.9167, 0.2758, 0.6655],\n",
              "         ...,\n",
              "         [0.3304, 0.9478, 0.1759],\n",
              "         [0.3232, 0.2111, 0.5930],\n",
              "         [0.5035, 0.7676, 0.0779]],\n",
              "\n",
              "        [[0.5129, 0.0481, 0.6266],\n",
              "         [0.1919, 0.6150, 0.8617],\n",
              "         [0.2617, 0.6893, 0.0094],\n",
              "         ...,\n",
              "         [0.8292, 0.9802, 0.8913],\n",
              "         [0.4834, 0.7885, 0.2922],\n",
              "         [0.2419, 0.4083, 0.2464]],\n",
              "\n",
              "        [[0.6324, 0.1397, 0.1179],\n",
              "         [0.4644, 0.5732, 0.4441],\n",
              "         [0.0977, 0.7273, 0.2498],\n",
              "         ...,\n",
              "         [0.8746, 0.8172, 0.7819],\n",
              "         [0.9300, 0.8306, 0.5473],\n",
              "         [0.6523, 0.9126, 0.0955]]])"
            ]
          },
          "metadata": {},
          "execution_count": 40
        }
      ]
    },
    {
      "cell_type": "code",
      "source": [
        "random_image_tensor.shape"
      ],
      "metadata": {
        "colab": {
          "base_uri": "https://localhost:8080/"
        },
        "id": "kVuEc_E_3YE0",
        "outputId": "558f2b0d-3047-4b8b-aeed-c8e1d140b14e"
      },
      "execution_count": 41,
      "outputs": [
        {
          "output_type": "execute_result",
          "data": {
            "text/plain": [
              "torch.Size([224, 224, 3])"
            ]
          },
          "metadata": {},
          "execution_count": 41
        }
      ]
    },
    {
      "cell_type": "code",
      "source": [
        "random_image_tensor.ndim"
      ],
      "metadata": {
        "colab": {
          "base_uri": "https://localhost:8080/"
        },
        "id": "F7756D583erj",
        "outputId": "5a61f58e-1bbe-46da-db2d-efd63b32a238"
      },
      "execution_count": 42,
      "outputs": [
        {
          "output_type": "execute_result",
          "data": {
            "text/plain": [
              "3"
            ]
          },
          "metadata": {},
          "execution_count": 42
        }
      ]
    },
    {
      "cell_type": "markdown",
      "source": [
        "### zeros and ones"
      ],
      "metadata": {
        "id": "_T1M1mG84ZUc"
      }
    },
    {
      "cell_type": "code",
      "source": [
        "random_tensor = torch.rand(size=(3,4))\n",
        "random_tensor\n",
        "zeros = torch.zeros(size=(3,4))\n",
        "zeros"
      ],
      "metadata": {
        "colab": {
          "base_uri": "https://localhost:8080/"
        },
        "id": "UgY0PZWd3hQb",
        "outputId": "35505a00-1bc1-4f24-bb0d-370fd380721c"
      },
      "execution_count": 51,
      "outputs": [
        {
          "output_type": "execute_result",
          "data": {
            "text/plain": [
              "tensor([[0., 0., 0., 0.],\n",
              "        [0., 0., 0., 0.],\n",
              "        [0., 0., 0., 0.]])"
            ]
          },
          "metadata": {},
          "execution_count": 51
        }
      ]
    },
    {
      "cell_type": "code",
      "source": [
        "torch.ones(size=(3,4))"
      ],
      "metadata": {
        "colab": {
          "base_uri": "https://localhost:8080/"
        },
        "id": "_15e85M33kha",
        "outputId": "052bc47a-8877-4f28-c049-bbdbdcc06e9e"
      },
      "execution_count": 52,
      "outputs": [
        {
          "output_type": "execute_result",
          "data": {
            "text/plain": [
              "tensor([[1., 1., 1., 1.],\n",
              "        [1., 1., 1., 1.],\n",
              "        [1., 1., 1., 1.]])"
            ]
          },
          "metadata": {},
          "execution_count": 52
        }
      ]
    },
    {
      "cell_type": "code",
      "source": [
        "zeros*random_tensor"
      ],
      "metadata": {
        "colab": {
          "base_uri": "https://localhost:8080/"
        },
        "id": "n44YDbsZ4sYn",
        "outputId": "d7b059d7-5c6c-4790-fdaf-fa3931e6a10f"
      },
      "execution_count": 53,
      "outputs": [
        {
          "output_type": "execute_result",
          "data": {
            "text/plain": [
              "tensor([[0., 0., 0., 0.],\n",
              "        [0., 0., 0., 0.],\n",
              "        [0., 0., 0., 0.]])"
            ]
          },
          "metadata": {},
          "execution_count": 53
        }
      ]
    },
    {
      "cell_type": "markdown",
      "source": [
        "### range"
      ],
      "metadata": {
        "id": "Sdfw-hMhE3Os"
      }
    },
    {
      "cell_type": "code",
      "source": [
        "torch.arange(0,10).reshape(5,2)"
      ],
      "metadata": {
        "colab": {
          "base_uri": "https://localhost:8080/"
        },
        "id": "GBbKhTm44yvy",
        "outputId": "3a3ba72b-8c22-4b9e-86bd-e1818ff7bb56"
      },
      "execution_count": 56,
      "outputs": [
        {
          "output_type": "execute_result",
          "data": {
            "text/plain": [
              "tensor([[0, 1],\n",
              "        [2, 3],\n",
              "        [4, 5],\n",
              "        [6, 7],\n",
              "        [8, 9]])"
            ]
          },
          "metadata": {},
          "execution_count": 56
        }
      ]
    },
    {
      "cell_type": "code",
      "source": [
        "torch.arange(0,10,2)"
      ],
      "metadata": {
        "colab": {
          "base_uri": "https://localhost:8080/"
        },
        "id": "iW2R7bYFE-F8",
        "outputId": "125753f4-6a0b-4142-d63a-e526118d0764"
      },
      "execution_count": 57,
      "outputs": [
        {
          "output_type": "execute_result",
          "data": {
            "text/plain": [
              "tensor([0, 2, 4, 6, 8])"
            ]
          },
          "metadata": {},
          "execution_count": 57
        }
      ]
    },
    {
      "cell_type": "code",
      "source": [
        "Arange = torch.arange(start=10,end=100,step=10)"
      ],
      "metadata": {
        "id": "wEZ6YbcTICCI"
      },
      "execution_count": 59,
      "outputs": []
    },
    {
      "cell_type": "code",
      "source": [
        "Arange"
      ],
      "metadata": {
        "colab": {
          "base_uri": "https://localhost:8080/"
        },
        "id": "dl6IDYM8IRj8",
        "outputId": "06675414-a310-4798-99be-42721deb30fa"
      },
      "execution_count": 60,
      "outputs": [
        {
          "output_type": "execute_result",
          "data": {
            "text/plain": [
              "tensor([10, 20, 30, 40, 50, 60, 70, 80, 90])"
            ]
          },
          "metadata": {},
          "execution_count": 60
        }
      ]
    },
    {
      "cell_type": "code",
      "source": [
        "torch.zeros_like(Arange)"
      ],
      "metadata": {
        "colab": {
          "base_uri": "https://localhost:8080/"
        },
        "id": "zuENHHvQJfJF",
        "outputId": "8606fa58-efbb-4566-b0c3-49e5b8c64576"
      },
      "execution_count": 61,
      "outputs": [
        {
          "output_type": "execute_result",
          "data": {
            "text/plain": [
              "tensor([0, 0, 0, 0, 0, 0, 0, 0, 0])"
            ]
          },
          "metadata": {},
          "execution_count": 61
        }
      ]
    },
    {
      "cell_type": "code",
      "source": [
        "torch.zeros_like(input = Arange)"
      ],
      "metadata": {
        "colab": {
          "base_uri": "https://localhost:8080/"
        },
        "id": "z7v__VWYJjy8",
        "outputId": "b61e55c6-e516-4587-8313-2a6dac5efcf0"
      },
      "execution_count": 62,
      "outputs": [
        {
          "output_type": "execute_result",
          "data": {
            "text/plain": [
              "tensor([0, 0, 0, 0, 0, 0, 0, 0, 0])"
            ]
          },
          "metadata": {},
          "execution_count": 62
        }
      ]
    },
    {
      "cell_type": "code",
      "source": [],
      "metadata": {
        "id": "e7fGfxVmJmd3"
      },
      "execution_count": null,
      "outputs": []
    }
  ]
}