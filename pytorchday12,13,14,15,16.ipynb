{
  "nbformat": 4,
  "nbformat_minor": 0,
  "metadata": {
    "colab": {
      "provenance": []
    },
    "kernelspec": {
      "name": "python3",
      "display_name": "Python 3"
    },
    "language_info": {
      "name": "python"
    }
  },
  "cells": [
    {
      "cell_type": "markdown",
      "source": [
        "## `Classification`"
      ],
      "metadata": {
        "id": "WOsHcLaNoKXP"
      }
    },
    {
      "cell_type": "markdown",
      "source": [
        "### `Importing Libraries`"
      ],
      "metadata": {
        "id": "WU-g3r6e9P9Y"
      }
    },
    {
      "cell_type": "code",
      "source": [
        "import pandas as pd\n",
        "import seaborn as sns\n",
        "import numpy as np\n",
        "import matplotlib.pyplot as plt\n",
        "from sklearn.datasets import make_circles\n",
        "import torch\n",
        "from torch import nn"
      ],
      "metadata": {
        "id": "umORIfTw9Mug"
      },
      "execution_count": null,
      "outputs": []
    },
    {
      "cell_type": "markdown",
      "source": [
        "## `Data Generation`"
      ],
      "metadata": {
        "id": "J-OrcWRbpGl3"
      }
    },
    {
      "cell_type": "code",
      "source": [
        "### 1000 samples\n",
        "n_samples = 1000\n",
        "### creating dataset with added noise\n",
        "X, y = make_circles(n_samples=n_samples, noise=0.03, random_state=42)"
      ],
      "metadata": {
        "id": "06srJCRVnwnn"
      },
      "execution_count": null,
      "outputs": []
    },
    {
      "cell_type": "code",
      "source": [
        "len(X), len(y)"
      ],
      "metadata": {
        "colab": {
          "base_uri": "https://localhost:8080/"
        },
        "id": "uX6c9dAAnwkb",
        "outputId": "38aba8ae-6c42-4d01-8baf-98d0028558dc"
      },
      "execution_count": null,
      "outputs": [
        {
          "output_type": "execute_result",
          "data": {
            "text/plain": [
              "(1000, 1000)"
            ]
          },
          "metadata": {},
          "execution_count": 57
        }
      ]
    },
    {
      "cell_type": "code",
      "source": [
        "print(f\"First five samples of X:\\n {X[:5]}\")\n",
        "print(f\"First five samples of y:\\n {y[:5]}\")"
      ],
      "metadata": {
        "colab": {
          "base_uri": "https://localhost:8080/"
        },
        "id": "ma24IeYBpkV3",
        "outputId": "bc04ab54-7dc3-4fd0-a680-59fc08178c11"
      },
      "execution_count": null,
      "outputs": [
        {
          "output_type": "stream",
          "name": "stdout",
          "text": [
            "First five samples of X:\n",
            " [[ 0.75424625  0.23148074]\n",
            " [-0.75615888  0.15325888]\n",
            " [-0.81539193  0.17328203]\n",
            " [-0.39373073  0.69288277]\n",
            " [ 0.44220765 -0.89672343]]\n",
            "First five samples of y:\n",
            " [1 1 1 1 0]\n"
          ]
        }
      ]
    },
    {
      "cell_type": "code",
      "source": [
        "circles = pd.DataFrame({\"X0\": X[:, 0], \"X1\": X[:, 1], \"label\": y})\n",
        "circles.head()"
      ],
      "metadata": {
        "colab": {
          "base_uri": "https://localhost:8080/",
          "height": 206
        },
        "id": "YU9L4XVSprDc",
        "outputId": "37498891-1001-4132-f4f3-16f20ff006df"
      },
      "execution_count": null,
      "outputs": [
        {
          "output_type": "execute_result",
          "data": {
            "text/plain": [
              "         X0        X1  label\n",
              "0  0.754246  0.231481      1\n",
              "1 -0.756159  0.153259      1\n",
              "2 -0.815392  0.173282      1\n",
              "3 -0.393731  0.692883      1\n",
              "4  0.442208 -0.896723      0"
            ],
            "text/html": [
              "\n",
              "  <div id=\"df-a070699d-7615-4140-8080-ed90bba52a39\" class=\"colab-df-container\">\n",
              "    <div>\n",
              "<style scoped>\n",
              "    .dataframe tbody tr th:only-of-type {\n",
              "        vertical-align: middle;\n",
              "    }\n",
              "\n",
              "    .dataframe tbody tr th {\n",
              "        vertical-align: top;\n",
              "    }\n",
              "\n",
              "    .dataframe thead th {\n",
              "        text-align: right;\n",
              "    }\n",
              "</style>\n",
              "<table border=\"1\" class=\"dataframe\">\n",
              "  <thead>\n",
              "    <tr style=\"text-align: right;\">\n",
              "      <th></th>\n",
              "      <th>X0</th>\n",
              "      <th>X1</th>\n",
              "      <th>label</th>\n",
              "    </tr>\n",
              "  </thead>\n",
              "  <tbody>\n",
              "    <tr>\n",
              "      <th>0</th>\n",
              "      <td>0.754246</td>\n",
              "      <td>0.231481</td>\n",
              "      <td>1</td>\n",
              "    </tr>\n",
              "    <tr>\n",
              "      <th>1</th>\n",
              "      <td>-0.756159</td>\n",
              "      <td>0.153259</td>\n",
              "      <td>1</td>\n",
              "    </tr>\n",
              "    <tr>\n",
              "      <th>2</th>\n",
              "      <td>-0.815392</td>\n",
              "      <td>0.173282</td>\n",
              "      <td>1</td>\n",
              "    </tr>\n",
              "    <tr>\n",
              "      <th>3</th>\n",
              "      <td>-0.393731</td>\n",
              "      <td>0.692883</td>\n",
              "      <td>1</td>\n",
              "    </tr>\n",
              "    <tr>\n",
              "      <th>4</th>\n",
              "      <td>0.442208</td>\n",
              "      <td>-0.896723</td>\n",
              "      <td>0</td>\n",
              "    </tr>\n",
              "  </tbody>\n",
              "</table>\n",
              "</div>\n",
              "    <div class=\"colab-df-buttons\">\n",
              "\n",
              "  <div class=\"colab-df-container\">\n",
              "    <button class=\"colab-df-convert\" onclick=\"convertToInteractive('df-a070699d-7615-4140-8080-ed90bba52a39')\"\n",
              "            title=\"Convert this dataframe to an interactive table.\"\n",
              "            style=\"display:none;\">\n",
              "\n",
              "  <svg xmlns=\"http://www.w3.org/2000/svg\" height=\"24px\" viewBox=\"0 -960 960 960\">\n",
              "    <path d=\"M120-120v-720h720v720H120Zm60-500h600v-160H180v160Zm220 220h160v-160H400v160Zm0 220h160v-160H400v160ZM180-400h160v-160H180v160Zm440 0h160v-160H620v160ZM180-180h160v-160H180v160Zm440 0h160v-160H620v160Z\"/>\n",
              "  </svg>\n",
              "    </button>\n",
              "\n",
              "  <style>\n",
              "    .colab-df-container {\n",
              "      display:flex;\n",
              "      gap: 12px;\n",
              "    }\n",
              "\n",
              "    .colab-df-convert {\n",
              "      background-color: #E8F0FE;\n",
              "      border: none;\n",
              "      border-radius: 50%;\n",
              "      cursor: pointer;\n",
              "      display: none;\n",
              "      fill: #1967D2;\n",
              "      height: 32px;\n",
              "      padding: 0 0 0 0;\n",
              "      width: 32px;\n",
              "    }\n",
              "\n",
              "    .colab-df-convert:hover {\n",
              "      background-color: #E2EBFA;\n",
              "      box-shadow: 0px 1px 2px rgba(60, 64, 67, 0.3), 0px 1px 3px 1px rgba(60, 64, 67, 0.15);\n",
              "      fill: #174EA6;\n",
              "    }\n",
              "\n",
              "    .colab-df-buttons div {\n",
              "      margin-bottom: 4px;\n",
              "    }\n",
              "\n",
              "    [theme=dark] .colab-df-convert {\n",
              "      background-color: #3B4455;\n",
              "      fill: #D2E3FC;\n",
              "    }\n",
              "\n",
              "    [theme=dark] .colab-df-convert:hover {\n",
              "      background-color: #434B5C;\n",
              "      box-shadow: 0px 1px 3px 1px rgba(0, 0, 0, 0.15);\n",
              "      filter: drop-shadow(0px 1px 2px rgba(0, 0, 0, 0.3));\n",
              "      fill: #FFFFFF;\n",
              "    }\n",
              "  </style>\n",
              "\n",
              "    <script>\n",
              "      const buttonEl =\n",
              "        document.querySelector('#df-a070699d-7615-4140-8080-ed90bba52a39 button.colab-df-convert');\n",
              "      buttonEl.style.display =\n",
              "        google.colab.kernel.accessAllowed ? 'block' : 'none';\n",
              "\n",
              "      async function convertToInteractive(key) {\n",
              "        const element = document.querySelector('#df-a070699d-7615-4140-8080-ed90bba52a39');\n",
              "        const dataTable =\n",
              "          await google.colab.kernel.invokeFunction('convertToInteractive',\n",
              "                                                    [key], {});\n",
              "        if (!dataTable) return;\n",
              "\n",
              "        const docLinkHtml = 'Like what you see? Visit the ' +\n",
              "          '<a target=\"_blank\" href=https://colab.research.google.com/notebooks/data_table.ipynb>data table notebook</a>'\n",
              "          + ' to learn more about interactive tables.';\n",
              "        element.innerHTML = '';\n",
              "        dataTable['output_type'] = 'display_data';\n",
              "        await google.colab.output.renderOutput(dataTable, element);\n",
              "        const docLink = document.createElement('div');\n",
              "        docLink.innerHTML = docLinkHtml;\n",
              "        element.appendChild(docLink);\n",
              "      }\n",
              "    </script>\n",
              "  </div>\n",
              "\n",
              "\n",
              "<div id=\"df-e1ce4b0f-becd-46d4-bdef-d69455db8c19\">\n",
              "  <button class=\"colab-df-quickchart\" onclick=\"quickchart('df-e1ce4b0f-becd-46d4-bdef-d69455db8c19')\"\n",
              "            title=\"Suggest charts\"\n",
              "            style=\"display:none;\">\n",
              "\n",
              "<svg xmlns=\"http://www.w3.org/2000/svg\" height=\"24px\"viewBox=\"0 0 24 24\"\n",
              "     width=\"24px\">\n",
              "    <g>\n",
              "        <path d=\"M19 3H5c-1.1 0-2 .9-2 2v14c0 1.1.9 2 2 2h14c1.1 0 2-.9 2-2V5c0-1.1-.9-2-2-2zM9 17H7v-7h2v7zm4 0h-2V7h2v10zm4 0h-2v-4h2v4z\"/>\n",
              "    </g>\n",
              "</svg>\n",
              "  </button>\n",
              "\n",
              "<style>\n",
              "  .colab-df-quickchart {\n",
              "      --bg-color: #E8F0FE;\n",
              "      --fill-color: #1967D2;\n",
              "      --hover-bg-color: #E2EBFA;\n",
              "      --hover-fill-color: #174EA6;\n",
              "      --disabled-fill-color: #AAA;\n",
              "      --disabled-bg-color: #DDD;\n",
              "  }\n",
              "\n",
              "  [theme=dark] .colab-df-quickchart {\n",
              "      --bg-color: #3B4455;\n",
              "      --fill-color: #D2E3FC;\n",
              "      --hover-bg-color: #434B5C;\n",
              "      --hover-fill-color: #FFFFFF;\n",
              "      --disabled-bg-color: #3B4455;\n",
              "      --disabled-fill-color: #666;\n",
              "  }\n",
              "\n",
              "  .colab-df-quickchart {\n",
              "    background-color: var(--bg-color);\n",
              "    border: none;\n",
              "    border-radius: 50%;\n",
              "    cursor: pointer;\n",
              "    display: none;\n",
              "    fill: var(--fill-color);\n",
              "    height: 32px;\n",
              "    padding: 0;\n",
              "    width: 32px;\n",
              "  }\n",
              "\n",
              "  .colab-df-quickchart:hover {\n",
              "    background-color: var(--hover-bg-color);\n",
              "    box-shadow: 0 1px 2px rgba(60, 64, 67, 0.3), 0 1px 3px 1px rgba(60, 64, 67, 0.15);\n",
              "    fill: var(--button-hover-fill-color);\n",
              "  }\n",
              "\n",
              "  .colab-df-quickchart-complete:disabled,\n",
              "  .colab-df-quickchart-complete:disabled:hover {\n",
              "    background-color: var(--disabled-bg-color);\n",
              "    fill: var(--disabled-fill-color);\n",
              "    box-shadow: none;\n",
              "  }\n",
              "\n",
              "  .colab-df-spinner {\n",
              "    border: 2px solid var(--fill-color);\n",
              "    border-color: transparent;\n",
              "    border-bottom-color: var(--fill-color);\n",
              "    animation:\n",
              "      spin 1s steps(1) infinite;\n",
              "  }\n",
              "\n",
              "  @keyframes spin {\n",
              "    0% {\n",
              "      border-color: transparent;\n",
              "      border-bottom-color: var(--fill-color);\n",
              "      border-left-color: var(--fill-color);\n",
              "    }\n",
              "    20% {\n",
              "      border-color: transparent;\n",
              "      border-left-color: var(--fill-color);\n",
              "      border-top-color: var(--fill-color);\n",
              "    }\n",
              "    30% {\n",
              "      border-color: transparent;\n",
              "      border-left-color: var(--fill-color);\n",
              "      border-top-color: var(--fill-color);\n",
              "      border-right-color: var(--fill-color);\n",
              "    }\n",
              "    40% {\n",
              "      border-color: transparent;\n",
              "      border-right-color: var(--fill-color);\n",
              "      border-top-color: var(--fill-color);\n",
              "    }\n",
              "    60% {\n",
              "      border-color: transparent;\n",
              "      border-right-color: var(--fill-color);\n",
              "    }\n",
              "    80% {\n",
              "      border-color: transparent;\n",
              "      border-right-color: var(--fill-color);\n",
              "      border-bottom-color: var(--fill-color);\n",
              "    }\n",
              "    90% {\n",
              "      border-color: transparent;\n",
              "      border-bottom-color: var(--fill-color);\n",
              "    }\n",
              "  }\n",
              "</style>\n",
              "\n",
              "  <script>\n",
              "    async function quickchart(key) {\n",
              "      const quickchartButtonEl =\n",
              "        document.querySelector('#' + key + ' button');\n",
              "      quickchartButtonEl.disabled = true;  // To prevent multiple clicks.\n",
              "      quickchartButtonEl.classList.add('colab-df-spinner');\n",
              "      try {\n",
              "        const charts = await google.colab.kernel.invokeFunction(\n",
              "            'suggestCharts', [key], {});\n",
              "      } catch (error) {\n",
              "        console.error('Error during call to suggestCharts:', error);\n",
              "      }\n",
              "      quickchartButtonEl.classList.remove('colab-df-spinner');\n",
              "      quickchartButtonEl.classList.add('colab-df-quickchart-complete');\n",
              "    }\n",
              "    (() => {\n",
              "      let quickchartButtonEl =\n",
              "        document.querySelector('#df-e1ce4b0f-becd-46d4-bdef-d69455db8c19 button');\n",
              "      quickchartButtonEl.style.display =\n",
              "        google.colab.kernel.accessAllowed ? 'block' : 'none';\n",
              "    })();\n",
              "  </script>\n",
              "</div>\n",
              "\n",
              "    </div>\n",
              "  </div>\n"
            ],
            "application/vnd.google.colaboratory.intrinsic+json": {
              "type": "dataframe",
              "variable_name": "circles",
              "summary": "{\n  \"name\": \"circles\",\n  \"rows\": 1000,\n  \"fields\": [\n    {\n      \"column\": \"X0\",\n      \"properties\": {\n        \"dtype\": \"number\",\n        \"std\": 0.6398365674574613,\n        \"min\": -1.0595024599098635,\n        \"max\": 1.0337117525463373,\n        \"num_unique_values\": 1000,\n        \"samples\": [\n          -0.3751930206933384,\n          0.015380346701456493,\n          -0.7027835978832848\n        ],\n        \"semantic_type\": \"\",\n        \"description\": \"\"\n      }\n    },\n    {\n      \"column\": \"X1\",\n      \"properties\": {\n        \"dtype\": \"number\",\n        \"std\": 0.6411559581015384,\n        \"min\": -1.0677683182718436,\n        \"max\": 1.0360036756154805,\n        \"num_unique_values\": 1000,\n        \"samples\": [\n          0.6826597225888621,\n          0.9600260220697324,\n          -0.3147169925147762\n        ],\n        \"semantic_type\": \"\",\n        \"description\": \"\"\n      }\n    },\n    {\n      \"column\": \"label\",\n      \"properties\": {\n        \"dtype\": \"number\",\n        \"std\": 0,\n        \"min\": 0,\n        \"max\": 1,\n        \"num_unique_values\": 2,\n        \"samples\": [\n          0,\n          1\n        ],\n        \"semantic_type\": \"\",\n        \"description\": \"\"\n      }\n    }\n  ]\n}"
            }
          },
          "metadata": {},
          "execution_count": 59
        }
      ]
    },
    {
      "cell_type": "code",
      "source": [
        "circles.columns"
      ],
      "metadata": {
        "colab": {
          "base_uri": "https://localhost:8080/"
        },
        "id": "TULbKAxPLWyc",
        "outputId": "6883bf0e-5712-42a2-cbcc-f1354c3fd6e0"
      },
      "execution_count": null,
      "outputs": [
        {
          "output_type": "execute_result",
          "data": {
            "text/plain": [
              "Index(['X0', 'X1', 'label'], dtype='object')"
            ]
          },
          "metadata": {},
          "execution_count": 60
        }
      ]
    },
    {
      "cell_type": "code",
      "source": [
        "plt.figure(figsize=(12,6))\n",
        "plt.scatter(x=X[:,0],y=X[:,1],c=y,cmap=plt.cm.RdYlBu)\n",
        "plt.show()"
      ],
      "metadata": {
        "colab": {
          "base_uri": "https://localhost:8080/",
          "height": 345
        },
        "id": "qQxxASqdqJWp",
        "outputId": "ca0ad6bb-6756-45d6-fa1b-38eabe12272e"
      },
      "execution_count": null,
      "outputs": [
        {
          "output_type": "display_data",
          "data": {
            "text/plain": [
              "<Figure size 1200x600 with 1 Axes>"
            ],
            "image/png": "[encoded data removed]"
          },
          "metadata": {}
        }
      ]
    },
    {
      "cell_type": "code",
      "source": [
        "torch.__version__"
      ],
      "metadata": {
        "id": "BNEGbzvkstEc",
        "colab": {
          "base_uri": "https://localhost:8080/",
          "height": 36
        },
        "outputId": "59b6baf8-0eb9-4a80-a15d-23fb0c0d1a2c"
      },
      "execution_count": null,
      "outputs": [
        {
          "output_type": "execute_result",
          "data": {
            "text/plain": [
              "'2.4.0+cu121'"
            ],
            "application/vnd.google.colaboratory.intrinsic+json": {
              "type": "string"
            }
          },
          "metadata": {},
          "execution_count": 62
        }
      ]
    },
    {
      "cell_type": "markdown",
      "source": [
        "### `Device Agnostic Code`"
      ],
      "metadata": {
        "id": "YJILk0Yz9CKY"
      }
    },
    {
      "cell_type": "code",
      "source": [
        "device = \"cuda\" if torch.cuda.is_available() else \"cpu\"\n",
        "device"
      ],
      "metadata": {
        "colab": {
          "base_uri": "https://localhost:8080/",
          "height": 36
        },
        "id": "QBRfjwzB86_6",
        "outputId": "fda12382-1270-4a9b-aaa6-d02987b91a95"
      },
      "execution_count": null,
      "outputs": [
        {
          "output_type": "execute_result",
          "data": {
            "text/plain": [
              "'cpu'"
            ],
            "application/vnd.google.colaboratory.intrinsic+json": {
              "type": "string"
            }
          },
          "metadata": {},
          "execution_count": 63
        }
      ]
    },
    {
      "cell_type": "code",
      "source": [
        "X.shape, y.shape"
      ],
      "metadata": {
        "colab": {
          "base_uri": "https://localhost:8080/"
        },
        "id": "1Zvgi57l9ruK",
        "outputId": "12a7de9a-64b8-4f80-8944-869b8e8d8718"
      },
      "execution_count": null,
      "outputs": [
        {
          "output_type": "execute_result",
          "data": {
            "text/plain": [
              "((1000, 2), (1000,))"
            ]
          },
          "metadata": {},
          "execution_count": 64
        }
      ]
    },
    {
      "cell_type": "markdown",
      "source": [
        "### `Converting our data to Tensors`"
      ],
      "metadata": {
        "id": "rTqu-NhJ-ERY"
      }
    },
    {
      "cell_type": "code",
      "source": [
        "X = torch.from_numpy(X).type(torch.float)\n",
        "y = torch.from_numpy(y).type(torch.float)"
      ],
      "metadata": {
        "id": "0_FWXMII-DQX"
      },
      "execution_count": null,
      "outputs": []
    },
    {
      "cell_type": "code",
      "source": [
        "X[:5] , y[:5]"
      ],
      "metadata": {
        "colab": {
          "base_uri": "https://localhost:8080/"
        },
        "id": "dXf0AeJu_5S3",
        "outputId": "11bed4ba-cc18-418d-8e11-3ab3ab61dcf3"
      },
      "execution_count": null,
      "outputs": [
        {
          "output_type": "execute_result",
          "data": {
            "text/plain": [
              "(tensor([[ 0.7542,  0.2315],\n",
              "         [-0.7562,  0.1533],\n",
              "         [-0.8154,  0.1733],\n",
              "         [-0.3937,  0.6929],\n",
              "         [ 0.4422, -0.8967]]),\n",
              " tensor([1., 1., 1., 1., 0.]))"
            ]
          },
          "metadata": {},
          "execution_count": 66
        }
      ]
    },
    {
      "cell_type": "code",
      "source": [
        "type(X), type(y)"
      ],
      "metadata": {
        "colab": {
          "base_uri": "https://localhost:8080/"
        },
        "id": "gDEQkh_1_5iL",
        "outputId": "4290bc64-dbf1-4f94-efee-f323253f0df0"
      },
      "execution_count": null,
      "outputs": [
        {
          "output_type": "execute_result",
          "data": {
            "text/plain": [
              "(torch.Tensor, torch.Tensor)"
            ]
          },
          "metadata": {},
          "execution_count": 67
        }
      ]
    },
    {
      "cell_type": "markdown",
      "source": [
        "### `split data`"
      ],
      "metadata": {
        "id": "cpZM_noqDjAJ"
      }
    },
    {
      "cell_type": "code",
      "source": [
        "from sklearn.model_selection import train_test_split\n",
        "X_train, X_test, y_train, y_test = train_test_split(X, y, test_size=0.2, random_state=42)"
      ],
      "metadata": {
        "id": "a50_Ros9DqxA"
      },
      "execution_count": null,
      "outputs": []
    },
    {
      "cell_type": "code",
      "source": [
        "len(X_train), len(X_test), len(y_train), len(y_test)"
      ],
      "metadata": {
        "colab": {
          "base_uri": "https://localhost:8080/"
        },
        "id": "Qlx-FSUUDrZh",
        "outputId": "1a1341da-ea38-48f9-bc5c-4e9fd75a9d3b"
      },
      "execution_count": null,
      "outputs": [
        {
          "output_type": "execute_result",
          "data": {
            "text/plain": [
              "(800, 200, 800, 200)"
            ]
          },
          "metadata": {},
          "execution_count": 69
        }
      ]
    },
    {
      "cell_type": "code",
      "source": [
        "import torch\n",
        "from torch import nn\n",
        "\n",
        "## device agnostic code\n",
        "device = \"cuda\" if torch.cuda.is_available() else \"cpu\"\n",
        "device"
      ],
      "metadata": {
        "colab": {
          "base_uri": "https://localhost:8080/",
          "height": 36
        },
        "id": "yZq56mbYE-_l",
        "outputId": "b662216d-6089-4127-a941-fe26fbf11cbb"
      },
      "execution_count": null,
      "outputs": [
        {
          "output_type": "execute_result",
          "data": {
            "text/plain": [
              "'cpu'"
            ],
            "application/vnd.google.colaboratory.intrinsic+json": {
              "type": "string"
            }
          },
          "metadata": {},
          "execution_count": 70
        }
      ]
    },
    {
      "cell_type": "code",
      "source": [
        "class CircleModelV0(nn.Module):\n",
        "  def __init__(self):\n",
        "    super().__init__()\n",
        "    ## create two nn.Linear layers\n",
        "    self.layer_1 = nn.Linear(in_features=2, out_features=5)  ## first layer /hidden layer\n",
        "    self.layer_2 = nn.Linear(in_features=5, out_features=1)  ## output layer/ same shape as y\n",
        "  ### input feature of layer 2 is same as output feature of layer 1\n",
        "  ## defining forward pass\n",
        "  def forward(self,x):\n",
        "    return self.layer_2(self.layer_1(X)) ## x -> layer_1 -> layer_2 -> output\n",
        "\n",
        "##  creating an instance of our model\n",
        "model_0 = CircleModelV0().to(device)\n",
        "model_0"
      ],
      "metadata": {
        "id": "jUZLobrpFFDn",
        "colab": {
          "base_uri": "https://localhost:8080/"
        },
        "outputId": "c51b2c8d-c4e9-4e60-bd9d-8ad5b20dd80b"
      },
      "execution_count": null,
      "outputs": [
        {
          "output_type": "execute_result",
          "data": {
            "text/plain": [
              "CircleModelV0(\n",
              "  (layer_1): Linear(in_features=2, out_features=5, bias=True)\n",
              "  (layer_2): Linear(in_features=5, out_features=1, bias=True)\n",
              ")"
            ]
          },
          "metadata": {},
          "execution_count": 71
        }
      ]
    },
    {
      "cell_type": "code",
      "source": [
        "next(model_0.parameters()).device"
      ],
      "metadata": {
        "colab": {
          "base_uri": "https://localhost:8080/"
        },
        "id": "bBJjON8LFrd-",
        "outputId": "26192681-13e5-49f0-e532-1b4b3f2e8a36"
      },
      "execution_count": null,
      "outputs": [
        {
          "output_type": "execute_result",
          "data": {
            "text/plain": [
              "device(type='cpu')"
            ]
          },
          "metadata": {},
          "execution_count": 72
        }
      ]
    },
    {
      "cell_type": "code",
      "source": [
        "next(model_0.parameters())"
      ],
      "metadata": {
        "colab": {
          "base_uri": "https://localhost:8080/"
        },
        "id": "tAJ5Lbc1IzBF",
        "outputId": "f3adfc38-e0dc-42b9-da9d-9b0eccc78eef"
      },
      "execution_count": null,
      "outputs": [
        {
          "output_type": "execute_result",
          "data": {
            "text/plain": [
              "Parameter containing:\n",
              "tensor([[ 0.3365, -0.1916],\n",
              "        [ 0.5194,  0.0656],\n",
              "        [ 0.1252,  0.6766],\n",
              "        [ 0.5480,  0.6934],\n",
              "        [-0.1987, -0.2482]], requires_grad=True)"
            ]
          },
          "metadata": {},
          "execution_count": 73
        }
      ]
    },
    {
      "cell_type": "code",
      "source": [
        "### replicating above model using nn.Sequential()\n",
        "model_01 = nn.Sequential(\n",
        "    nn.Linear(in_features=2, out_features=5),\n",
        "    nn.Linear(in_features=5, out_features=1)\n",
        ").to(device)\n",
        "\n",
        "model_01"
      ],
      "metadata": {
        "colab": {
          "base_uri": "https://localhost:8080/"
        },
        "id": "1p0Mw3tzI3ml",
        "outputId": "70c51cff-ac5f-4992-dd55-71944f0ac4ae"
      },
      "execution_count": null,
      "outputs": [
        {
          "output_type": "execute_result",
          "data": {
            "text/plain": [
              "Sequential(\n",
              "  (0): Linear(in_features=2, out_features=5, bias=True)\n",
              "  (1): Linear(in_features=5, out_features=1, bias=True)\n",
              ")"
            ]
          },
          "metadata": {},
          "execution_count": 74
        }
      ]
    },
    {
      "cell_type": "code",
      "source": [
        "# class CircleModelV0(nn.Module):\n",
        "#   def __init__(self):\n",
        "#     super().__init__()\n",
        "#     ## create two nn.Linear layers\n",
        "#     self.layer_1 = nn.Linear(in_features=2, out_features=5)  ## first layer /hidden layer\n",
        "#     self.layer_2 = nn.Linear(in_features=5, out_features=1)  ## output layer/ same shape as y\n",
        "#   ### input feature of layer 2 is same as output feature of layer 1\n",
        "#   ## defining forward pass\n",
        "#     self.two_layer = nn.Sequential(\n",
        "#        nn.Linear(in_features=2, out_features=5),\n",
        "#        nn.Linear(in_features=5, out_features=1)\n",
        "#     )\n",
        "#   def forward(self,x):\n",
        "#   #   return self.layer_2(self.layer_1(X)) ## x -> layer_1 -> layer_2 -> output\n",
        "#     return self.two_layer(x)\n",
        "# ##  creating an instance of our model\n",
        "# model_02 = CircleModelV0().to(device)\n",
        "# model_02"
      ],
      "metadata": {
        "id": "0VRsFHEiNWaQ"
      },
      "execution_count": null,
      "outputs": []
    },
    {
      "cell_type": "code",
      "source": [
        "model_0.state_dict()"
      ],
      "metadata": {
        "colab": {
          "base_uri": "https://localhost:8080/"
        },
        "id": "J2vz5orXPdpm",
        "outputId": "35005c8e-ea0a-475e-c1d3-605dd4ae0dc9"
      },
      "execution_count": null,
      "outputs": [
        {
          "output_type": "execute_result",
          "data": {
            "text/plain": [
              "OrderedDict([('layer_1.weight',\n",
              "              tensor([[ 0.3365, -0.1916],\n",
              "                      [ 0.5194,  0.0656],\n",
              "                      [ 0.1252,  0.6766],\n",
              "                      [ 0.5480,  0.6934],\n",
              "                      [-0.1987, -0.2482]])),\n",
              "             ('layer_1.bias',\n",
              "              tensor([0.5475, 0.7058, 0.0939, 0.0999, 0.3135])),\n",
              "             ('layer_2.weight',\n",
              "              tensor([[-0.2543, -0.4101, -0.1876, -0.4426,  0.2796]])),\n",
              "             ('layer_2.bias', tensor([-0.2186]))])"
            ]
          },
          "metadata": {},
          "execution_count": 76
        }
      ]
    },
    {
      "cell_type": "code",
      "source": [
        "model_01.state_dict()"
      ],
      "metadata": {
        "colab": {
          "base_uri": "https://localhost:8080/"
        },
        "id": "yCEr9-8uRBVG",
        "outputId": "053fdd17-d8d3-4d4a-e954-ca6c043b474b"
      },
      "execution_count": null,
      "outputs": [
        {
          "output_type": "execute_result",
          "data": {
            "text/plain": [
              "OrderedDict([('0.weight',\n",
              "              tensor([[ 0.2138,  0.0263],\n",
              "                      [ 0.1883,  0.0429],\n",
              "                      [-0.3092,  0.2258],\n",
              "                      [ 0.2110, -0.5847],\n",
              "                      [-0.1600,  0.2572]])),\n",
              "             ('0.bias', tensor([-0.3691,  0.5009,  0.3315,  0.4882,  0.2810])),\n",
              "             ('1.weight',\n",
              "              tensor([[ 0.3172,  0.1063,  0.0332, -0.0218, -0.3968]])),\n",
              "             ('1.bias', tensor([-0.0564]))])"
            ]
          },
          "metadata": {},
          "execution_count": 77
        }
      ]
    },
    {
      "cell_type": "code",
      "source": [
        "# model_02.state_dict()"
      ],
      "metadata": {
        "id": "nCOkeoz4RIa9"
      },
      "execution_count": null,
      "outputs": []
    },
    {
      "cell_type": "code",
      "source": [
        "with torch.inference_mode():\n",
        "  untrained_preds = model_0(X_test.to(device))\n",
        "untrained_preds"
      ],
      "metadata": {
        "colab": {
          "base_uri": "https://localhost:8080/"
        },
        "id": "1U_Bq50-RORW",
        "outputId": "d8f1c3cc-0c5e-4374-bc5e-4fae4845444e"
      },
      "execution_count": null,
      "outputs": [
        {
          "output_type": "execute_result",
          "data": {
            "text/plain": [
              "tensor([[-1.2006e+00],\n",
              "        [-2.2624e-01],\n",
              "        [-1.9914e-01],\n",
              "        [-7.1077e-01],\n",
              "        [-4.6405e-01],\n",
              "        [-6.4957e-01],\n",
              "        [-9.9967e-01],\n",
              "        [-1.1711e+00],\n",
              "        [-1.3449e-01],\n",
              "        [-1.0378e+00],\n",
              "        [ 3.8941e-02],\n",
              "        [-1.3813e+00],\n",
              "        [-9.4862e-01],\n",
              "        [-9.1635e-01],\n",
              "        [-7.1127e-01],\n",
              "        [-3.7194e-01],\n",
              "        [ 1.2497e-01],\n",
              "        [-3.0607e-01],\n",
              "        [-6.4631e-02],\n",
              "        [ 1.3558e-01],\n",
              "        [-1.2268e+00],\n",
              "        [-6.8367e-01],\n",
              "        [-1.2868e-01],\n",
              "        [-1.2142e+00],\n",
              "        [-2.7775e-01],\n",
              "        [-1.3632e-01],\n",
              "        [-1.2708e+00],\n",
              "        [-1.0601e+00],\n",
              "        [-4.0750e-01],\n",
              "        [-8.0562e-01],\n",
              "        [ 9.0056e-03],\n",
              "        [-9.6051e-01],\n",
              "        [-1.0039e+00],\n",
              "        [-1.2508e+00],\n",
              "        [-5.1939e-02],\n",
              "        [-4.6317e-01],\n",
              "        [-5.4372e-01],\n",
              "        [-1.2427e+00],\n",
              "        [-4.2638e-01],\n",
              "        [-1.3921e+00],\n",
              "        [ 1.2146e-01],\n",
              "        [-1.2971e+00],\n",
              "        [ 1.4848e-01],\n",
              "        [-1.0226e+00],\n",
              "        [ 1.7574e-01],\n",
              "        [ 1.1210e-01],\n",
              "        [-5.7599e-01],\n",
              "        [-1.1413e+00],\n",
              "        [-7.4609e-01],\n",
              "        [-1.9677e-02],\n",
              "        [-1.2113e+00],\n",
              "        [-2.4259e-01],\n",
              "        [ 4.6474e-02],\n",
              "        [-1.2110e+00],\n",
              "        [-1.3416e+00],\n",
              "        [-1.3580e+00],\n",
              "        [-1.0567e+00],\n",
              "        [-1.2866e+00],\n",
              "        [-2.0871e-01],\n",
              "        [-8.5611e-03],\n",
              "        [ 1.2918e-01],\n",
              "        [-1.3938e+00],\n",
              "        [-1.1874e+00],\n",
              "        [-2.9996e-01],\n",
              "        [-1.1243e+00],\n",
              "        [-5.1264e-01],\n",
              "        [-7.3952e-01],\n",
              "        [-1.7508e-01],\n",
              "        [-1.3855e+00],\n",
              "        [-1.2438e+00],\n",
              "        [-1.2060e+00],\n",
              "        [-1.1969e+00],\n",
              "        [-1.1752e+00],\n",
              "        [-1.6207e-01],\n",
              "        [ 1.5523e-01],\n",
              "        [ 1.4432e-01],\n",
              "        [-8.3553e-01],\n",
              "        [-1.3694e+00],\n",
              "        [-1.1791e+00],\n",
              "        [ 1.9729e-01],\n",
              "        [-6.0894e-01],\n",
              "        [-1.3890e+00],\n",
              "        [ 1.2529e-01],\n",
              "        [-1.3531e+00],\n",
              "        [ 1.3121e-01],\n",
              "        [-1.2617e+00],\n",
              "        [-1.1576e+00],\n",
              "        [-3.2589e-01],\n",
              "        [-8.8601e-02],\n",
              "        [ 1.4915e-01],\n",
              "        [-2.4410e-01],\n",
              "        [-8.4859e-01],\n",
              "        [-1.2567e+00],\n",
              "        [-2.2780e-01],\n",
              "        [-1.3990e-02],\n",
              "        [-6.7783e-01],\n",
              "        [-6.1931e-02],\n",
              "        [-1.3115e+00],\n",
              "        [-1.3598e+00],\n",
              "        [-3.2702e-02],\n",
              "        [-3.1481e-01],\n",
              "        [-1.1906e-02],\n",
              "        [-6.9258e-01],\n",
              "        [ 4.3891e-02],\n",
              "        [-9.3169e-01],\n",
              "        [-8.6108e-01],\n",
              "        [-1.2463e+00],\n",
              "        [-8.6195e-01],\n",
              "        [-7.5123e-01],\n",
              "        [-5.0386e-01],\n",
              "        [-1.2369e+00],\n",
              "        [-7.2352e-03],\n",
              "        [-1.0204e+00],\n",
              "        [ 2.5457e-02],\n",
              "        [-1.3596e+00],\n",
              "        [-6.8971e-01],\n",
              "        [-5.9688e-01],\n",
              "        [-9.9434e-01],\n",
              "        [-1.2033e+00],\n",
              "        [ 1.4198e-01],\n",
              "        [-3.5552e-01],\n",
              "        [-6.1640e-01],\n",
              "        [-3.5476e-01],\n",
              "        [ 7.3109e-02],\n",
              "        [-8.6842e-02],\n",
              "        [-1.2445e+00],\n",
              "        [-1.1838e+00],\n",
              "        [-7.9544e-01],\n",
              "        [-2.0873e-01],\n",
              "        [ 2.2965e-02],\n",
              "        [-1.1593e+00],\n",
              "        [-1.1037e-01],\n",
              "        [ 1.2334e-01],\n",
              "        [-1.1141e+00],\n",
              "        [-1.1656e+00],\n",
              "        [-1.4014e+00],\n",
              "        [-1.1236e+00],\n",
              "        [-2.3132e-01],\n",
              "        [-1.3066e+00],\n",
              "        [-1.3731e+00],\n",
              "        [-1.3870e+00],\n",
              "        [-5.3210e-02],\n",
              "        [-3.4024e-01],\n",
              "        [ 1.6325e-01],\n",
              "        [-3.3915e-01],\n",
              "        [-5.1656e-01],\n",
              "        [ 1.5513e-02],\n",
              "        [-1.5366e-02],\n",
              "        [-4.2041e-02],\n",
              "        [ 1.4162e-01],\n",
              "        [-8.6216e-01],\n",
              "        [-8.6952e-01],\n",
              "        [-9.7400e-01],\n",
              "        [-6.3769e-01],\n",
              "        [-7.5306e-01],\n",
              "        [-9.3672e-01],\n",
              "        [ 2.1173e-01],\n",
              "        [-4.7196e-01],\n",
              "        [-1.3873e+00],\n",
              "        [-2.9241e-01],\n",
              "        [-1.0848e+00],\n",
              "        [-8.2303e-02],\n",
              "        [-8.5005e-01],\n",
              "        [-8.1053e-01],\n",
              "        [-1.8608e-01],\n",
              "        [-7.1987e-01],\n",
              "        [ 1.4450e-01],\n",
              "        [-5.5290e-01],\n",
              "        [ 1.1461e-01],\n",
              "        [ 1.6532e-01],\n",
              "        [-2.0032e-02],\n",
              "        [-1.0889e+00],\n",
              "        [-1.2240e+00],\n",
              "        [-1.0557e+00],\n",
              "        [-1.1415e+00],\n",
              "        [-5.4128e-02],\n",
              "        [ 2.7645e-02],\n",
              "        [ 1.8219e-02],\n",
              "        [ 7.4502e-03],\n",
              "        [-6.3627e-01],\n",
              "        [-1.2053e+00],\n",
              "        [-6.8989e-01],\n",
              "        [-1.4650e-01],\n",
              "        [-1.2107e+00],\n",
              "        [-6.1003e-02],\n",
              "        [-9.9708e-01],\n",
              "        [-2.0087e-04],\n",
              "        [-3.4313e-02],\n",
              "        [-7.6429e-01],\n",
              "        [-9.2639e-02],\n",
              "        [-7.5583e-01],\n",
              "        [-5.4144e-02],\n",
              "        [-8.2904e-01],\n",
              "        [-3.9141e-01],\n",
              "        [-2.8993e-01],\n",
              "        [-4.3190e-01],\n",
              "        [ 9.6672e-02],\n",
              "        [-3.0517e-01],\n",
              "        [-1.0748e+00],\n",
              "        [-1.3794e+00],\n",
              "        [-1.3815e+00],\n",
              "        [-1.2360e+00],\n",
              "        [-5.0821e-01],\n",
              "        [-1.2658e+00],\n",
              "        [-3.5231e-02],\n",
              "        [-1.1884e+00],\n",
              "        [-7.2458e-01],\n",
              "        [-5.4250e-01],\n",
              "        [-1.1803e+00],\n",
              "        [-2.1181e-03],\n",
              "        [-1.3754e+00],\n",
              "        [-9.7181e-01],\n",
              "        [-5.9601e-01],\n",
              "        [-9.6929e-03],\n",
              "        [-8.3567e-01],\n",
              "        [ 1.1066e-01],\n",
              "        [-7.4149e-01],\n",
              "        [ 1.3582e-03],\n",
              "        [-4.5053e-01],\n",
              "        [-4.3110e-01],\n",
              "        [ 1.2777e-01],\n",
              "        [-1.9642e-01],\n",
              "        [-9.6806e-01],\n",
              "        [-1.3918e+00],\n",
              "        [-3.6739e-01],\n",
              "        [-1.2809e+00],\n",
              "        [-1.2303e+00],\n",
              "        [ 3.4420e-02],\n",
              "        [-4.7736e-01],\n",
              "        [-1.2532e+00],\n",
              "        [ 5.4451e-02],\n",
              "        [-1.1030e+00],\n",
              "        [-1.1255e+00],\n",
              "        [-1.2636e+00],\n",
              "        [-1.3791e+00],\n",
              "        [-1.3511e+00],\n",
              "        [-1.6049e-01],\n",
              "        [-9.4603e-01],\n",
              "        [-4.7291e-01],\n",
              "        [ 1.1960e-01],\n",
              "        [-1.2530e+00],\n",
              "        [-3.8372e-01],\n",
              "        [-1.2073e+00],\n",
              "        [ 5.3720e-02],\n",
              "        [ 1.6305e-01],\n",
              "        [-1.2407e+00],\n",
              "        [-6.0722e-01],\n",
              "        [-1.3872e+00],\n",
              "        [-1.3377e+00],\n",
              "        [ 1.0994e-01],\n",
              "        [-1.3508e+00],\n",
              "        [-1.0728e+00],\n",
              "        [ 2.9018e-02],\n",
              "        [-3.7704e-01],\n",
              "        [-2.9863e-01],\n",
              "        [ 1.5468e-01],\n",
              "        [-1.2003e+00],\n",
              "        [-5.2784e-01],\n",
              "        [-5.8827e-01],\n",
              "        [-1.2378e+00],\n",
              "        [-1.9512e-01],\n",
              "        [-9.9065e-01],\n",
              "        [-1.2790e+00],\n",
              "        [ 9.0479e-02],\n",
              "        [-4.6662e-02],\n",
              "        [-2.1555e-01],\n",
              "        [-1.9889e-02],\n",
              "        [-1.7981e-01],\n",
              "        [-9.5402e-01],\n",
              "        [-1.7913e-01],\n",
              "        [-1.1590e+00],\n",
              "        [-1.1584e+00],\n",
              "        [-3.9770e-01],\n",
              "        [-1.0367e-02],\n",
              "        [-1.2200e+00],\n",
              "        [-1.2953e+00],\n",
              "        [-4.3040e-01],\n",
              "        [-1.1192e+00],\n",
              "        [-1.3525e+00],\n",
              "        [-2.9777e-02],\n",
              "        [-1.1884e+00],\n",
              "        [-2.3241e-02],\n",
              "        [-9.5841e-02],\n",
              "        [ 1.6132e-01],\n",
              "        [-3.1098e-01],\n",
              "        [-3.1211e-01],\n",
              "        [-2.9197e-02],\n",
              "        [-8.2069e-01],\n",
              "        [-1.7922e-01],\n",
              "        [-8.2355e-01],\n",
              "        [-7.8160e-01],\n",
              "        [ 4.9349e-02],\n",
              "        [-1.1501e+00],\n",
              "        [-9.9143e-01],\n",
              "        [-6.5842e-02],\n",
              "        [-9.9116e-01],\n",
              "        [-6.3285e-01],\n",
              "        [-6.3210e-01],\n",
              "        [-1.2483e+00],\n",
              "        [-8.0794e-01],\n",
              "        [-1.2360e+00],\n",
              "        [-7.8645e-01],\n",
              "        [-1.0662e+00],\n",
              "        [-5.8436e-01],\n",
              "        [-1.4220e-02],\n",
              "        [-7.4524e-01],\n",
              "        [ 1.0247e-01],\n",
              "        [-1.2762e+00],\n",
              "        [-6.9346e-01],\n",
              "        [-1.2401e+00],\n",
              "        [-1.1706e+00],\n",
              "        [-1.2102e+00],\n",
              "        [-1.1793e+00],\n",
              "        [-4.0322e-01],\n",
              "        [-7.9139e-01],\n",
              "        [-9.0786e-01],\n",
              "        [-1.2204e-01],\n",
              "        [ 2.1522e-02],\n",
              "        [-2.3915e-01],\n",
              "        [-3.2941e-01],\n",
              "        [-1.3529e+00],\n",
              "        [-9.3098e-01],\n",
              "        [ 1.7348e-01],\n",
              "        [-9.9834e-01],\n",
              "        [-5.3387e-02],\n",
              "        [-1.1457e+00],\n",
              "        [ 7.8429e-02],\n",
              "        [-1.1575e+00],\n",
              "        [-3.7067e-01],\n",
              "        [-1.0419e+00],\n",
              "        [-4.3062e-01],\n",
              "        [ 1.3730e-01],\n",
              "        [-2.8156e-01],\n",
              "        [-1.0046e+00],\n",
              "        [-1.2408e+00],\n",
              "        [ 1.5245e-01],\n",
              "        [-4.4768e-01],\n",
              "        [-1.2233e+00],\n",
              "        [-2.2074e-01],\n",
              "        [-1.2345e+00],\n",
              "        [-1.0753e+00],\n",
              "        [-3.3840e-01],\n",
              "        [-7.0999e-01],\n",
              "        [-1.1007e+00],\n",
              "        [-2.7835e-01],\n",
              "        [-5.1658e-01],\n",
              "        [-1.2357e+00],\n",
              "        [-4.1730e-01],\n",
              "        [-1.3196e+00],\n",
              "        [-7.3246e-01],\n",
              "        [-6.2633e-01],\n",
              "        [ 1.5338e-01],\n",
              "        [-4.1288e-01],\n",
              "        [-1.4098e+00],\n",
              "        [ 1.6347e-01],\n",
              "        [-1.0454e+00],\n",
              "        [ 1.7910e-01],\n",
              "        [-6.1173e-01],\n",
              "        [ 1.2282e-01],\n",
              "        [-9.1221e-01],\n",
              "        [-5.8946e-01],\n",
              "        [-1.2316e+00],\n",
              "        [-1.0106e+00],\n",
              "        [-8.3566e-01],\n",
              "        [-7.7199e-01],\n",
              "        [-1.3368e+00],\n",
              "        [-1.9548e-02],\n",
              "        [-4.8155e-01],\n",
              "        [-2.0845e-01],\n",
              "        [-1.3468e-01],\n",
              "        [-7.2137e-01],\n",
              "        [-4.1351e-01],\n",
              "        [-9.7760e-01],\n",
              "        [-6.7472e-01],\n",
              "        [-1.2954e+00],\n",
              "        [-1.3759e-01],\n",
              "        [-1.0595e+00],\n",
              "        [-1.3803e+00],\n",
              "        [-4.8766e-01],\n",
              "        [ 2.5277e-03],\n",
              "        [-1.2212e-01],\n",
              "        [-9.2898e-01],\n",
              "        [ 4.7214e-02],\n",
              "        [-8.8620e-02],\n",
              "        [-2.3222e-01],\n",
              "        [-5.4289e-01],\n",
              "        [-1.0681e+00],\n",
              "        [-1.0403e+00],\n",
              "        [-1.0569e+00],\n",
              "        [-2.1328e-02],\n",
              "        [-5.3406e-01],\n",
              "        [-1.3819e+00],\n",
              "        [-4.5987e-01],\n",
              "        [-1.2199e+00],\n",
              "        [-1.1779e+00],\n",
              "        [-1.3904e+00],\n",
              "        [-4.4453e-01],\n",
              "        [-7.4103e-01],\n",
              "        [-1.0526e-01],\n",
              "        [-1.0764e+00],\n",
              "        [-1.3745e+00],\n",
              "        [-1.0225e+00],\n",
              "        [-1.2374e+00],\n",
              "        [-1.2192e+00],\n",
              "        [-1.0532e+00],\n",
              "        [-4.7819e-01],\n",
              "        [-5.9048e-01],\n",
              "        [ 9.3622e-02],\n",
              "        [-1.3836e+00],\n",
              "        [-1.1588e+00],\n",
              "        [-1.1352e+00],\n",
              "        [-5.1300e-01],\n",
              "        [-2.4496e-02],\n",
              "        [ 6.8368e-02],\n",
              "        [ 3.1889e-02],\n",
              "        [-3.8383e-01],\n",
              "        [-6.2990e-01],\n",
              "        [-5.2662e-02],\n",
              "        [-1.1818e+00],\n",
              "        [-7.9042e-01],\n",
              "        [-1.3603e+00],\n",
              "        [-3.3350e-01],\n",
              "        [-1.1233e+00],\n",
              "        [-1.2415e+00],\n",
              "        [-6.3800e-01],\n",
              "        [-1.0964e-01],\n",
              "        [-1.3349e+00],\n",
              "        [-1.3971e+00],\n",
              "        [-9.1886e-01],\n",
              "        [ 7.6367e-02],\n",
              "        [ 1.7525e-01],\n",
              "        [-2.4255e-02],\n",
              "        [-2.4592e-02],\n",
              "        [-8.8613e-01],\n",
              "        [ 7.3594e-02],\n",
              "        [-1.3294e+00],\n",
              "        [-5.6659e-01],\n",
              "        [-9.4776e-02],\n",
              "        [-2.4525e-01],\n",
              "        [-1.0052e+00],\n",
              "        [-2.0972e-01],\n",
              "        [-1.2170e+00],\n",
              "        [-9.4253e-01],\n",
              "        [-8.0018e-01],\n",
              "        [-1.2562e+00],\n",
              "        [-1.2107e+00],\n",
              "        [-9.7535e-01],\n",
              "        [-6.6360e-01],\n",
              "        [-7.0780e-01],\n",
              "        [-6.6362e-01],\n",
              "        [-1.1949e+00],\n",
              "        [-2.4747e-01],\n",
              "        [-2.7045e-01],\n",
              "        [-7.8357e-01],\n",
              "        [-7.1864e-02],\n",
              "        [-9.1387e-01],\n",
              "        [-3.4428e-01],\n",
              "        [-7.0769e-01],\n",
              "        [-1.3540e-01],\n",
              "        [-4.6432e-01],\n",
              "        [-1.3801e+00],\n",
              "        [-1.2084e+00],\n",
              "        [-1.1343e+00],\n",
              "        [-9.1221e-01],\n",
              "        [-2.3921e-01],\n",
              "        [-1.2741e+00],\n",
              "        [-1.1407e+00],\n",
              "        [-4.9763e-01],\n",
              "        [-1.1669e+00],\n",
              "        [-9.2149e-01],\n",
              "        [-4.2978e-01],\n",
              "        [-1.3323e+00],\n",
              "        [-6.5441e-01],\n",
              "        [-1.3168e+00],\n",
              "        [ 5.8268e-02],\n",
              "        [-1.0465e+00],\n",
              "        [-6.3189e-01],\n",
              "        [-7.0879e-01],\n",
              "        [-1.1181e+00],\n",
              "        [-1.1888e+00],\n",
              "        [-1.0988e+00],\n",
              "        [-1.3298e+00],\n",
              "        [-1.2620e+00],\n",
              "        [-2.9769e-01],\n",
              "        [-1.2131e+00],\n",
              "        [-1.3901e+00],\n",
              "        [-1.4115e+00],\n",
              "        [ 1.0149e-01],\n",
              "        [-7.2222e-01],\n",
              "        [-1.2400e+00],\n",
              "        [-2.3694e-01],\n",
              "        [-1.1356e+00],\n",
              "        [-5.4471e-02],\n",
              "        [-1.2722e+00],\n",
              "        [-5.7360e-01],\n",
              "        [-6.3313e-01],\n",
              "        [-7.8177e-01],\n",
              "        [-5.2466e-01],\n",
              "        [-1.8453e-01],\n",
              "        [-2.7979e-01],\n",
              "        [-5.4614e-01],\n",
              "        [-6.5458e-01],\n",
              "        [-3.0018e-01],\n",
              "        [-4.9104e-01],\n",
              "        [-6.1957e-03],\n",
              "        [-8.3965e-01],\n",
              "        [-5.7378e-01],\n",
              "        [-1.7579e-01],\n",
              "        [-8.5842e-01],\n",
              "        [-1.1049e-01],\n",
              "        [ 5.3092e-02],\n",
              "        [-1.1914e+00],\n",
              "        [ 9.3305e-02],\n",
              "        [-1.3353e+00],\n",
              "        [ 1.4598e-01],\n",
              "        [-9.2321e-02],\n",
              "        [-1.9266e-01],\n",
              "        [-6.1693e-01],\n",
              "        [-1.0312e+00],\n",
              "        [-1.3299e+00],\n",
              "        [ 8.7078e-03],\n",
              "        [-7.1735e-01],\n",
              "        [-2.1284e-01],\n",
              "        [ 8.1476e-02],\n",
              "        [-6.8895e-01],\n",
              "        [-1.2359e+00],\n",
              "        [-1.4476e-02],\n",
              "        [-3.9504e-01],\n",
              "        [-9.9260e-01],\n",
              "        [-1.2950e+00],\n",
              "        [-1.2748e+00],\n",
              "        [-1.3788e+00],\n",
              "        [-1.0220e+00],\n",
              "        [ 1.6304e-01],\n",
              "        [-8.7294e-02],\n",
              "        [-6.5973e-01],\n",
              "        [-8.6024e-01],\n",
              "        [-1.3809e+00],\n",
              "        [-2.2487e-01],\n",
              "        [-8.1637e-01],\n",
              "        [-5.0018e-01],\n",
              "        [ 7.6230e-02],\n",
              "        [-1.1122e-01],\n",
              "        [-1.1239e+00],\n",
              "        [-1.1891e+00],\n",
              "        [-7.7268e-01],\n",
              "        [-1.1813e+00],\n",
              "        [ 2.7224e-03],\n",
              "        [-1.2053e+00],\n",
              "        [-1.1043e+00],\n",
              "        [-1.1718e+00],\n",
              "        [-1.0285e+00],\n",
              "        [-5.1658e-01],\n",
              "        [-1.3848e+00],\n",
              "        [-1.5543e-01],\n",
              "        [-5.0675e-01],\n",
              "        [-1.0451e-01],\n",
              "        [ 8.6635e-02],\n",
              "        [-1.4459e+00],\n",
              "        [ 5.9315e-02],\n",
              "        [-4.4715e-01],\n",
              "        [-1.1493e+00],\n",
              "        [-3.5498e-02],\n",
              "        [-2.0977e-01],\n",
              "        [ 3.0087e-02],\n",
              "        [-7.3928e-01],\n",
              "        [-6.5713e-01],\n",
              "        [ 1.9755e-01],\n",
              "        [ 6.8583e-02],\n",
              "        [-9.1145e-01],\n",
              "        [-8.8040e-01],\n",
              "        [-1.0689e+00],\n",
              "        [-3.9222e-02],\n",
              "        [-1.3958e+00],\n",
              "        [-4.8470e-03],\n",
              "        [-6.1997e-01],\n",
              "        [-9.5589e-01],\n",
              "        [-1.0269e+00],\n",
              "        [-3.4612e-01],\n",
              "        [-1.0083e+00],\n",
              "        [ 1.0456e-01],\n",
              "        [-1.3037e+00],\n",
              "        [ 4.4234e-03],\n",
              "        [-2.4235e-02],\n",
              "        [ 1.5645e-02],\n",
              "        [-4.3567e-01],\n",
              "        [-1.2218e+00],\n",
              "        [-9.7232e-01],\n",
              "        [-1.4120e+00],\n",
              "        [-6.5011e-01],\n",
              "        [-1.5588e-02],\n",
              "        [-2.7248e-02],\n",
              "        [-7.0699e-01],\n",
              "        [-1.1478e-01],\n",
              "        [-1.4884e-01],\n",
              "        [-8.5683e-01],\n",
              "        [ 1.5176e-01],\n",
              "        [-1.1163e+00],\n",
              "        [-1.1967e+00],\n",
              "        [-1.4239e-01],\n",
              "        [-1.3366e+00],\n",
              "        [-1.1080e+00],\n",
              "        [ 1.2036e-01],\n",
              "        [ 2.3476e-02],\n",
              "        [-7.7642e-01],\n",
              "        [-8.8622e-01],\n",
              "        [-5.2211e-01],\n",
              "        [-1.1909e+00],\n",
              "        [-1.1110e+00],\n",
              "        [-1.0693e+00],\n",
              "        [-6.1934e-01],\n",
              "        [ 1.4370e-01],\n",
              "        [-1.0809e-01],\n",
              "        [-4.0576e-01],\n",
              "        [-2.7416e-01],\n",
              "        [-5.4498e-01],\n",
              "        [-9.6050e-01],\n",
              "        [-1.1979e+00],\n",
              "        [-1.0670e+00],\n",
              "        [-1.4472e+00],\n",
              "        [-4.7194e-01],\n",
              "        [-7.8161e-01],\n",
              "        [-7.2393e-02],\n",
              "        [-6.7622e-01],\n",
              "        [-1.2990e+00],\n",
              "        [-1.1622e+00],\n",
              "        [-1.4171e+00],\n",
              "        [-9.9613e-01],\n",
              "        [-7.2392e-01],\n",
              "        [-1.1637e+00],\n",
              "        [-7.9898e-01],\n",
              "        [-1.0731e+00],\n",
              "        [ 1.2494e-01],\n",
              "        [-2.9872e-01],\n",
              "        [-1.9648e-01],\n",
              "        [-1.9319e-01],\n",
              "        [-1.3998e+00],\n",
              "        [-8.3588e-01],\n",
              "        [-7.0853e-01],\n",
              "        [-7.9583e-01],\n",
              "        [-1.1824e-02],\n",
              "        [-1.2731e-01],\n",
              "        [-1.4128e+00],\n",
              "        [-9.1351e-01],\n",
              "        [-1.7185e-01],\n",
              "        [-1.0092e+00],\n",
              "        [-9.3519e-01],\n",
              "        [-1.1817e-01],\n",
              "        [-4.0663e-01],\n",
              "        [-2.4472e-02],\n",
              "        [-5.0285e-01],\n",
              "        [-9.4386e-02],\n",
              "        [-2.0616e-01],\n",
              "        [-1.1527e+00],\n",
              "        [-9.5765e-01],\n",
              "        [ 2.9256e-03],\n",
              "        [-1.2308e+00],\n",
              "        [-9.4419e-01],\n",
              "        [-7.2975e-01],\n",
              "        [-4.5165e-01],\n",
              "        [-9.0970e-01],\n",
              "        [ 3.4710e-03],\n",
              "        [-1.0596e+00],\n",
              "        [-7.7923e-02],\n",
              "        [-1.2025e+00],\n",
              "        [-1.6345e-01],\n",
              "        [-5.2588e-01],\n",
              "        [-1.2574e+00],\n",
              "        [-5.4523e-01],\n",
              "        [-5.6603e-01],\n",
              "        [-1.0787e-01],\n",
              "        [-1.1880e+00],\n",
              "        [-2.2371e-02],\n",
              "        [-6.3933e-01],\n",
              "        [-1.1095e+00],\n",
              "        [-1.4081e+00],\n",
              "        [-8.9579e-01],\n",
              "        [-3.3321e-01],\n",
              "        [-7.3867e-01],\n",
              "        [-3.2360e-01],\n",
              "        [-8.0686e-01],\n",
              "        [-8.6536e-02],\n",
              "        [-4.0661e-02],\n",
              "        [-1.2509e+00],\n",
              "        [-2.6365e-03],\n",
              "        [-1.3812e+00],\n",
              "        [-8.3993e-01],\n",
              "        [-8.5680e-01],\n",
              "        [-1.9572e-03],\n",
              "        [ 1.1087e-01],\n",
              "        [-1.1850e-01],\n",
              "        [-1.2239e+00],\n",
              "        [-9.9399e-01],\n",
              "        [-2.5478e-01],\n",
              "        [-3.4051e-01],\n",
              "        [ 6.3807e-02],\n",
              "        [-1.0734e+00],\n",
              "        [ 1.5636e-01],\n",
              "        [-5.0852e-01],\n",
              "        [-8.4847e-01],\n",
              "        [-5.2330e-03],\n",
              "        [-8.7626e-01],\n",
              "        [-3.7577e-01],\n",
              "        [-1.2665e+00],\n",
              "        [-3.3765e-01],\n",
              "        [-1.1810e+00],\n",
              "        [-9.2721e-01],\n",
              "        [-9.7055e-01],\n",
              "        [-3.3481e-01],\n",
              "        [-6.8249e-01],\n",
              "        [-1.6466e-01],\n",
              "        [-7.7995e-01],\n",
              "        [ 6.5411e-02],\n",
              "        [-9.6237e-01],\n",
              "        [ 1.1262e-01],\n",
              "        [-5.3723e-01],\n",
              "        [-1.1483e+00],\n",
              "        [-1.3291e-01],\n",
              "        [-1.0917e+00],\n",
              "        [-9.3583e-01],\n",
              "        [-8.0205e-01],\n",
              "        [-4.1972e-01],\n",
              "        [-1.0979e+00],\n",
              "        [ 1.2024e-01],\n",
              "        [ 1.6982e-01],\n",
              "        [-3.8241e-01],\n",
              "        [-1.1237e+00],\n",
              "        [-5.5419e-01],\n",
              "        [-3.5415e-01],\n",
              "        [-7.3165e-01],\n",
              "        [-3.3445e-02],\n",
              "        [-5.0237e-01],\n",
              "        [-6.2617e-01],\n",
              "        [-6.3711e-02],\n",
              "        [-4.4025e-01],\n",
              "        [-3.3893e-02],\n",
              "        [-3.2990e-01],\n",
              "        [-1.0931e+00],\n",
              "        [-9.1828e-01],\n",
              "        [-3.6466e-01],\n",
              "        [-3.4081e-02],\n",
              "        [-6.9281e-02],\n",
              "        [-1.8567e-01],\n",
              "        [-5.0656e-01],\n",
              "        [-1.9600e-01],\n",
              "        [-8.9223e-01],\n",
              "        [-5.1158e-01],\n",
              "        [-1.1861e-01],\n",
              "        [ 5.7459e-03],\n",
              "        [-5.3799e-01],\n",
              "        [-1.0192e+00],\n",
              "        [-2.3968e-01],\n",
              "        [-9.1604e-02],\n",
              "        [-2.3683e-01],\n",
              "        [-9.8188e-01],\n",
              "        [-1.1679e+00],\n",
              "        [ 8.8786e-02],\n",
              "        [-1.1339e-02],\n",
              "        [-7.4941e-01],\n",
              "        [-1.2163e+00],\n",
              "        [-1.1911e+00],\n",
              "        [-5.2136e-01],\n",
              "        [-7.2535e-02],\n",
              "        [-1.7022e-01],\n",
              "        [-1.0614e+00],\n",
              "        [-6.9122e-01],\n",
              "        [-1.2423e-01],\n",
              "        [-1.0359e+00],\n",
              "        [-6.9277e-02],\n",
              "        [-1.5859e-01],\n",
              "        [ 1.1304e-02],\n",
              "        [-6.6887e-01],\n",
              "        [ 1.5045e-01],\n",
              "        [-8.6694e-01],\n",
              "        [-4.5139e-01],\n",
              "        [-3.5699e-01],\n",
              "        [-3.4870e-01],\n",
              "        [ 2.5220e-02],\n",
              "        [ 8.6102e-02],\n",
              "        [-1.3539e-01],\n",
              "        [-9.9271e-01],\n",
              "        [-9.7086e-01],\n",
              "        [ 9.7011e-02],\n",
              "        [-1.5707e-01],\n",
              "        [-2.3774e-01],\n",
              "        [-1.8689e-01],\n",
              "        [-8.2663e-01],\n",
              "        [ 3.6634e-02],\n",
              "        [-1.0366e+00],\n",
              "        [ 2.1932e-02],\n",
              "        [-1.0850e+00],\n",
              "        [-9.0378e-01],\n",
              "        [-1.0230e+00],\n",
              "        [-6.5475e-01],\n",
              "        [-4.3251e-01],\n",
              "        [-1.0535e+00],\n",
              "        [-1.1184e-01],\n",
              "        [ 2.7569e-02],\n",
              "        [-8.6298e-01],\n",
              "        [-1.1252e-01],\n",
              "        [-1.2496e+00],\n",
              "        [-8.4744e-01],\n",
              "        [-1.2105e+00],\n",
              "        [-4.6380e-03],\n",
              "        [-1.3106e+00],\n",
              "        [-6.7774e-02],\n",
              "        [-4.3909e-01],\n",
              "        [-8.1168e-01],\n",
              "        [-1.1862e+00],\n",
              "        [-1.3809e+00],\n",
              "        [-1.2485e+00],\n",
              "        [-7.0889e-01],\n",
              "        [-7.9271e-01],\n",
              "        [-3.1461e-01],\n",
              "        [-1.4858e-01],\n",
              "        [-9.4629e-02],\n",
              "        [-7.1931e-01],\n",
              "        [-2.0713e-01],\n",
              "        [-1.3009e+00],\n",
              "        [-1.2459e+00],\n",
              "        [-7.5218e-02],\n",
              "        [-1.4690e-01],\n",
              "        [-1.2209e+00],\n",
              "        [-5.6624e-01],\n",
              "        [-9.1997e-01],\n",
              "        [-1.2719e+00],\n",
              "        [-3.3068e-01],\n",
              "        [-3.3982e-01],\n",
              "        [-2.5391e-01],\n",
              "        [-1.6020e-02],\n",
              "        [-3.1217e-01],\n",
              "        [-5.0974e-02],\n",
              "        [-8.3254e-02],\n",
              "        [-2.1103e-01],\n",
              "        [-1.2169e+00],\n",
              "        [-5.8331e-02],\n",
              "        [-9.0294e-01],\n",
              "        [-6.4672e-01],\n",
              "        [-1.0668e+00],\n",
              "        [-1.9644e-01],\n",
              "        [-1.2255e+00],\n",
              "        [-2.4063e-01],\n",
              "        [-5.7949e-01],\n",
              "        [-1.2818e+00],\n",
              "        [-4.1740e-02],\n",
              "        [-2.5447e-01],\n",
              "        [-1.2391e+00],\n",
              "        [-4.3208e-01],\n",
              "        [-1.0703e+00],\n",
              "        [-1.3931e+00],\n",
              "        [-1.3555e+00],\n",
              "        [-2.0208e-02],\n",
              "        [-6.8664e-02],\n",
              "        [-4.2085e-01],\n",
              "        [-1.0347e+00],\n",
              "        [-1.3965e+00],\n",
              "        [-2.5665e-01],\n",
              "        [-1.5767e-01],\n",
              "        [-1.1347e+00],\n",
              "        [-1.4907e-02],\n",
              "        [-1.3541e-01],\n",
              "        [ 1.8059e-01],\n",
              "        [-5.6221e-01],\n",
              "        [-6.6092e-01],\n",
              "        [-2.3656e-01],\n",
              "        [-1.1982e+00],\n",
              "        [-1.2044e+00],\n",
              "        [-9.9784e-01],\n",
              "        [-1.3931e+00],\n",
              "        [-1.0684e+00],\n",
              "        [-8.5719e-01],\n",
              "        [-1.0912e+00],\n",
              "        [-9.6271e-01],\n",
              "        [-1.2274e+00],\n",
              "        [-4.1573e-02],\n",
              "        [-8.4442e-01],\n",
              "        [-1.4329e+00],\n",
              "        [-1.1933e-02],\n",
              "        [-1.3499e+00],\n",
              "        [-8.3310e-01],\n",
              "        [-1.3946e+00],\n",
              "        [-1.1484e+00],\n",
              "        [-2.0508e-01],\n",
              "        [-5.4122e-01],\n",
              "        [-2.3682e-02],\n",
              "        [-2.5718e-01],\n",
              "        [-7.5473e-03],\n",
              "        [-1.4119e+00],\n",
              "        [-2.5527e-01],\n",
              "        [ 6.8455e-02],\n",
              "        [-1.6954e-01],\n",
              "        [-3.0816e-01],\n",
              "        [-2.9968e-01],\n",
              "        [ 1.8272e-01],\n",
              "        [-4.0342e-01],\n",
              "        [-1.3941e-02],\n",
              "        [-2.6113e-01],\n",
              "        [-9.9067e-01],\n",
              "        [-8.7922e-01],\n",
              "        [-1.0631e+00],\n",
              "        [-2.4511e-03],\n",
              "        [-1.7090e-01],\n",
              "        [ 1.0994e-01],\n",
              "        [-3.9353e-01],\n",
              "        [-8.0752e-01],\n",
              "        [-1.2388e+00],\n",
              "        [-2.5075e-01],\n",
              "        [-4.0696e-01],\n",
              "        [-4.1675e-01],\n",
              "        [-1.0918e+00],\n",
              "        [ 2.8734e-03],\n",
              "        [-8.4802e-03],\n",
              "        [-1.2183e+00],\n",
              "        [-1.2611e+00],\n",
              "        [-2.6867e-01],\n",
              "        [-1.2030e+00],\n",
              "        [-6.7107e-01],\n",
              "        [-9.8423e-01],\n",
              "        [-1.2450e+00],\n",
              "        [-1.3675e+00],\n",
              "        [-3.5684e-01],\n",
              "        [-1.3773e+00],\n",
              "        [-7.6465e-02],\n",
              "        [-1.1905e+00],\n",
              "        [-6.0035e-01],\n",
              "        [-8.6787e-01],\n",
              "        [-7.3158e-02],\n",
              "        [-1.3580e+00],\n",
              "        [ 7.4201e-02],\n",
              "        [-3.8352e-01],\n",
              "        [-1.2134e+00],\n",
              "        [ 4.9288e-02],\n",
              "        [-2.6837e-02],\n",
              "        [-4.1409e-02],\n",
              "        [-1.3203e+00],\n",
              "        [ 1.9022e-01],\n",
              "        [-1.1651e+00],\n",
              "        [-2.3775e-01],\n",
              "        [ 6.2420e-02],\n",
              "        [-7.3569e-01],\n",
              "        [-7.6630e-02],\n",
              "        [-1.0509e+00],\n",
              "        [-8.9115e-01],\n",
              "        [-4.9661e-02],\n",
              "        [-1.1471e+00],\n",
              "        [-9.8317e-01],\n",
              "        [-1.1725e+00],\n",
              "        [-6.0753e-02],\n",
              "        [-3.3536e-02],\n",
              "        [-1.2544e+00],\n",
              "        [-2.0850e-01],\n",
              "        [-1.2562e+00],\n",
              "        [-5.8451e-01],\n",
              "        [-5.3760e-01],\n",
              "        [-1.4909e-02],\n",
              "        [-3.9453e-01],\n",
              "        [-1.0752e+00],\n",
              "        [-5.5948e-01],\n",
              "        [-1.1492e+00],\n",
              "        [-1.4192e+00],\n",
              "        [-1.0536e+00],\n",
              "        [-1.2646e+00],\n",
              "        [-1.0981e-01],\n",
              "        [-1.3524e-01],\n",
              "        [ 5.7544e-03],\n",
              "        [-1.3376e+00],\n",
              "        [ 1.9173e-01],\n",
              "        [-9.0183e-01],\n",
              "        [-7.6071e-01],\n",
              "        [ 1.0766e-01],\n",
              "        [-8.3611e-01],\n",
              "        [-4.4811e-01],\n",
              "        [-2.3490e-01],\n",
              "        [ 1.7417e-02],\n",
              "        [-4.5310e-01],\n",
              "        [-1.2033e+00],\n",
              "        [ 5.8624e-02],\n",
              "        [-6.4010e-02],\n",
              "        [ 1.7712e-01],\n",
              "        [-7.4025e-01],\n",
              "        [-1.0544e+00],\n",
              "        [-7.6270e-01],\n",
              "        [-2.1281e-01],\n",
              "        [-1.2577e+00],\n",
              "        [-9.6958e-02],\n",
              "        [-1.3163e+00],\n",
              "        [-9.0354e-01],\n",
              "        [ 1.4111e-01],\n",
              "        [-2.8256e-01],\n",
              "        [-9.6790e-01],\n",
              "        [-1.1247e+00],\n",
              "        [-1.1067e+00],\n",
              "        [-1.3231e+00],\n",
              "        [-4.6179e-01],\n",
              "        [-1.4277e+00],\n",
              "        [-1.2273e+00],\n",
              "        [ 1.1663e-01],\n",
              "        [-1.4662e-01],\n",
              "        [-6.6775e-01],\n",
              "        [-1.2597e+00]])"
            ]
          },
          "metadata": {},
          "execution_count": 79
        }
      ]
    },
    {
      "cell_type": "code",
      "source": [
        "torch.round(untrained_preds[:10]) , y_test[:10]"
      ],
      "metadata": {
        "colab": {
          "base_uri": "https://localhost:8080/"
        },
        "id": "WAnwo8eCSa4Z",
        "outputId": "7f3a0844-9236-4320-f542-d2c9f20a945e"
      },
      "execution_count": null,
      "outputs": [
        {
          "output_type": "execute_result",
          "data": {
            "text/plain": [
              "(tensor([[-1.],\n",
              "         [-0.],\n",
              "         [-0.],\n",
              "         [-1.],\n",
              "         [-0.],\n",
              "         [-1.],\n",
              "         [-1.],\n",
              "         [-1.],\n",
              "         [-0.],\n",
              "         [-1.]]),\n",
              " tensor([1., 0., 1., 0., 1., 1., 0., 0., 1., 0.]))"
            ]
          },
          "metadata": {},
          "execution_count": 80
        }
      ]
    },
    {
      "cell_type": "code",
      "source": [
        "### loss function and optimizer\n",
        "loss_fn = nn.BCEWithLogitsLoss()  ## combines bce with sigmoid loss, more numerically stable\n",
        "optimizer = torch.optim.SGD(params=model_0.parameters(), lr=0.1)"
      ],
      "metadata": {
        "id": "6cVhU7auScMX"
      },
      "execution_count": null,
      "outputs": []
    },
    {
      "cell_type": "code",
      "source": [
        "## accuracy\n",
        "def accuracy_fn(y_true, y_pred):\n",
        "  correct = torch.eq(y_true, y_pred).sum().item()\n",
        "  acc = (correct / len(y_pred)) * 100\n",
        "  return acc"
      ],
      "metadata": {
        "id": "zLqgapO4XZN8"
      },
      "execution_count": null,
      "outputs": []
    },
    {
      "cell_type": "code",
      "source": [
        "model_0.state_dict()"
      ],
      "metadata": {
        "colab": {
          "base_uri": "https://localhost:8080/"
        },
        "id": "PEYY6TRtXU4i",
        "outputId": "943e1640-792f-4aff-8874-b802aba6f91e"
      },
      "execution_count": null,
      "outputs": [
        {
          "output_type": "execute_result",
          "data": {
            "text/plain": [
              "OrderedDict([('layer_1.weight',\n",
              "              tensor([[ 0.3365, -0.1916],\n",
              "                      [ 0.5194,  0.0656],\n",
              "                      [ 0.1252,  0.6766],\n",
              "                      [ 0.5480,  0.6934],\n",
              "                      [-0.1987, -0.2482]])),\n",
              "             ('layer_1.bias',\n",
              "              tensor([0.5475, 0.7058, 0.0939, 0.0999, 0.3135])),\n",
              "             ('layer_2.weight',\n",
              "              tensor([[-0.2543, -0.4101, -0.1876, -0.4426,  0.2796]])),\n",
              "             ('layer_2.bias', tensor([-0.2186]))])"
            ]
          },
          "metadata": {},
          "execution_count": 83
        }
      ]
    },
    {
      "cell_type": "code",
      "source": [
        "### train model\n",
        "model_01.eval()\n",
        "with torch.inference_mode():\n",
        "  y_logits = model_01(X_test.to(device))[:5]\n",
        "y_logits"
      ],
      "metadata": {
        "id": "LKLhwHS6XWqd",
        "colab": {
          "base_uri": "https://localhost:8080/"
        },
        "outputId": "a9b9dde7-33d9-4d1b-e1ea-dc5f6156c646"
      },
      "execution_count": null,
      "outputs": [
        {
          "output_type": "execute_result",
          "data": {
            "text/plain": [
              "tensor([[-0.3297],\n",
              "        [-0.2955],\n",
              "        [-0.3057],\n",
              "        [-0.3370],\n",
              "        [-0.1253]])"
            ]
          },
          "metadata": {},
          "execution_count": 84
        }
      ]
    },
    {
      "cell_type": "code",
      "source": [
        "y_test[:5]"
      ],
      "metadata": {
        "colab": {
          "base_uri": "https://localhost:8080/"
        },
        "id": "Rlo89S2UZ1Z6",
        "outputId": "210a3255-0596-4f4d-b43c-47227440d6bb"
      },
      "execution_count": null,
      "outputs": [
        {
          "output_type": "execute_result",
          "data": {
            "text/plain": [
              "tensor([1., 0., 1., 0., 1.])"
            ]
          },
          "metadata": {},
          "execution_count": 85
        }
      ]
    },
    {
      "cell_type": "code",
      "source": [
        "### using sigmoid as our activation function\n",
        "y_preds_probs = torch.sigmoid(y_logits)\n",
        "y_preds_probs"
      ],
      "metadata": {
        "colab": {
          "base_uri": "https://localhost:8080/"
        },
        "id": "3hYEzYUje_4j",
        "outputId": "96bb54f7-8631-45c9-f9b3-1e67d0dbcdb4"
      },
      "execution_count": null,
      "outputs": [
        {
          "output_type": "execute_result",
          "data": {
            "text/plain": [
              "tensor([[0.4183],\n",
              "        [0.4267],\n",
              "        [0.4242],\n",
              "        [0.4165],\n",
              "        [0.4687]])"
            ]
          },
          "metadata": {},
          "execution_count": 86
        }
      ]
    },
    {
      "cell_type": "code",
      "source": [
        "y_preds = torch.round(y_preds_probs)"
      ],
      "metadata": {
        "id": "tez9w8FlfN5j"
      },
      "execution_count": null,
      "outputs": []
    },
    {
      "cell_type": "code",
      "source": [
        "y_pred_labels = torch.round(torch.sigmoid(model_01(X_test.to(device))[:5]))"
      ],
      "metadata": {
        "id": "4Ct-xIjVfRlL"
      },
      "execution_count": null,
      "outputs": []
    },
    {
      "cell_type": "code",
      "source": [
        "## check for equality\n",
        "torch.eq(y_preds.squeeze(), y_pred_labels.squeeze())"
      ],
      "metadata": {
        "colab": {
          "base_uri": "https://localhost:8080/"
        },
        "id": "IwdSsnlEhr1f",
        "outputId": "2fc88099-5af5-4920-ed17-d7aa625a7fff"
      },
      "execution_count": null,
      "outputs": [
        {
          "output_type": "execute_result",
          "data": {
            "text/plain": [
              "tensor([True, True, True, True, True])"
            ]
          },
          "metadata": {},
          "execution_count": 89
        }
      ]
    },
    {
      "cell_type": "code",
      "source": [
        "y_preds.squeeze()"
      ],
      "metadata": {
        "colab": {
          "base_uri": "https://localhost:8080/"
        },
        "id": "qSIfa7PWh6Rb",
        "outputId": "7ecd2cf6-67f5-45ce-ee3c-7af5add20b8e"
      },
      "execution_count": null,
      "outputs": [
        {
          "output_type": "execute_result",
          "data": {
            "text/plain": [
              "tensor([0., 0., 0., 0., 0.])"
            ]
          },
          "metadata": {},
          "execution_count": 90
        }
      ]
    },
    {
      "cell_type": "code",
      "source": [
        "y_preds"
      ],
      "metadata": {
        "colab": {
          "base_uri": "https://localhost:8080/"
        },
        "id": "ZmsXtAuTiHBT",
        "outputId": "ef93ecdb-f6f0-4e77-a5d1-a7059af69185"
      },
      "execution_count": null,
      "outputs": [
        {
          "output_type": "execute_result",
          "data": {
            "text/plain": [
              "tensor([[0.],\n",
              "        [0.],\n",
              "        [0.],\n",
              "        [0.],\n",
              "        [0.]])"
            ]
          },
          "metadata": {},
          "execution_count": 91
        }
      ]
    },
    {
      "cell_type": "code",
      "source": [
        "y_pred_labels"
      ],
      "metadata": {
        "colab": {
          "base_uri": "https://localhost:8080/"
        },
        "id": "8FMir3o1iI_r",
        "outputId": "68766917-151c-47ff-9439-4c64df20895a"
      },
      "execution_count": null,
      "outputs": [
        {
          "output_type": "execute_result",
          "data": {
            "text/plain": [
              "tensor([[0.],\n",
              "        [0.],\n",
              "        [0.],\n",
              "        [0.],\n",
              "        [0.]], grad_fn=<RoundBackward0>)"
            ]
          },
          "metadata": {},
          "execution_count": 92
        }
      ]
    },
    {
      "cell_type": "code",
      "source": [
        "torch.manual_seed(67)\n",
        "## torch.cuda.manual_seed(98)\n",
        "epochs = 100\n",
        "## put data into target device\n",
        "X_train, y_train = X_train.to(device), y_train.to(device)\n",
        "X_test, y_test = X_test.to(device), y_test.to(device)\n",
        "\n",
        "## building training and evaluation loop\n",
        "for epoch in range(epochs):\n",
        "  ### training\n",
        "  model_01.train()\n",
        "\n",
        "  ## forward pass\n",
        "  y_logits = model_01(X_train).squeeze()\n",
        "  y_pred = torch.round(torch.sigmoid(y_logits))\n",
        "\n",
        "  ## loss and accuracy\n",
        "  # loss = loss_fn(torch.sigmoid(y_logits),y_train) ## nn.BCELoss expects prediction probabilities as input\n",
        "  loss = loss_fn(y_logits, y_train) ## nn.BCEWithLogitsLoss expects raw logits as input\n",
        "  acc = accuracy_fn(y_true=y_train, y_pred=y_pred)\n",
        "\n",
        "  ## optimizer zero grad\n",
        "  optimizer.zero_grad()\n",
        "\n",
        "  ## loss backward\n",
        "  loss.backward()\n",
        "\n",
        "  ## optimizer step\n",
        "  optimizer.step()\n",
        "\n",
        "  ## testing\n",
        "  model_01.eval()\n",
        "  with torch.inference_mode():\n",
        "    ## forward pass\n",
        "    test_logits = model_01(X_test).squeeze()\n",
        "    test_pred = torch.round(torch.sigmoid(test_logits))\n",
        "\n",
        "    ## calculate test loss/acc\n",
        "    test_loss = loss_fn(test_logits, y_test)\n",
        "    test_acc = accuracy_fn(y_true=y_test, y_pred=test_pred)\n",
        "\n",
        "    if epoch % 10 == 0:\n",
        "      print(f\"Epoch: {epoch} | Loss: {loss:.5f} | Acc: {acc:.2f}% | Test Loss: {test_loss:.5f} | Test Acc: {test_acc:.2f}%\")"
      ],
      "metadata": {
        "colab": {
          "base_uri": "https://localhost:8080/"
        },
        "id": "Q_jAvog-IPUW",
        "outputId": "78a10376-1c99-43ef-fbd2-6d4ad924e310"
      },
      "execution_count": null,
      "outputs": [
        {
          "output_type": "stream",
          "name": "stdout",
          "text": [
            "Epoch: 0 | Loss: 0.70103 | Acc: 50.00% | Test Loss: 0.70110 | Test Acc: 50.00%\n",
            "Epoch: 10 | Loss: 0.70103 | Acc: 50.00% | Test Loss: 0.70110 | Test Acc: 50.00%\n",
            "Epoch: 20 | Loss: 0.70103 | Acc: 50.00% | Test Loss: 0.70110 | Test Acc: 50.00%\n",
            "Epoch: 30 | Loss: 0.70103 | Acc: 50.00% | Test Loss: 0.70110 | Test Acc: 50.00%\n",
            "Epoch: 40 | Loss: 0.70103 | Acc: 50.00% | Test Loss: 0.70110 | Test Acc: 50.00%\n",
            "Epoch: 50 | Loss: 0.70103 | Acc: 50.00% | Test Loss: 0.70110 | Test Acc: 50.00%\n",
            "Epoch: 60 | Loss: 0.70103 | Acc: 50.00% | Test Loss: 0.70110 | Test Acc: 50.00%\n",
            "Epoch: 70 | Loss: 0.70103 | Acc: 50.00% | Test Loss: 0.70110 | Test Acc: 50.00%\n",
            "Epoch: 80 | Loss: 0.70103 | Acc: 50.00% | Test Loss: 0.70110 | Test Acc: 50.00%\n",
            "Epoch: 90 | Loss: 0.70103 | Acc: 50.00% | Test Loss: 0.70110 | Test Acc: 50.00%\n"
          ]
        }
      ]
    },
    {
      "cell_type": "code",
      "source": [],
      "metadata": {
        "id": "_dF7w_IzYt7-"
      },
      "execution_count": null,
      "outputs": []
    }
  ]
}