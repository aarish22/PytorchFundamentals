{
  "nbformat": 4,
  "nbformat_minor": 0,
  "metadata": {
    "colab": {
      "provenance": []
    },
    "kernelspec": {
      "name": "python3",
      "display_name": "Python 3"
    },
    "language_info": {
      "name": "python"
    }
  },
  "cells": [
    {
      "cell_type": "code",
      "source": [
        "import torch\n",
        "from torch import nn\n",
        "import torchvision\n",
        "from torchvision import datasets\n",
        "from torchvision import transforms\n",
        "from torchvision.transforms import ToTensor\n",
        "import matplotlib.pyplot as plt"
      ],
      "metadata": {
        "id": "et2fQUueaLO1"
      },
      "execution_count": 14,
      "outputs": []
    },
    {
      "cell_type": "code",
      "source": [
        "torch.__version__"
      ],
      "metadata": {
        "colab": {
          "base_uri": "https://localhost:8080/",
          "height": 36
        },
        "id": "EY1jl4caaUAs",
        "outputId": "627dc6aa-4198-4840-c4c4-b66a5066babe"
      },
      "execution_count": 9,
      "outputs": [
        {
          "output_type": "execute_result",
          "data": {
            "text/plain": [
              "'2.4.0+cu121'"
            ],
            "application/vnd.google.colaboratory.intrinsic+json": {
              "type": "string"
            }
          },
          "metadata": {},
          "execution_count": 9
        }
      ]
    },
    {
      "cell_type": "code",
      "source": [
        "torchvision.__version__"
      ],
      "metadata": {
        "colab": {
          "base_uri": "https://localhost:8080/",
          "height": 36
        },
        "id": "jux08Rk9adkF",
        "outputId": "dc205ba5-2c29-46de-c94e-734442834712"
      },
      "execution_count": 15,
      "outputs": [
        {
          "output_type": "execute_result",
          "data": {
            "text/plain": [
              "'0.19.0+cu121'"
            ],
            "application/vnd.google.colaboratory.intrinsic+json": {
              "type": "string"
            }
          },
          "metadata": {},
          "execution_count": 15
        }
      ]
    },
    {
      "cell_type": "markdown",
      "source": [
        "`Getting a dataset`"
      ],
      "metadata": {
        "id": "ainsYO7waw28"
      }
    },
    {
      "cell_type": "code",
      "source": [
        "train_dataset = datasets.FashionMNIST(\n",
        "    root=\"data\", ## where to\n",
        "    train=True, ## do we want the training datset\n",
        "    download=True, ## do we want to download it\n",
        "    transform=ToTensor(), ## transform them to tensors\n",
        "    target_transform=None ## transform the labels\n",
        ")\n",
        "\n",
        "test_dataset = datasets.FashionMNIST(\n",
        "    root=\"data\",\n",
        "    train=False,\n",
        "    download=True,\n",
        "    transform=ToTensor(),\n",
        "    target_transform=None\n",
        ")"
      ],
      "metadata": {
        "colab": {
          "base_uri": "https://localhost:8080/"
        },
        "id": "GgpCjc8UdoJX",
        "outputId": "04939e93-c225-4f57-ea47-7b7056362b86"
      },
      "execution_count": 17,
      "outputs": [
        {
          "output_type": "stream",
          "name": "stdout",
          "text": [
            "Downloading http://fashion-mnist.s3-website.eu-central-1.amazonaws.com/train-images-idx3-ubyte.gz\n",
            "Downloading http://fashion-mnist.s3-website.eu-central-1.amazonaws.com/train-images-idx3-ubyte.gz to data/FashionMNIST/raw/train-images-idx3-ubyte.gz\n"
          ]
        },
        {
          "output_type": "stream",
          "name": "stderr",
          "text": [
            "100%|██████████| 26421880/26421880 [00:05<00:00, 4955888.45it/s]\n"
          ]
        },
        {
          "output_type": "stream",
          "name": "stdout",
          "text": [
            "Extracting data/FashionMNIST/raw/train-images-idx3-ubyte.gz to data/FashionMNIST/raw\n",
            "\n",
            "Downloading http://fashion-mnist.s3-website.eu-central-1.amazonaws.com/train-labels-idx1-ubyte.gz\n",
            "Downloading http://fashion-mnist.s3-website.eu-central-1.amazonaws.com/train-labels-idx1-ubyte.gz to data/FashionMNIST/raw/train-labels-idx1-ubyte.gz\n"
          ]
        },
        {
          "output_type": "stream",
          "name": "stderr",
          "text": [
            "100%|██████████| 29515/29515 [00:00<00:00, 200912.88it/s]\n"
          ]
        },
        {
          "output_type": "stream",
          "name": "stdout",
          "text": [
            "Extracting data/FashionMNIST/raw/train-labels-idx1-ubyte.gz to data/FashionMNIST/raw\n",
            "\n",
            "Downloading http://fashion-mnist.s3-website.eu-central-1.amazonaws.com/t10k-images-idx3-ubyte.gz\n",
            "Downloading http://fashion-mnist.s3-website.eu-central-1.amazonaws.com/t10k-images-idx3-ubyte.gz to data/FashionMNIST/raw/t10k-images-idx3-ubyte.gz\n"
          ]
        },
        {
          "output_type": "stream",
          "name": "stderr",
          "text": [
            "100%|██████████| 4422102/4422102 [00:01<00:00, 3709622.25it/s]\n"
          ]
        },
        {
          "output_type": "stream",
          "name": "stdout",
          "text": [
            "Extracting data/FashionMNIST/raw/t10k-images-idx3-ubyte.gz to data/FashionMNIST/raw\n",
            "\n",
            "Downloading http://fashion-mnist.s3-website.eu-central-1.amazonaws.com/t10k-labels-idx1-ubyte.gz\n",
            "Downloading http://fashion-mnist.s3-website.eu-central-1.amazonaws.com/t10k-labels-idx1-ubyte.gz to data/FashionMNIST/raw/t10k-labels-idx1-ubyte.gz\n"
          ]
        },
        {
          "output_type": "stream",
          "name": "stderr",
          "text": [
            "100%|██████████| 5148/5148 [00:00<00:00, 9080015.56it/s]\n"
          ]
        },
        {
          "output_type": "stream",
          "name": "stdout",
          "text": [
            "Extracting data/FashionMNIST/raw/t10k-labels-idx1-ubyte.gz to data/FashionMNIST/raw\n",
            "\n"
          ]
        }
      ]
    },
    {
      "cell_type": "code",
      "source": [
        "len(train_dataset), len(test_dataset)"
      ],
      "metadata": {
        "colab": {
          "base_uri": "https://localhost:8080/"
        },
        "id": "nY_kgCnMeJPl",
        "outputId": "8feedd4d-302e-4b57-f5e5-4d58fe1ef817"
      },
      "execution_count": 18,
      "outputs": [
        {
          "output_type": "execute_result",
          "data": {
            "text/plain": [
              "(60000, 10000)"
            ]
          },
          "metadata": {},
          "execution_count": 18
        }
      ]
    },
    {
      "cell_type": "code",
      "source": [
        "image, label = train_dataset[0]\n",
        "image.shape, label"
      ],
      "metadata": {
        "colab": {
          "base_uri": "https://localhost:8080/"
        },
        "id": "JZAUzWiCfx_I",
        "outputId": "7c026a75-7531-4589-e868-26385310dbb9"
      },
      "execution_count": 19,
      "outputs": [
        {
          "output_type": "execute_result",
          "data": {
            "text/plain": [
              "(torch.Size([1, 28, 28]), 9)"
            ]
          },
          "metadata": {},
          "execution_count": 19
        }
      ]
    },
    {
      "cell_type": "code",
      "source": [
        "image"
      ],
      "metadata": {
        "colab": {
          "base_uri": "https://localhost:8080/"
        },
        "id": "Km-I7e3elRNB",
        "outputId": "e95d5295-dc4e-4ab7-8b00-68bcabf0b116"
      },
      "execution_count": 37,
      "outputs": [
        {
          "output_type": "execute_result",
          "data": {
            "text/plain": [
              "tensor([[[0.0000, 0.0000, 0.0000, 0.0000, 0.0000, 0.0000, 0.0000, 0.0039,\n",
              "          0.0000, 0.2588, 0.0510, 0.0000, 0.0039, 0.0039, 0.0039, 0.0000,\n",
              "          0.0039, 0.0000, 0.0941, 0.2078, 0.0000, 0.0157, 0.0000, 0.0000,\n",
              "          0.0000, 0.0000, 0.0000, 0.0000],\n",
              "         [0.0000, 0.0000, 0.0000, 0.0000, 0.0000, 0.0000, 0.0000, 0.0157,\n",
              "          0.0000, 0.3059, 0.1725, 0.0000, 0.0078, 0.0000, 0.0000, 0.0000,\n",
              "          0.0039, 0.0000, 0.1765, 0.1922, 0.0000, 0.0157, 0.0000, 0.0000,\n",
              "          0.0000, 0.0000, 0.0000, 0.0000],\n",
              "         [0.0000, 0.0000, 0.0000, 0.0000, 0.0000, 0.0000, 0.0000, 0.0039,\n",
              "          0.0000, 0.0863, 0.3569, 0.0000, 0.0157, 0.0000, 0.0039, 0.0000,\n",
              "          0.0078, 0.0000, 0.3137, 0.0706, 0.0000, 0.0078, 0.0000, 0.0000,\n",
              "          0.0000, 0.0000, 0.0000, 0.0000],\n",
              "         [0.0000, 0.0000, 0.0000, 0.0000, 0.0000, 0.0000, 0.0000, 0.0078,\n",
              "          0.0000, 0.0157, 0.6000, 0.0000, 0.0000, 0.0000, 0.0078, 0.0000,\n",
              "          0.0000, 0.0000, 0.4784, 0.0000, 0.0000, 0.0039, 0.0000, 0.0000,\n",
              "          0.0000, 0.0000, 0.0000, 0.0000],\n",
              "         [0.0000, 0.0000, 0.0000, 0.0000, 0.0000, 0.0000, 0.0000, 0.0196,\n",
              "          0.0000, 0.2157, 0.7333, 0.1137, 0.0000, 0.0000, 0.0000, 0.0039,\n",
              "          0.0000, 0.2196, 0.6902, 0.0510, 0.0000, 0.0078, 0.0000, 0.0000,\n",
              "          0.0000, 0.0000, 0.0000, 0.0000],\n",
              "         [0.0000, 0.0000, 0.0000, 0.0000, 0.0000, 0.0000, 0.0000, 0.0000,\n",
              "          0.0000, 0.4863, 0.7882, 0.6863, 0.1765, 0.0000, 0.0000, 0.0000,\n",
              "          0.2157, 0.6980, 0.7804, 0.2000, 0.0000, 0.0196, 0.0000, 0.0000,\n",
              "          0.0000, 0.0000, 0.0000, 0.0000],\n",
              "         [0.0000, 0.0000, 0.0000, 0.0000, 0.0000, 0.0000, 0.0000, 0.0000,\n",
              "          0.0000, 0.5608, 0.7686, 0.7137, 0.8275, 0.4745, 0.3843, 0.5216,\n",
              "          0.7961, 0.6863, 0.7647, 0.2275, 0.0000, 0.0039, 0.0000, 0.0000,\n",
              "          0.0000, 0.0000, 0.0000, 0.0000],\n",
              "         [0.0000, 0.0000, 0.0000, 0.0000, 0.0000, 0.0000, 0.0000, 0.0000,\n",
              "          0.0000, 0.6118, 0.8039, 0.7059, 0.7765, 0.8235, 0.6863, 0.8196,\n",
              "          0.7490, 0.6980, 0.8275, 0.4275, 0.0000, 0.0078, 0.0000, 0.0000,\n",
              "          0.0000, 0.0000, 0.0000, 0.0000],\n",
              "         [0.0000, 0.0000, 0.0000, 0.0000, 0.0000, 0.0000, 0.0000, 0.0000,\n",
              "          0.0000, 0.5176, 0.8196, 0.7216, 0.7529, 0.7451, 0.7020, 0.7333,\n",
              "          0.7294, 0.7294, 0.8196, 0.3216, 0.0000, 0.0039, 0.0000, 0.0000,\n",
              "          0.0000, 0.0000, 0.0000, 0.0000],\n",
              "         [0.0000, 0.0000, 0.0000, 0.0000, 0.0000, 0.0000, 0.0000, 0.0000,\n",
              "          0.0000, 0.4745, 0.8275, 0.6902, 0.7451, 0.7451, 0.7686, 0.7647,\n",
              "          0.7451, 0.6745, 0.9765, 0.2471, 0.0000, 0.0078, 0.0000, 0.0000,\n",
              "          0.0000, 0.0000, 0.0000, 0.0000],\n",
              "         [0.0000, 0.0000, 0.0000, 0.0000, 0.0000, 0.0000, 0.0000, 0.0000,\n",
              "          0.0000, 0.4314, 0.8392, 0.7137, 0.7686, 0.7686, 0.7882, 0.7647,\n",
              "          0.7529, 0.7059, 0.9647, 0.2431, 0.0000, 0.0078, 0.0000, 0.0000,\n",
              "          0.0000, 0.0000, 0.0000, 0.0000],\n",
              "         [0.0000, 0.0000, 0.0000, 0.0000, 0.0000, 0.0000, 0.0000, 0.0000,\n",
              "          0.0000, 0.4039, 0.8588, 0.7137, 0.7765, 0.7804, 0.7529, 0.7804,\n",
              "          0.7647, 0.7373, 0.9804, 0.2980, 0.0000, 0.0039, 0.0000, 0.0000,\n",
              "          0.0000, 0.0000, 0.0000, 0.0000],\n",
              "         [0.0000, 0.0000, 0.0000, 0.0000, 0.0000, 0.0000, 0.0000, 0.0039,\n",
              "          0.0000, 0.4706, 0.8588, 0.7294, 0.7804, 0.7922, 0.7647, 0.7882,\n",
              "          0.7608, 0.7451, 0.8706, 0.3725, 0.0000, 0.0078, 0.0000, 0.0000,\n",
              "          0.0000, 0.0000, 0.0000, 0.0000],\n",
              "         [0.0000, 0.0000, 0.0000, 0.0000, 0.0000, 0.0000, 0.0000, 0.0000,\n",
              "          0.0000, 0.6275, 0.8392, 0.7333, 0.7451, 0.7490, 0.7647, 0.8039,\n",
              "          0.7608, 0.6902, 0.8588, 0.5961, 0.0000, 0.0000, 0.0000, 0.0000,\n",
              "          0.0000, 0.0000, 0.0000, 0.0000],\n",
              "         [0.0000, 0.0000, 0.0000, 0.0000, 0.0000, 0.0000, 0.0000, 0.0000,\n",
              "          0.0000, 0.8235, 0.8196, 0.7529, 0.7333, 0.7490, 0.7490, 0.7804,\n",
              "          0.7961, 0.7176, 0.8353, 0.8039, 0.0000, 0.0000, 0.0000, 0.0000,\n",
              "          0.0000, 0.0000, 0.0000, 0.0000],\n",
              "         [0.0000, 0.0000, 0.0000, 0.0000, 0.0000, 0.0000, 0.0000, 0.0000,\n",
              "          0.0863, 1.0000, 0.8039, 0.7804, 0.7490, 0.7882, 0.8039, 0.7647,\n",
              "          0.7647, 0.7451, 0.7765, 1.0000, 0.0157, 0.0000, 0.0000, 0.0000,\n",
              "          0.0000, 0.0000, 0.0000, 0.0000],\n",
              "         [0.0000, 0.0000, 0.0000, 0.0000, 0.0000, 0.0000, 0.0000, 0.0000,\n",
              "          0.4157, 0.8667, 0.7765, 0.7686, 0.7490, 0.7765, 0.8039, 0.7804,\n",
              "          0.7686, 0.7804, 0.7216, 0.8667, 0.3333, 0.0000, 0.0000, 0.0000,\n",
              "          0.0000, 0.0000, 0.0000, 0.0000],\n",
              "         [0.0000, 0.0000, 0.0000, 0.0000, 0.0000, 0.0000, 0.0000, 0.0000,\n",
              "          0.7020, 0.8431, 0.8039, 0.7608, 0.7490, 0.7333, 0.8039, 0.7765,\n",
              "          0.7686, 0.7804, 0.7373, 0.8392, 0.6118, 0.0000, 0.0000, 0.0000,\n",
              "          0.0000, 0.0000, 0.0000, 0.0000],\n",
              "         [0.0000, 0.0000, 0.0000, 0.0000, 0.0000, 0.0000, 0.0000, 0.0000,\n",
              "          0.8392, 0.8039, 0.8353, 0.7922, 0.7882, 0.7922, 0.8039, 0.7765,\n",
              "          0.7529, 0.7490, 0.7294, 0.8118, 0.7922, 0.0000, 0.0000, 0.0000,\n",
              "          0.0000, 0.0000, 0.0000, 0.0000],\n",
              "         [0.0000, 0.0000, 0.0000, 0.0000, 0.0000, 0.0000, 0.0000, 0.0196,\n",
              "          0.9333, 0.7882, 0.8275, 0.7686, 0.7686, 0.7608, 0.8196, 0.8275,\n",
              "          0.7686, 0.7647, 0.7451, 0.8235, 0.9020, 0.0000, 0.0000, 0.0000,\n",
              "          0.0000, 0.0000, 0.0000, 0.0000],\n",
              "         [0.0000, 0.0000, 0.0000, 0.0000, 0.0000, 0.0000, 0.0000, 0.1608,\n",
              "          0.9333, 0.7529, 0.8078, 0.7804, 0.7608, 0.7529, 0.8118, 0.7922,\n",
              "          0.7804, 0.7647, 0.7490, 0.7882, 0.9569, 0.0549, 0.0000, 0.0000,\n",
              "          0.0000, 0.0000, 0.0000, 0.0000],\n",
              "         [0.0000, 0.0000, 0.0000, 0.0000, 0.0000, 0.0000, 0.0000, 0.3059,\n",
              "          0.9490, 0.7804, 0.8078, 0.7882, 0.7765, 0.7804, 0.8078, 0.8078,\n",
              "          0.7882, 0.7804, 0.7804, 0.8078, 0.9765, 0.1882, 0.0000, 0.0000,\n",
              "          0.0000, 0.0000, 0.0000, 0.0000],\n",
              "         [0.0000, 0.0000, 0.0000, 0.0000, 0.0000, 0.0000, 0.0000, 0.4039,\n",
              "          0.9137, 0.7608, 0.8078, 0.7882, 0.7804, 0.7686, 0.8275, 0.8118,\n",
              "          0.8235, 0.7765, 0.7608, 0.7922, 0.9725, 0.2941, 0.0000, 0.0000,\n",
              "          0.0000, 0.0000, 0.0000, 0.0000],\n",
              "         [0.0000, 0.0000, 0.0000, 0.0000, 0.0000, 0.0000, 0.0000, 0.4314,\n",
              "          0.8941, 0.7647, 0.7961, 0.7765, 0.7804, 0.7804, 0.8235, 0.8275,\n",
              "          0.8118, 0.7765, 0.7882, 0.7961, 0.9490, 0.3882, 0.0000, 0.0000,\n",
              "          0.0000, 0.0000, 0.0000, 0.0000],\n",
              "         [0.0000, 0.0000, 0.0000, 0.0000, 0.0000, 0.0000, 0.0000, 0.5412,\n",
              "          0.8549, 0.7608, 0.8039, 0.7686, 0.7608, 0.7686, 0.7922, 0.7882,\n",
              "          0.7961, 0.7647, 0.7490, 0.7882, 0.9294, 0.4275, 0.0000, 0.0000,\n",
              "          0.0000, 0.0000, 0.0000, 0.0000],\n",
              "         [0.0000, 0.0000, 0.0000, 0.0000, 0.0000, 0.0000, 0.0000, 0.6000,\n",
              "          0.9176, 0.7451, 0.7961, 0.8196, 0.8275, 0.8392, 0.8392, 0.8824,\n",
              "          0.8431, 0.8588, 0.8039, 0.8078, 0.8510, 0.4784, 0.0000, 0.0000,\n",
              "          0.0000, 0.0000, 0.0000, 0.0000],\n",
              "         [0.0000, 0.0000, 0.0000, 0.0000, 0.0000, 0.0000, 0.0000, 0.0824,\n",
              "          0.8941, 0.9569, 0.9412, 0.7490, 0.6667, 0.7451, 0.6706, 0.7529,\n",
              "          0.7490, 0.7137, 0.7529, 0.7216, 1.0000, 0.6078, 0.0000, 0.0000,\n",
              "          0.0000, 0.0000, 0.0000, 0.0000],\n",
              "         [0.0000, 0.0000, 0.0000, 0.0000, 0.0000, 0.0000, 0.0000, 0.0000,\n",
              "          0.0039, 0.2431, 0.3843, 0.3647, 0.3686, 0.4314, 0.3725, 0.4275,\n",
              "          0.4196, 0.3098, 0.3098, 0.2667, 0.1020, 0.0000, 0.0000, 0.0000,\n",
              "          0.0000, 0.0000, 0.0000, 0.0000]]])"
            ]
          },
          "metadata": {},
          "execution_count": 37
        }
      ]
    },
    {
      "cell_type": "code",
      "source": [
        "label"
      ],
      "metadata": {
        "colab": {
          "base_uri": "https://localhost:8080/"
        },
        "id": "39BCgO1Lf1c3",
        "outputId": "4e2518a7-8da2-4aa2-f8d7-9577d2708224"
      },
      "execution_count": 20,
      "outputs": [
        {
          "output_type": "execute_result",
          "data": {
            "text/plain": [
              "9"
            ]
          },
          "metadata": {},
          "execution_count": 20
        }
      ]
    },
    {
      "cell_type": "code",
      "source": [
        "class_names = train_dataset.classes\n",
        "class_names"
      ],
      "metadata": {
        "colab": {
          "base_uri": "https://localhost:8080/"
        },
        "id": "J1ozo6MegcIN",
        "outputId": "d6f9a13e-043d-4b54-dcd0-fb02822a7840"
      },
      "execution_count": 21,
      "outputs": [
        {
          "output_type": "execute_result",
          "data": {
            "text/plain": [
              "['T-shirt/top',\n",
              " 'Trouser',\n",
              " 'Pullover',\n",
              " 'Dress',\n",
              " 'Coat',\n",
              " 'Sandal',\n",
              " 'Shirt',\n",
              " 'Sneaker',\n",
              " 'Bag',\n",
              " 'Ankle boot']"
            ]
          },
          "metadata": {},
          "execution_count": 21
        }
      ]
    },
    {
      "cell_type": "code",
      "source": [
        "class_to_idx = train_dataset.class_to_idx\n",
        "class_to_idx"
      ],
      "metadata": {
        "colab": {
          "base_uri": "https://localhost:8080/"
        },
        "id": "9TLSRl2DgjUl",
        "outputId": "11247e7e-554e-4013-fdca-ab4335f4474b"
      },
      "execution_count": 22,
      "outputs": [
        {
          "output_type": "execute_result",
          "data": {
            "text/plain": [
              "{'T-shirt/top': 0,\n",
              " 'Trouser': 1,\n",
              " 'Pullover': 2,\n",
              " 'Dress': 3,\n",
              " 'Coat': 4,\n",
              " 'Sandal': 5,\n",
              " 'Shirt': 6,\n",
              " 'Sneaker': 7,\n",
              " 'Bag': 8,\n",
              " 'Ankle boot': 9}"
            ]
          },
          "metadata": {},
          "execution_count": 22
        }
      ]
    },
    {
      "cell_type": "code",
      "source": [
        "train_dataset.targets"
      ],
      "metadata": {
        "colab": {
          "base_uri": "https://localhost:8080/"
        },
        "id": "kRsiD4HNgl7N",
        "outputId": "9d4d45f3-c53d-4e09-8e7a-1917fa56e112"
      },
      "execution_count": 23,
      "outputs": [
        {
          "output_type": "execute_result",
          "data": {
            "text/plain": [
              "tensor([9, 0, 0,  ..., 3, 0, 5])"
            ]
          },
          "metadata": {},
          "execution_count": 23
        }
      ]
    },
    {
      "cell_type": "code",
      "source": [
        "label"
      ],
      "metadata": {
        "colab": {
          "base_uri": "https://localhost:8080/"
        },
        "id": "AgxtgoY2h75n",
        "outputId": "571d643a-715c-4363-f122-d8455b63b775"
      },
      "execution_count": 24,
      "outputs": [
        {
          "output_type": "execute_result",
          "data": {
            "text/plain": [
              "9"
            ]
          },
          "metadata": {},
          "execution_count": 24
        }
      ]
    },
    {
      "cell_type": "code",
      "source": [
        "plt.imshow(image.squeeze())\n",
        "plt.title(class_names[label])\n",
        "plt.axis(\"off\")"
      ],
      "metadata": {
        "colab": {
          "base_uri": "https://localhost:8080/",
          "height": 445
        },
        "id": "byNecB4Gh_vF",
        "outputId": "a5958a7e-13e1-4369-a648-136d95e6f06c"
      },
      "execution_count": 28,
      "outputs": [
        {
          "output_type": "execute_result",
          "data": {
            "text/plain": [
              "(-0.5, 27.5, 27.5, -0.5)"
            ]
          },
          "metadata": {},
          "execution_count": 28
        },
        {
          "output_type": "display_data",
          "data": {
            "text/plain": [
              "<Figure size 640x480 with 1 Axes>"
            ],
            "image/png": "[encoded data removed]"
          },
          "metadata": {}
        }
      ]
    },
    {
      "cell_type": "code",
      "source": [
        "plt.imshow(image.squeeze(),cmap=\"gray\")\n",
        "plt.title(class_names[label])\n",
        "plt.axis(\"off\")"
      ],
      "metadata": {
        "colab": {
          "base_uri": "https://localhost:8080/",
          "height": 445
        },
        "id": "YJ5nTl23jzPt",
        "outputId": "90fbc84d-f742-4d81-b6c9-6bcaa6644542"
      },
      "execution_count": 34,
      "outputs": [
        {
          "output_type": "execute_result",
          "data": {
            "text/plain": [
              "(-0.5, 27.5, 27.5, -0.5)"
            ]
          },
          "metadata": {},
          "execution_count": 34
        },
        {
          "output_type": "display_data",
          "data": {
            "text/plain": [
              "<Figure size 640x480 with 1 Axes>"
            ],
            "image/png": "[encoded data removed]"
          },
          "metadata": {}
        }
      ]
    },
    {
      "cell_type": "code",
      "source": [
        "## plot random images\n",
        "#torch.manual_seed(23)\n",
        "\n",
        "fig = plt.figure(figsize=(9,9))\n",
        "rows, cols = 4,4\n",
        "for i in range(1,rows*cols+1):\n",
        "    random_idx = torch.randint(0,len(train_dataset),size=[1]).item()\n",
        "    image, label = train_dataset[random_idx]\n",
        "    fig.add_subplot(rows,cols,i)\n",
        "    plt.imshow(image.squeeze(),cmap=\"gray\")\n",
        "    plt.title(class_names[label])\n",
        "    plt.axis(\"off\")"
      ],
      "metadata": {
        "colab": {
          "base_uri": "https://localhost:8080/",
          "height": 679
        },
        "id": "gCLTfDHPkMcd",
        "outputId": "28fb88a2-8265-4558-d8b3-e100245a6c7a"
      },
      "execution_count": 36,
      "outputs": [
        {
          "output_type": "display_data",
          "data": {
            "text/plain": [
              "<Figure size 900x900 with 16 Axes>"
            ],
            "image/png": "[encoded data removed]"
          },
          "metadata": {}
        }
      ]
    },
    {
      "cell_type": "code",
      "source": [
        "train_dataset, test_dataset"
      ],
      "metadata": {
        "colab": {
          "base_uri": "https://localhost:8080/"
        },
        "id": "xyiqnul5krQF",
        "outputId": "dfa20ad2-5289-43e1-81bf-40157d0fc037"
      },
      "execution_count": 39,
      "outputs": [
        {
          "output_type": "execute_result",
          "data": {
            "text/plain": [
              "(Dataset FashionMNIST\n",
              "     Number of datapoints: 60000\n",
              "     Root location: data\n",
              "     Split: Train\n",
              "     StandardTransform\n",
              " Transform: ToTensor(),\n",
              " Dataset FashionMNIST\n",
              "     Number of datapoints: 10000\n",
              "     Root location: data\n",
              "     Split: Test\n",
              "     StandardTransform\n",
              " Transform: ToTensor())"
            ]
          },
          "metadata": {},
          "execution_count": 39
        }
      ]
    },
    {
      "cell_type": "markdown",
      "source": [
        "### `Prepare a DataLoader: turn our dataset into a Python iterable(hardware-friendly)`\n",
        "- Computationally more efficient"
      ],
      "metadata": {
        "id": "ZFQQd2_smlaF"
      }
    },
    {
      "cell_type": "code",
      "source": [
        "from torch.utils.data import DataLoader\n",
        "train_dataloader = DataLoader(\n",
        "    dataset=train_dataset,\n",
        "    batch_size=32,\n",
        "    shuffle=True\n",
        ")\n",
        "\n",
        "test_dataloader = DataLoader(\n",
        "    dataset=test_dataset,\n",
        "    batch_size=32,\n",
        "    shuffle=False\n",
        ")\n",
        "train_dataloader, test_dataloader"
      ],
      "metadata": {
        "colab": {
          "base_uri": "https://localhost:8080/"
        },
        "id": "U2FRLDVkmi8Q",
        "outputId": "c6b7758e-80f7-4f63-f5f9-e3bc8f1ceb02"
      },
      "execution_count": 40,
      "outputs": [
        {
          "output_type": "execute_result",
          "data": {
            "text/plain": [
              "(<torch.utils.data.dataloader.DataLoader at 0x788717c74400>,\n",
              " <torch.utils.data.dataloader.DataLoader at 0x788717c75900>)"
            ]
          },
          "metadata": {},
          "execution_count": 40
        }
      ]
    },
    {
      "cell_type": "code",
      "source": [
        "print(f\"Dataloaders: {train_dataloader, test_dataloader}\")\n",
        "print(f\"Length of train dataloader: {len(train_dataloader)} batches of 32\")\n",
        "print(f\"Length of test dataloader: {len(test_dataloader)} batches of 32\")"
      ],
      "metadata": {
        "colab": {
          "base_uri": "https://localhost:8080/"
        },
        "id": "yXB2hQy1q0tX",
        "outputId": "00d96dd6-bdc5-4733-f80a-5d515f9531d9"
      },
      "execution_count": 41,
      "outputs": [
        {
          "output_type": "stream",
          "name": "stdout",
          "text": [
            "Dataloaders: (<torch.utils.data.dataloader.DataLoader object at 0x788717c74400>, <torch.utils.data.dataloader.DataLoader object at 0x788717c75900>)\n",
            "Length of train dataloader: 1875 batches of 32\n",
            "Length of test dataloader: 313 batches of 32\n"
          ]
        }
      ]
    },
    {
      "cell_type": "code",
      "source": [
        "train_features_batch, train_labels_batch = next(iter(train_dataloader))\n",
        "train_features_batch.shape, train_labels_batch.shape"
      ],
      "metadata": {
        "colab": {
          "base_uri": "https://localhost:8080/"
        },
        "id": "4zosakT9q3M9",
        "outputId": "879f3b9c-2b3f-4ce0-fb6d-e7fad496cf7d"
      },
      "execution_count": 42,
      "outputs": [
        {
          "output_type": "execute_result",
          "data": {
            "text/plain": [
              "(torch.Size([32, 1, 28, 28]), torch.Size([32]))"
            ]
          },
          "metadata": {},
          "execution_count": 42
        }
      ]
    },
    {
      "cell_type": "code",
      "source": [
        "torch.manual_seed(87)\n",
        "randomidx = torch.randint(0,len(train_features_batch),size=[1]).item()\n",
        "img, label = train_features_batch[randomidx], train_labels_batch[randomidx]\n",
        "plt.imshow(img.squeeze(),cmap=\"gray\")\n",
        "plt.title(class_names[label])\n",
        "plt.axis(\"off\");"
      ],
      "metadata": {
        "colab": {
          "base_uri": "https://localhost:8080/",
          "height": 428
        },
        "id": "6pLQanyfq3Kh",
        "outputId": "8fb1e5cb-08e1-44d5-98e4-90a9d5e6a3c4"
      },
      "execution_count": 44,
      "outputs": [
        {
          "output_type": "display_data",
          "data": {
            "text/plain": [
              "<Figure size 640x480 with 1 Axes>"
            ],
            "image/png": "[encoded data removed]"
          },
          "metadata": {}
        }
      ]
    },
    {
      "cell_type": "markdown",
      "source": [
        "`Computer Vision Model`\n",
        "- Baseline Model"
      ],
      "metadata": {
        "id": "JBbFoNHb0BzW"
      }
    },
    {
      "cell_type": "code",
      "source": [
        "flatten_model = nn.Flatten()\n",
        "\n",
        "x = train_features_batch[0]\n",
        "x.shape  ## torch.Size([1, 28, 28]) -> color channels, height, width\n",
        "\n",
        "output = flatten_model(x) ## perform forward pass\n",
        "output.shape  ## -> color channels, height*width"
      ],
      "metadata": {
        "colab": {
          "base_uri": "https://localhost:8080/"
        },
        "id": "3Fw0o95tq3IB",
        "outputId": "3964ba9d-8d16-47a7-c360-38a2c5234696"
      },
      "execution_count": 48,
      "outputs": [
        {
          "output_type": "execute_result",
          "data": {
            "text/plain": [
              "torch.Size([1, 784])"
            ]
          },
          "metadata": {},
          "execution_count": 48
        }
      ]
    },
    {
      "cell_type": "code",
      "source": [
        "output[:10]"
      ],
      "metadata": {
        "colab": {
          "base_uri": "https://localhost:8080/"
        },
        "id": "dugi_wfLq3Fp",
        "outputId": "9192688a-9ff3-4210-e7d8-59fe8583cd29"
      },
      "execution_count": 50,
      "outputs": [
        {
          "output_type": "execute_result",
          "data": {
            "text/plain": [
              "tensor([[0.0000, 0.0000, 0.0000, 0.0000, 0.0000, 0.0000, 0.0000, 0.0000, 0.0000,\n",
              "         0.0000, 0.0000, 0.0000, 0.0000, 0.0000, 0.0000, 0.0000, 0.0000, 0.0000,\n",
              "         0.0000, 0.0000, 0.0000, 0.0000, 0.0000, 0.0000, 0.0000, 0.0000, 0.0000,\n",
              "         0.0000, 0.0000, 0.0000, 0.0000, 0.0000, 0.0000, 0.0000, 0.0000, 0.0000,\n",
              "         0.0000, 0.0000, 0.0000, 0.0000, 0.0000, 0.0000, 0.0000, 0.0000, 0.0000,\n",
              "         0.0000, 0.0000, 0.0000, 0.0000, 0.0000, 0.0000, 0.0000, 0.0000, 0.0000,\n",
              "         0.0000, 0.0000, 0.0000, 0.0000, 0.0000, 0.0000, 0.0000, 0.0000, 0.0000,\n",
              "         0.0000, 0.0000, 0.0000, 0.0000, 0.0000, 0.0000, 0.0000, 0.0000, 0.0000,\n",
              "         0.0000, 0.0000, 0.0000, 0.0000, 0.0000, 0.0000, 0.0000, 0.0000, 0.0000,\n",
              "         0.0000, 0.0000, 0.0000, 0.0000, 0.0118, 0.0000, 0.0000, 0.2471, 0.4549,\n",
              "         0.3294, 0.1569, 0.0000, 0.0000, 0.0000, 0.0000, 0.0000, 0.0000, 0.0000,\n",
              "         0.0000, 0.0000, 0.0000, 0.0000, 0.0000, 0.0000, 0.0000, 0.0000, 0.0000,\n",
              "         0.1490, 0.1216, 0.0000, 0.0000, 0.0000, 0.0000, 0.0000, 0.2392, 0.8431,\n",
              "         0.9490, 0.8745, 0.8902, 0.7804, 0.8392, 0.7412, 0.5608, 0.4078, 0.3255,\n",
              "         0.4275, 0.4706, 0.3451, 0.2314, 0.3137, 0.4275, 0.5412, 0.6627, 0.6941,\n",
              "         0.8431, 0.8667, 0.8196, 0.3490, 0.0000, 0.0118, 0.0000, 0.5686, 0.6039,\n",
              "         0.5059, 0.9294, 0.8078, 0.7098, 0.4118, 0.7059, 0.8510, 0.9294, 0.9373,\n",
              "         0.9647, 0.7882, 0.6235, 0.8588, 0.9686, 0.9529, 0.9569, 0.9529, 0.9529,\n",
              "         0.9294, 0.8392, 0.8039, 0.7843, 0.7922, 0.0745, 0.0000, 0.0000, 0.8353,\n",
              "         0.7647, 0.3176, 0.9529, 0.8471, 0.9137, 0.6078, 0.4745, 0.6392, 0.7529,\n",
              "         0.7412, 0.7765, 0.8588, 0.7922, 0.8431, 0.8235, 0.7647, 0.6824, 0.6157,\n",
              "         0.5686, 0.4078, 0.3686, 0.7922, 0.6157, 0.9294, 0.6706, 0.0000, 0.0000,\n",
              "         0.8039, 0.5922, 0.2039, 1.0000, 0.8706, 0.9098, 0.8980, 0.7059, 0.7216,\n",
              "         0.6941, 0.5608, 0.4902, 0.8784, 0.9020, 0.7490, 0.6706, 0.5333, 0.5490,\n",
              "         0.5882, 0.4784, 0.4941, 0.7725, 0.9882, 0.5882, 0.9176, 0.4784, 0.0000,\n",
              "         0.0000, 0.8784, 0.7725, 0.0000, 1.0000, 0.8667, 0.8706, 0.9294, 0.8196,\n",
              "         0.7333, 0.7647, 0.6863, 0.5961, 0.8549, 0.9882, 0.6039, 0.3804, 0.6314,\n",
              "         0.7098, 0.6314, 0.6902, 0.8471, 0.8667, 0.8235, 0.8118, 0.9569, 0.0000,\n",
              "         0.0000, 0.0000, 0.7176, 0.9490, 0.2471, 0.9765, 0.8667, 0.8627, 0.8941,\n",
              "         0.8588, 0.7686, 0.7569, 0.7843, 0.9137, 0.9216, 0.9098, 0.8902, 0.8000,\n",
              "         0.7961, 0.6118, 0.6235, 0.8118, 0.8471, 0.8353, 0.8549, 0.9137, 0.4353,\n",
              "         0.0000, 0.0000, 0.0000, 0.5765, 0.8078, 0.6471, 1.0000, 0.8784, 0.8588,\n",
              "         0.8745, 0.8902, 0.8314, 0.7333, 0.7412, 0.9255, 0.7961, 0.6706, 0.8353,\n",
              "         0.9569, 0.7725, 0.7843, 0.8824, 0.8706, 0.8667, 0.9412, 0.8392, 0.8118,\n",
              "         0.0706, 0.0000, 0.0000, 0.0667, 0.6510, 0.0510, 0.6667, 0.9255, 0.8667,\n",
              "         0.8941, 0.8471, 0.8431, 0.8353, 0.8000, 0.8667, 0.6667, 0.7647, 0.9451,\n",
              "         0.6157, 0.7882, 0.8471, 0.8471, 0.8706, 0.8667, 0.8902, 0.9255, 0.8431,\n",
              "         0.8824, 0.4039, 0.0000, 0.0000, 0.5255, 0.3098, 0.0000, 0.9373, 0.8667,\n",
              "         0.8588, 0.9020, 0.8824, 0.8471, 0.8471, 0.8471, 0.8392, 0.6863, 0.9882,\n",
              "         1.0000, 0.9804, 0.6000, 0.9137, 0.8627, 0.8824, 0.9020, 0.8941, 0.8941,\n",
              "         0.8627, 0.8980, 0.7451, 0.0000, 0.0000, 0.7176, 0.0000, 0.0353, 1.0000,\n",
              "         0.8863, 0.8980, 0.8824, 0.8510, 0.8706, 0.8549, 0.8471, 0.9137, 0.6471,\n",
              "         0.8667, 0.9020, 0.6902, 0.7529, 0.9569, 0.9020, 0.9098, 0.9059, 0.9059,\n",
              "         0.8667, 0.8980, 0.8941, 0.9647, 0.0000, 0.1451, 0.6235, 0.0000, 0.2235,\n",
              "         0.9451, 0.8784, 0.8902, 0.8667, 0.8824, 0.8706, 0.8980, 0.8745, 0.8980,\n",
              "         0.7686, 0.5882, 0.9137, 0.5843, 0.9647, 0.9059, 0.8902, 0.9098, 0.9020,\n",
              "         0.8941, 0.9059, 0.8549, 0.8275, 1.0000, 0.1098, 0.2863, 0.5137, 0.0000,\n",
              "         0.5373, 0.9529, 0.8471, 0.8471, 0.8275, 0.8706, 0.8745, 0.8902, 0.8863,\n",
              "         0.8627, 0.9176, 1.0000, 0.9412, 0.6392, 0.9922, 0.9412, 0.9020, 0.9098,\n",
              "         0.8941, 0.8706, 0.8706, 0.8157, 0.8431, 0.9333, 0.1843, 0.3490, 0.5020,\n",
              "         0.0000, 0.6471, 0.9294, 0.8039, 0.8235, 0.8392, 0.8784, 0.8902, 0.8980,\n",
              "         0.8980, 0.9137, 0.8627, 0.9333, 0.9608, 0.5882, 0.5608, 0.9961, 0.9255,\n",
              "         0.9294, 0.9137, 0.8902, 0.8941, 0.8941, 0.8745, 0.9529, 0.3098, 0.2667,\n",
              "         0.6275, 0.0000, 0.6941, 0.9098, 0.7804, 0.7608, 0.8627, 0.8745, 0.8902,\n",
              "         0.9059, 0.9020, 0.8980, 0.9137, 0.9490, 0.9216, 0.8549, 0.6196, 0.7451,\n",
              "         0.9804, 0.9020, 0.9294, 0.9098, 0.9020, 0.8824, 0.8745, 0.9529, 0.2863,\n",
              "         0.0353, 0.8824, 0.0000, 0.6549, 0.9176, 0.8314, 0.8078, 0.8549, 0.8863,\n",
              "         0.9059, 0.9137, 0.9098, 0.9059, 0.9059, 0.9373, 0.9451, 0.7176, 1.0000,\n",
              "         0.6118, 0.9020, 0.9529, 0.9059, 0.9020, 0.9059, 0.8824, 0.9020, 1.0000,\n",
              "         0.0157, 0.0000, 0.7843, 0.2392, 0.2078, 0.9373, 0.8157, 0.8314, 0.8588,\n",
              "         0.8902, 0.9098, 0.9176, 0.9098, 0.9098, 0.9059, 0.9137, 0.9529, 0.6745,\n",
              "         0.9843, 0.8588, 0.7255, 0.9569, 0.9255, 0.9098, 0.9020, 0.8941, 0.9098,\n",
              "         1.0000, 0.0000, 0.0000, 0.0000, 0.7922, 0.2588, 0.8784, 0.8863, 0.9059,\n",
              "         0.9529, 0.9294, 0.9216, 0.9294, 0.9333, 0.9137, 0.9098, 0.8941, 0.9608,\n",
              "         0.6510, 0.8863, 0.9765, 0.8118, 0.8392, 0.9176, 0.9098, 0.8941, 0.9137,\n",
              "         0.9176, 0.8431, 0.0000, 0.0196, 0.0000, 0.0000, 0.5333, 0.9098, 0.8824,\n",
              "         0.8824, 0.9333, 0.9294, 0.9490, 0.9255, 0.9804, 0.9451, 0.8275, 0.8667,\n",
              "         0.8431, 0.7059, 0.7608, 0.8471, 0.8314, 0.8431, 0.8392, 0.8510, 0.8706,\n",
              "         0.8314, 0.9059, 0.8000, 0.0000, 0.0000, 0.0471, 0.0000, 0.3882, 0.9137,\n",
              "         0.8392, 0.7961, 0.7490, 0.6392, 0.6863, 0.8118, 0.8471, 0.8588, 0.9098,\n",
              "         0.9255, 0.9569, 0.8157, 0.8706, 0.9451, 0.9216, 0.9137, 0.8824, 0.9176,\n",
              "         0.8902, 0.9176, 0.9686, 0.4863, 0.0000, 0.0000, 0.0157, 0.0000, 0.2431,\n",
              "         0.7725, 0.9137, 0.9490, 1.0000, 1.0000, 1.0000, 0.9569, 0.9608, 1.0000,\n",
              "         0.8471, 0.8314, 0.7490, 0.9882, 0.7294, 0.5961, 0.5294, 0.7412, 0.7804,\n",
              "         0.5255, 0.5373, 0.4784, 0.2549, 0.0000, 0.0000, 0.0078, 0.0039, 0.0000,\n",
              "         0.0000, 0.0000, 0.1137, 0.1647, 0.2118, 0.2353, 0.2196, 0.2275, 0.2235,\n",
              "         0.1569, 0.0000, 0.0000, 0.0000, 0.1294, 0.0000, 0.0000, 0.0000, 0.0000,\n",
              "         0.0000, 0.0000, 0.0000, 0.0000, 0.0000, 0.0000, 0.0000, 0.0000, 0.0000,\n",
              "         0.0000, 0.0000, 0.0000, 0.0000, 0.0000, 0.0000, 0.0000, 0.0000, 0.0000,\n",
              "         0.0000, 0.0000, 0.0000, 0.0000, 0.0000, 0.0000, 0.0000, 0.0000, 0.0000,\n",
              "         0.0000, 0.0000, 0.0000, 0.0000, 0.0000, 0.0000, 0.0000, 0.0000, 0.0000,\n",
              "         0.0000, 0.0000, 0.0000, 0.0000, 0.0000, 0.0000, 0.0000, 0.0000, 0.0000,\n",
              "         0.0000, 0.0000, 0.0000, 0.0000, 0.0000, 0.0000, 0.0000, 0.0000, 0.0000,\n",
              "         0.0000, 0.0000, 0.0000, 0.0000, 0.0000, 0.0000, 0.0000, 0.0000, 0.0000,\n",
              "         0.0000, 0.0000, 0.0000, 0.0000, 0.0000, 0.0000, 0.0000, 0.0000, 0.0000,\n",
              "         0.0000, 0.0000, 0.0000, 0.0000, 0.0000, 0.0000, 0.0000, 0.0000, 0.0000,\n",
              "         0.0000, 0.0000, 0.0000, 0.0000, 0.0000, 0.0000, 0.0000, 0.0000, 0.0000,\n",
              "         0.0000]])"
            ]
          },
          "metadata": {},
          "execution_count": 50
        }
      ]
    },
    {
      "cell_type": "code",
      "source": [
        "class FashionMNISTModelV1(nn.Module):\n",
        "  def __init__(self,\n",
        "               input_shape: int,\n",
        "               hidden_units: int,\n",
        "               output_shape: int):\n",
        "    super().__init__()\n",
        "    self.layer_stack = nn.Sequential(\n",
        "      nn.Flatten(),\n",
        "      nn.Linear(in_features=input_shape,\n",
        "                out_features=hidden_units),\n",
        "      nn.Linear(in_features=hidden_units,\n",
        "                out_features=output_shape)\n",
        "    )\n",
        "\n",
        "    def forward(self, x):\n",
        "      return self.layer_stack(x)"
      ],
      "metadata": {
        "id": "KvAnWRAO2C1-"
      },
      "execution_count": 51,
      "outputs": []
    },
    {
      "cell_type": "code",
      "source": [
        "torch.manual_seed(42)\n",
        "model_1 = FashionMNISTModelV1(input_shape=784,\n",
        "                              hidden_units=10,\n",
        "                              output_shape=len(class_names)).to(\"cpu\")\n",
        "model_1"
      ],
      "metadata": {
        "colab": {
          "base_uri": "https://localhost:8080/"
        },
        "id": "BH_4Z9PU3SS4",
        "outputId": "763c4e5f-0f37-49e8-bdfa-9a08c76ab859"
      },
      "execution_count": 54,
      "outputs": [
        {
          "output_type": "execute_result",
          "data": {
            "text/plain": [
              "FashionMNISTModelV1(\n",
              "  (layer_stack): Sequential(\n",
              "    (0): Flatten(start_dim=1, end_dim=-1)\n",
              "    (1): Linear(in_features=784, out_features=10, bias=True)\n",
              "    (2): Linear(in_features=10, out_features=10, bias=True)\n",
              "  )\n",
              ")"
            ]
          },
          "metadata": {},
          "execution_count": 54
        }
      ]
    },
    {
      "cell_type": "code",
      "source": [
        "model_1.state_dict()"
      ],
      "metadata": {
        "colab": {
          "base_uri": "https://localhost:8080/"
        },
        "id": "dTrHENpH3YGX",
        "outputId": "17a885c7-0507-414f-e268-9f84f919f591"
      },
      "execution_count": 55,
      "outputs": [
        {
          "output_type": "execute_result",
          "data": {
            "text/plain": [
              "OrderedDict([('layer_stack.1.weight',\n",
              "              tensor([[ 0.0273,  0.0296, -0.0084,  ..., -0.0142,  0.0093,  0.0135],\n",
              "                      [-0.0188, -0.0354,  0.0187,  ..., -0.0106, -0.0001,  0.0115],\n",
              "                      [-0.0008,  0.0017,  0.0045,  ..., -0.0127, -0.0188,  0.0059],\n",
              "                      ...,\n",
              "                      [-0.0116,  0.0273, -0.0344,  ...,  0.0176,  0.0283, -0.0011],\n",
              "                      [-0.0230,  0.0257,  0.0291,  ..., -0.0187, -0.0087,  0.0001],\n",
              "                      [ 0.0176, -0.0147,  0.0053,  ..., -0.0336, -0.0221,  0.0205]])),\n",
              "             ('layer_stack.1.bias',\n",
              "              tensor([-0.0093,  0.0283, -0.0033,  0.0255,  0.0017,  0.0037, -0.0302, -0.0123,\n",
              "                       0.0018,  0.0163])),\n",
              "             ('layer_stack.2.weight',\n",
              "              tensor([[ 0.0614, -0.0687,  0.0021,  0.2718,  0.2109,  0.1079, -0.2279, -0.1063,\n",
              "                        0.2019,  0.2847],\n",
              "                      [-0.1495,  0.1344, -0.0740,  0.2006, -0.0475, -0.2514, -0.3130, -0.0118,\n",
              "                        0.0932, -0.1864],\n",
              "                      [ 0.2488,  0.1500,  0.1907,  0.1457, -0.3050, -0.0580,  0.1643,  0.1565,\n",
              "                       -0.2877, -0.1792],\n",
              "                      [ 0.2305, -0.2618,  0.2397, -0.0610,  0.0232,  0.1542,  0.0851, -0.2027,\n",
              "                        0.1030, -0.2715],\n",
              "                      [-0.1596, -0.0555, -0.0633,  0.2302, -0.1726,  0.2654,  0.1473,  0.1029,\n",
              "                        0.2252, -0.2160],\n",
              "                      [-0.2725,  0.0118,  0.1559,  0.1596,  0.0132,  0.3024,  0.1124,  0.1366,\n",
              "                       -0.1533,  0.0965],\n",
              "                      [-0.1184, -0.2555, -0.2057, -0.1909, -0.0477, -0.1324,  0.2905,  0.1307,\n",
              "                       -0.2629,  0.0133],\n",
              "                      [ 0.2727, -0.0127,  0.0513,  0.0863, -0.1043, -0.2047, -0.1185, -0.0825,\n",
              "                        0.2488, -0.2571],\n",
              "                      [ 0.0425, -0.1209, -0.0336, -0.0281, -0.1227,  0.0730,  0.0747, -0.1816,\n",
              "                        0.1943,  0.2853],\n",
              "                      [-0.1310,  0.0645, -0.1171,  0.2168, -0.0245, -0.2820,  0.0736,  0.2621,\n",
              "                        0.0012, -0.0810]])),\n",
              "             ('layer_stack.2.bias',\n",
              "              tensor([-0.0087,  0.1791,  0.2712, -0.0791,  0.1685,  0.1762,  0.2825,  0.2266,\n",
              "                      -0.2612, -0.2613]))])"
            ]
          },
          "metadata": {},
          "execution_count": 55
        }
      ]
    },
    {
      "cell_type": "code",
      "source": [],
      "metadata": {
        "id": "WjUmS86O3bYB"
      },
      "execution_count": null,
      "outputs": []
    }
  ]
}