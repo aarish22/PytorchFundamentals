{
  "cells": [
    {
      "cell_type": "markdown",
      "id": "40f2c89a",
      "metadata": {
        "id": "40f2c89a"
      },
      "source": [
        "\n",
        "# PyTorch Tensor Indexing and Accessing Elements of Different Dimensions\n",
        "\n",
        "In this notebook, we'll explore how to access elements, rows, and columns in tensors of various dimensions using PyTorch.\n",
        "We'll start with basic 1D tensors and gradually move to higher-dimensional tensors, showcasing different ways to access specific parts of these tensors.\n"
      ]
    },
    {
      "cell_type": "code",
      "source": [
        "import torch"
      ],
      "metadata": {
        "id": "wSswqf9y8G1E"
      },
      "id": "wSswqf9y8G1E",
      "execution_count": 1,
      "outputs": []
    },
    {
      "cell_type": "code",
      "execution_count": 2,
      "id": "ccdb962e",
      "metadata": {
        "id": "ccdb962e"
      },
      "outputs": [],
      "source": [
        "tensor_1d = torch.tensor([10, 20, 30, 40, 50])"
      ]
    },
    {
      "cell_type": "markdown",
      "id": "f2a25c2e",
      "metadata": {
        "id": "f2a25c2e"
      },
      "source": [
        "### Access element at index 0"
      ]
    },
    {
      "cell_type": "code",
      "execution_count": 3,
      "id": "e2f02556",
      "metadata": {
        "colab": {
          "base_uri": "https://localhost:8080/"
        },
        "id": "e2f02556",
        "outputId": "a2af4c8f-90ab-4f1c-f07d-1617d303aa92"
      },
      "outputs": [
        {
          "output_type": "stream",
          "name": "stdout",
          "text": [
            "Access element at index 0: tensor(10)\n"
          ]
        }
      ],
      "source": [
        "print('Access element at index 0:', tensor_1d[0])"
      ]
    },
    {
      "cell_type": "markdown",
      "id": "008c21bc",
      "metadata": {
        "id": "008c21bc"
      },
      "source": [
        "### Access element at index 3"
      ]
    },
    {
      "cell_type": "code",
      "execution_count": 4,
      "id": "76ec09b7",
      "metadata": {
        "colab": {
          "base_uri": "https://localhost:8080/"
        },
        "id": "76ec09b7",
        "outputId": "bb45d835-93e9-42fb-a922-43f664b88e33"
      },
      "outputs": [
        {
          "output_type": "stream",
          "name": "stdout",
          "text": [
            "Access element at index 3: tensor(40)\n"
          ]
        }
      ],
      "source": [
        "print('Access element at index 3:', tensor_1d[3])"
      ]
    },
    {
      "cell_type": "markdown",
      "id": "4610c001",
      "metadata": {
        "id": "4610c001"
      },
      "source": [
        "### Access last element"
      ]
    },
    {
      "cell_type": "code",
      "execution_count": 5,
      "id": "5de383b7",
      "metadata": {
        "colab": {
          "base_uri": "https://localhost:8080/"
        },
        "id": "5de383b7",
        "outputId": "72b7239b-0e8a-43d3-932d-5c65fcb9b6a1"
      },
      "outputs": [
        {
          "output_type": "stream",
          "name": "stdout",
          "text": [
            "Access last element: tensor(50)\n"
          ]
        }
      ],
      "source": [
        "print('Access last element:', tensor_1d[-1])"
      ]
    },
    {
      "cell_type": "markdown",
      "id": "1606ce8f",
      "metadata": {
        "id": "1606ce8f"
      },
      "source": [
        "### Access elements from index 1 to 3"
      ]
    },
    {
      "cell_type": "code",
      "execution_count": 6,
      "id": "089dd90f",
      "metadata": {
        "colab": {
          "base_uri": "https://localhost:8080/"
        },
        "id": "089dd90f",
        "outputId": "84c1e35a-16ef-4a7c-85e4-7e93e12ab7c8"
      },
      "outputs": [
        {
          "output_type": "stream",
          "name": "stdout",
          "text": [
            "Access elements from index 1 to 3: tensor([20, 30, 40])\n"
          ]
        }
      ],
      "source": [
        "print('Access elements from index 1 to 3:', tensor_1d[1:4])"
      ]
    },
    {
      "cell_type": "markdown",
      "id": "bd64dc81",
      "metadata": {
        "id": "bd64dc81"
      },
      "source": [
        "### Access every other element"
      ]
    },
    {
      "cell_type": "code",
      "execution_count": 7,
      "id": "4d497ab9",
      "metadata": {
        "colab": {
          "base_uri": "https://localhost:8080/"
        },
        "id": "4d497ab9",
        "outputId": "099d6ff6-d604-4c7f-f9c4-6e3d1b81c63d"
      },
      "outputs": [
        {
          "output_type": "stream",
          "name": "stdout",
          "text": [
            "Access every other element: tensor([10, 30, 50])\n"
          ]
        }
      ],
      "source": [
        "print('Access every other element:', tensor_1d[::2])"
      ]
    },
    {
      "cell_type": "code",
      "execution_count": 8,
      "id": "bd518b89",
      "metadata": {
        "id": "bd518b89"
      },
      "outputs": [],
      "source": [
        "tensor_2d = torch.tensor([[1, 2, 3], [4, 5, 6], [7, 8, 9]])"
      ]
    },
    {
      "cell_type": "markdown",
      "id": "fb959c78",
      "metadata": {
        "id": "fb959c78"
      },
      "source": [
        "### Access element at (0, 0)"
      ]
    },
    {
      "cell_type": "code",
      "execution_count": 9,
      "id": "fc675b94",
      "metadata": {
        "colab": {
          "base_uri": "https://localhost:8080/"
        },
        "id": "fc675b94",
        "outputId": "97160ab7-d6f2-4181-bf62-475166787694"
      },
      "outputs": [
        {
          "output_type": "stream",
          "name": "stdout",
          "text": [
            "Access element at (0, 0): tensor(1)\n"
          ]
        }
      ],
      "source": [
        "print('Access element at (0, 0):', tensor_2d[0, 0])"
      ]
    },
    {
      "cell_type": "markdown",
      "id": "211d7ae1",
      "metadata": {
        "id": "211d7ae1"
      },
      "source": [
        "### Access element at (1, 2)"
      ]
    },
    {
      "cell_type": "code",
      "execution_count": 10,
      "id": "d94aa747",
      "metadata": {
        "colab": {
          "base_uri": "https://localhost:8080/"
        },
        "id": "d94aa747",
        "outputId": "69a048ac-fd5a-494c-8334-5bb179778db7"
      },
      "outputs": [
        {
          "output_type": "stream",
          "name": "stdout",
          "text": [
            "Access element at (1, 2): tensor(6)\n"
          ]
        }
      ],
      "source": [
        "print('Access element at (1, 2):', tensor_2d[1, 2])"
      ]
    },
    {
      "cell_type": "markdown",
      "id": "3373cedb",
      "metadata": {
        "id": "3373cedb"
      },
      "source": [
        "### Access first row"
      ]
    },
    {
      "cell_type": "code",
      "execution_count": 11,
      "id": "827315cb",
      "metadata": {
        "colab": {
          "base_uri": "https://localhost:8080/"
        },
        "id": "827315cb",
        "outputId": "1560f451-3ecd-4805-e53b-5abab5fb9fb7"
      },
      "outputs": [
        {
          "output_type": "stream",
          "name": "stdout",
          "text": [
            "Access first row: tensor([1, 2, 3])\n"
          ]
        }
      ],
      "source": [
        "print('Access first row:', tensor_2d[0])"
      ]
    },
    {
      "cell_type": "markdown",
      "id": "c5842720",
      "metadata": {
        "id": "c5842720"
      },
      "source": [
        "### Access last row"
      ]
    },
    {
      "cell_type": "code",
      "execution_count": 12,
      "id": "03a80803",
      "metadata": {
        "colab": {
          "base_uri": "https://localhost:8080/"
        },
        "id": "03a80803",
        "outputId": "35148c8b-d233-4341-8c6a-31634ae5879f"
      },
      "outputs": [
        {
          "output_type": "stream",
          "name": "stdout",
          "text": [
            "Access last row: tensor([7, 8, 9])\n"
          ]
        }
      ],
      "source": [
        "print('Access last row:', tensor_2d[-1])"
      ]
    },
    {
      "cell_type": "markdown",
      "id": "e1285d85",
      "metadata": {
        "id": "e1285d85"
      },
      "source": [
        "### Access first column"
      ]
    },
    {
      "cell_type": "code",
      "execution_count": 13,
      "id": "e87bb20a",
      "metadata": {
        "colab": {
          "base_uri": "https://localhost:8080/"
        },
        "id": "e87bb20a",
        "outputId": "272e4304-c348-43c5-b49b-67e17a29ea14"
      },
      "outputs": [
        {
          "output_type": "stream",
          "name": "stdout",
          "text": [
            "Access first column: tensor([1, 4, 7])\n"
          ]
        }
      ],
      "source": [
        "print('Access first column:', tensor_2d[:, 0])"
      ]
    },
    {
      "cell_type": "markdown",
      "id": "0779cecd",
      "metadata": {
        "id": "0779cecd"
      },
      "source": [
        "### Access last column"
      ]
    },
    {
      "cell_type": "code",
      "execution_count": 14,
      "id": "0f51348f",
      "metadata": {
        "colab": {
          "base_uri": "https://localhost:8080/"
        },
        "id": "0f51348f",
        "outputId": "8dbac51c-438a-49f4-deba-6107e1a41c74"
      },
      "outputs": [
        {
          "output_type": "stream",
          "name": "stdout",
          "text": [
            "Access last column: tensor([3, 6, 9])\n"
          ]
        }
      ],
      "source": [
        "print('Access last column:', tensor_2d[:, -1])"
      ]
    },
    {
      "cell_type": "markdown",
      "id": "40154636",
      "metadata": {
        "id": "40154636"
      },
      "source": [
        "### Access first two rows"
      ]
    },
    {
      "cell_type": "code",
      "execution_count": 15,
      "id": "e6254929",
      "metadata": {
        "colab": {
          "base_uri": "https://localhost:8080/"
        },
        "id": "e6254929",
        "outputId": "1e918b9b-6018-47b6-ae79-c26472aed714"
      },
      "outputs": [
        {
          "output_type": "stream",
          "name": "stdout",
          "text": [
            "Access first two rows: tensor([[1, 2, 3],\n",
            "        [4, 5, 6]])\n"
          ]
        }
      ],
      "source": [
        "print('Access first two rows:', tensor_2d[:2, :])"
      ]
    },
    {
      "cell_type": "markdown",
      "id": "6c8f502a",
      "metadata": {
        "id": "6c8f502a"
      },
      "source": [
        "### Access last two columns"
      ]
    },
    {
      "cell_type": "code",
      "execution_count": 16,
      "id": "692fe699",
      "metadata": {
        "colab": {
          "base_uri": "https://localhost:8080/"
        },
        "id": "692fe699",
        "outputId": "1a7eb597-af50-4dc5-d7cc-2d5f88f565c0"
      },
      "outputs": [
        {
          "output_type": "stream",
          "name": "stdout",
          "text": [
            "Access last two columns: tensor([[2, 3],\n",
            "        [5, 6],\n",
            "        [8, 9]])\n"
          ]
        }
      ],
      "source": [
        "print('Access last two columns:', tensor_2d[:, -2:])"
      ]
    },
    {
      "cell_type": "markdown",
      "id": "3d1ac195",
      "metadata": {
        "id": "3d1ac195"
      },
      "source": [
        "### Access sub-matrix from (0,0) to (1,1)"
      ]
    },
    {
      "cell_type": "code",
      "execution_count": 17,
      "id": "ef472259",
      "metadata": {
        "colab": {
          "base_uri": "https://localhost:8080/"
        },
        "id": "ef472259",
        "outputId": "732dac3f-824e-4758-af1a-9b62a4f886cc"
      },
      "outputs": [
        {
          "output_type": "stream",
          "name": "stdout",
          "text": [
            "Access sub-matrix from (0,0) to (1,1): tensor([[1, 2],\n",
            "        [4, 5]])\n"
          ]
        }
      ],
      "source": [
        "print('Access sub-matrix from (0,0) to (1,1):', tensor_2d[:2, :2])"
      ]
    },
    {
      "cell_type": "code",
      "execution_count": 18,
      "id": "3d578a4a",
      "metadata": {
        "id": "3d578a4a"
      },
      "outputs": [],
      "source": [
        "tensor_3d = torch.tensor([[[1, 2, 3], [4, 5, 6]], [[7, 8, 9], [10, 11, 12]], [[13, 14, 15], [16, 17, 18]]])"
      ]
    },
    {
      "cell_type": "markdown",
      "id": "78ffc41a",
      "metadata": {
        "id": "78ffc41a"
      },
      "source": [
        "### Access element at (0, 0, 0)"
      ]
    },
    {
      "cell_type": "code",
      "execution_count": 19,
      "id": "c69599c3",
      "metadata": {
        "colab": {
          "base_uri": "https://localhost:8080/"
        },
        "id": "c69599c3",
        "outputId": "81afaa57-8cac-455d-c443-8c1993c94fc7"
      },
      "outputs": [
        {
          "output_type": "stream",
          "name": "stdout",
          "text": [
            "Access element at (0, 0, 0): tensor(1)\n"
          ]
        }
      ],
      "source": [
        "print('Access element at (0, 0, 0):', tensor_3d[0, 0, 0])"
      ]
    },
    {
      "cell_type": "markdown",
      "id": "c12626cf",
      "metadata": {
        "id": "c12626cf"
      },
      "source": [
        "### Access element at (1, 1, 2)"
      ]
    },
    {
      "cell_type": "code",
      "execution_count": 20,
      "id": "115d4a9d",
      "metadata": {
        "colab": {
          "base_uri": "https://localhost:8080/"
        },
        "id": "115d4a9d",
        "outputId": "dffd389d-6cd2-4e4e-e029-e17968e03029"
      },
      "outputs": [
        {
          "output_type": "stream",
          "name": "stdout",
          "text": [
            "Access element at (1, 1, 2): tensor(12)\n"
          ]
        }
      ],
      "source": [
        "print('Access element at (1, 1, 2):', tensor_3d[1, 1, 2])"
      ]
    },
    {
      "cell_type": "markdown",
      "id": "4430de41",
      "metadata": {
        "id": "4430de41"
      },
      "source": [
        "### Access first matrix (0th index along first axis)"
      ]
    },
    {
      "cell_type": "code",
      "execution_count": 21,
      "id": "9d532c9b",
      "metadata": {
        "colab": {
          "base_uri": "https://localhost:8080/"
        },
        "id": "9d532c9b",
        "outputId": "5d0457f5-e5ad-408e-eba5-5425d3d91397"
      },
      "outputs": [
        {
          "output_type": "stream",
          "name": "stdout",
          "text": [
            "Access first matrix (0th index along first axis): tensor([[1, 2, 3],\n",
            "        [4, 5, 6]])\n"
          ]
        }
      ],
      "source": [
        "print('Access first matrix (0th index along first axis):', tensor_3d[0])"
      ]
    },
    {
      "cell_type": "markdown",
      "id": "b65be83d",
      "metadata": {
        "id": "b65be83d"
      },
      "source": [
        "### Access last matrix (2nd index along first axis)"
      ]
    },
    {
      "cell_type": "code",
      "execution_count": 22,
      "id": "08f66e7b",
      "metadata": {
        "colab": {
          "base_uri": "https://localhost:8080/"
        },
        "id": "08f66e7b",
        "outputId": "8845bd93-c2c7-4e39-fcd4-b87bdc6dcfee"
      },
      "outputs": [
        {
          "output_type": "stream",
          "name": "stdout",
          "text": [
            "Access last matrix (2nd index along first axis): tensor([[13, 14, 15],\n",
            "        [16, 17, 18]])\n"
          ]
        }
      ],
      "source": [
        "print('Access last matrix (2nd index along first axis):', tensor_3d[-1])"
      ]
    },
    {
      "cell_type": "markdown",
      "id": "52f040f4",
      "metadata": {
        "id": "52f040f4"
      },
      "source": [
        "### Access first row of the first matrix"
      ]
    },
    {
      "cell_type": "code",
      "execution_count": 23,
      "id": "9ed8977e",
      "metadata": {
        "colab": {
          "base_uri": "https://localhost:8080/"
        },
        "id": "9ed8977e",
        "outputId": "4e2ff500-0c30-4e11-d1ad-97507fbaa246"
      },
      "outputs": [
        {
          "output_type": "stream",
          "name": "stdout",
          "text": [
            "Access first row of the first matrix: tensor([1, 2, 3])\n"
          ]
        }
      ],
      "source": [
        "print('Access first row of the first matrix:', tensor_3d[0, 0])"
      ]
    },
    {
      "cell_type": "markdown",
      "id": "fa3701d8",
      "metadata": {
        "id": "fa3701d8"
      },
      "source": [
        "### Access second column of the first matrix"
      ]
    },
    {
      "cell_type": "code",
      "execution_count": 24,
      "id": "6ef6763b",
      "metadata": {
        "colab": {
          "base_uri": "https://localhost:8080/"
        },
        "id": "6ef6763b",
        "outputId": "7f47a8b8-f706-49db-c84e-295c043c8ea4"
      },
      "outputs": [
        {
          "output_type": "stream",
          "name": "stdout",
          "text": [
            "Access second column of the first matrix: tensor([2, 5])\n"
          ]
        }
      ],
      "source": [
        "print('Access second column of the first matrix:', tensor_3d[0, :, 1])"
      ]
    },
    {
      "cell_type": "markdown",
      "id": "da94799e",
      "metadata": {
        "id": "da94799e"
      },
      "source": [
        "### Access third row of the last matrix"
      ]
    },
    {
      "cell_type": "code",
      "execution_count": 25,
      "id": "2a17432e",
      "metadata": {
        "colab": {
          "base_uri": "https://localhost:8080/"
        },
        "id": "2a17432e",
        "outputId": "227eea69-6783-45af-f332-b7b4d861d40a"
      },
      "outputs": [
        {
          "output_type": "stream",
          "name": "stdout",
          "text": [
            "Access third row of the last matrix: tensor([16, 17, 18])\n"
          ]
        }
      ],
      "source": [
        "print('Access third row of the last matrix:', tensor_3d[-1, -1, :])"
      ]
    },
    {
      "cell_type": "markdown",
      "id": "2714499f",
      "metadata": {
        "id": "2714499f"
      },
      "source": [
        "### Access sub-tensor from (1,0,0) to (2,1,2)"
      ]
    },
    {
      "cell_type": "code",
      "execution_count": 26,
      "id": "6c714c9c",
      "metadata": {
        "colab": {
          "base_uri": "https://localhost:8080/"
        },
        "id": "6c714c9c",
        "outputId": "28bf40a5-665f-40d0-cfd8-f5c1aee3ba3a"
      },
      "outputs": [
        {
          "output_type": "stream",
          "name": "stdout",
          "text": [
            "Access sub-tensor from (1,0,0) to (2,1,2): tensor([[[ 7,  8,  9],\n",
            "         [10, 11, 12]],\n",
            "\n",
            "        [[13, 14, 15],\n",
            "         [16, 17, 18]]])\n"
          ]
        }
      ],
      "source": [
        "print('Access sub-tensor from (1,0,0) to (2,1,2):', tensor_3d[1:3, :2, :3])"
      ]
    },
    {
      "cell_type": "markdown",
      "id": "dd7572f8",
      "metadata": {
        "id": "dd7572f8"
      },
      "source": [
        "### Access last row and last column of all matrices"
      ]
    },
    {
      "cell_type": "code",
      "execution_count": 27,
      "id": "68ea78ac",
      "metadata": {
        "colab": {
          "base_uri": "https://localhost:8080/"
        },
        "id": "68ea78ac",
        "outputId": "69eba426-d423-409b-a3bc-522d3f4aeb6f"
      },
      "outputs": [
        {
          "output_type": "stream",
          "name": "stdout",
          "text": [
            "Access last row and last column of all matrices: tensor([ 6, 12, 18])\n"
          ]
        }
      ],
      "source": [
        "print('Access last row and last column of all matrices:', tensor_3d[:, -1, -1])"
      ]
    },
    {
      "cell_type": "code",
      "execution_count": 28,
      "id": "d8ee9f7d",
      "metadata": {
        "id": "d8ee9f7d"
      },
      "outputs": [],
      "source": [
        "tensor_4d = torch.randn(2, 3, 4, 5)"
      ]
    },
    {
      "cell_type": "markdown",
      "id": "e710c8ae",
      "metadata": {
        "id": "e710c8ae"
      },
      "source": [
        "### Access element at (0, 0, 0, 0)"
      ]
    },
    {
      "cell_type": "code",
      "execution_count": 29,
      "id": "df6e98da",
      "metadata": {
        "colab": {
          "base_uri": "https://localhost:8080/"
        },
        "id": "df6e98da",
        "outputId": "be69740f-f5e8-4e77-ae40-76fc2be378b2"
      },
      "outputs": [
        {
          "output_type": "stream",
          "name": "stdout",
          "text": [
            "Access element at (0, 0, 0, 0): tensor(-0.9502)\n"
          ]
        }
      ],
      "source": [
        "print('Access element at (0, 0, 0, 0):', tensor_4d[0, 0, 0, 0])"
      ]
    },
    {
      "cell_type": "markdown",
      "id": "c4601444",
      "metadata": {
        "id": "c4601444"
      },
      "source": [
        "### Access element at (1, 2, 3, 4)"
      ]
    },
    {
      "cell_type": "code",
      "execution_count": 30,
      "id": "a9feadbd",
      "metadata": {
        "colab": {
          "base_uri": "https://localhost:8080/"
        },
        "id": "a9feadbd",
        "outputId": "46269bfa-dde5-4eac-857c-3061fb38e4ac"
      },
      "outputs": [
        {
          "output_type": "stream",
          "name": "stdout",
          "text": [
            "Access element at (1, 2, 3, 4): tensor(-0.3726)\n"
          ]
        }
      ],
      "source": [
        "print('Access element at (1, 2, 3, 4):', tensor_4d[1, 2, 3, 4])"
      ]
    },
    {
      "cell_type": "markdown",
      "id": "ef50c8cd",
      "metadata": {
        "id": "ef50c8cd"
      },
      "source": [
        "### Access first 3D block (0th index along first axis)"
      ]
    },
    {
      "cell_type": "code",
      "execution_count": 31,
      "id": "d0b433d7",
      "metadata": {
        "colab": {
          "base_uri": "https://localhost:8080/"
        },
        "id": "d0b433d7",
        "outputId": "bd70ea8f-20e6-4d38-c7da-1215ecc1364a"
      },
      "outputs": [
        {
          "output_type": "stream",
          "name": "stdout",
          "text": [
            "Access first 3D block (0th index along first axis): tensor([[[-0.9502, -0.4503,  0.8727,  0.1031, -0.7173],\n",
            "         [-2.6622,  0.2410, -0.7846, -0.1304,  0.1849],\n",
            "         [ 0.7777, -0.9529,  1.9202, -0.0996,  0.1481],\n",
            "         [-0.0685, -0.0304, -2.3232,  1.1472, -2.0196]],\n",
            "\n",
            "        [[ 0.2303, -0.0659, -1.1408,  0.1124, -0.1447],\n",
            "         [-0.6672,  0.2081, -1.8789, -0.6296,  0.8908],\n",
            "         [ 1.0932,  1.4609,  0.2989,  0.1535, -0.5840],\n",
            "         [-0.5043,  1.5506,  0.7660,  0.2493, -1.9433]],\n",
            "\n",
            "        [[-0.7582,  0.4908,  0.5557, -1.1536,  1.0183],\n",
            "         [ 0.5549, -1.9539, -1.3139, -1.2096,  0.1272],\n",
            "         [-1.4674,  0.4949,  0.4828, -0.3737, -0.1083],\n",
            "         [ 0.7873,  0.4688, -0.6093, -1.3336,  0.2705]]])\n"
          ]
        }
      ],
      "source": [
        "print('Access first 3D block (0th index along first axis):', tensor_4d[0])"
      ]
    },
    {
      "cell_type": "markdown",
      "id": "81571393",
      "metadata": {
        "id": "81571393"
      },
      "source": [
        "### Access last 3D block (1st index along first axis)"
      ]
    },
    {
      "cell_type": "code",
      "execution_count": 32,
      "id": "63ee2f0a",
      "metadata": {
        "colab": {
          "base_uri": "https://localhost:8080/"
        },
        "id": "63ee2f0a",
        "outputId": "a5e871cf-8375-41ea-92fb-d6d52cee4eaa"
      },
      "outputs": [
        {
          "output_type": "stream",
          "name": "stdout",
          "text": [
            "Access last 3D block (1st index along first axis): tensor([[[ 0.6913,  0.0778, -0.6910, -0.3189, -2.2168],\n",
            "         [ 0.7385, -0.5150, -0.9843,  1.0173,  0.2880],\n",
            "         [-0.5317,  0.1268,  1.3013,  1.5486,  0.7711],\n",
            "         [ 0.2781,  1.3326, -0.5174, -0.6157, -0.5075]],\n",
            "\n",
            "        [[ 0.5238, -2.6186, -1.5937, -1.4560,  1.2149],\n",
            "         [-0.8324, -0.5457, -0.7755,  0.1288, -0.3734],\n",
            "         [ 1.9836,  0.2051,  0.1670,  0.6473, -1.1570],\n",
            "         [ 1.7539,  0.5911,  0.1587,  0.3816, -0.3097]],\n",
            "\n",
            "        [[-0.0723, -2.1240,  2.4138, -0.1172, -0.8655],\n",
            "         [ 1.0657, -0.4484,  1.0494,  0.4952,  0.1539],\n",
            "         [-1.0356, -0.1540, -0.7368,  0.0284,  0.8017],\n",
            "         [-0.9553, -0.0414, -0.3232,  0.0392, -0.3726]]])\n"
          ]
        }
      ],
      "source": [
        "print('Access last 3D block (1st index along first axis):', tensor_4d[-1])"
      ]
    },
    {
      "cell_type": "markdown",
      "id": "ad003dff",
      "metadata": {
        "id": "ad003dff"
      },
      "source": [
        "### Access first matrix in the first block"
      ]
    },
    {
      "cell_type": "code",
      "execution_count": 33,
      "id": "8e99580e",
      "metadata": {
        "colab": {
          "base_uri": "https://localhost:8080/"
        },
        "id": "8e99580e",
        "outputId": "5db9400a-3911-48f9-c47c-d5a414e86ab7"
      },
      "outputs": [
        {
          "output_type": "stream",
          "name": "stdout",
          "text": [
            "Access first matrix in the first block: tensor([[-0.9502, -0.4503,  0.8727,  0.1031, -0.7173],\n",
            "        [-2.6622,  0.2410, -0.7846, -0.1304,  0.1849],\n",
            "        [ 0.7777, -0.9529,  1.9202, -0.0996,  0.1481],\n",
            "        [-0.0685, -0.0304, -2.3232,  1.1472, -2.0196]])\n"
          ]
        }
      ],
      "source": [
        "print('Access first matrix in the first block:', tensor_4d[0, 0])"
      ]
    },
    {
      "cell_type": "markdown",
      "id": "f8d37e62",
      "metadata": {
        "id": "f8d37e62"
      },
      "source": [
        "### Access first row of the first matrix in the first block"
      ]
    },
    {
      "cell_type": "code",
      "execution_count": 34,
      "id": "81783c1f",
      "metadata": {
        "colab": {
          "base_uri": "https://localhost:8080/"
        },
        "id": "81783c1f",
        "outputId": "c86c4e91-47c1-48ca-a1b4-936c5b77dcc4"
      },
      "outputs": [
        {
          "output_type": "stream",
          "name": "stdout",
          "text": [
            "Access first row of the first matrix in the first block: tensor([-0.9502, -0.4503,  0.8727,  0.1031, -0.7173])\n"
          ]
        }
      ],
      "source": [
        "print('Access first row of the first matrix in the first block:', tensor_4d[0, 0, 0])"
      ]
    },
    {
      "cell_type": "markdown",
      "id": "4f70ffa3",
      "metadata": {
        "id": "4f70ffa3"
      },
      "source": [
        "### Access last column of the last matrix in the last block"
      ]
    },
    {
      "cell_type": "code",
      "execution_count": 35,
      "id": "1ba9a77b",
      "metadata": {
        "colab": {
          "base_uri": "https://localhost:8080/"
        },
        "id": "1ba9a77b",
        "outputId": "bf63c512-368a-43a5-da3c-f9bf602147e7"
      },
      "outputs": [
        {
          "output_type": "stream",
          "name": "stdout",
          "text": [
            "Access last column of the last matrix in the last block: tensor([-0.8655,  0.1539,  0.8017, -0.3726])\n"
          ]
        }
      ],
      "source": [
        "print('Access last column of the last matrix in the last block:', tensor_4d[-1, -1, :, -1])"
      ]
    },
    {
      "cell_type": "markdown",
      "id": "324637e0",
      "metadata": {
        "id": "324637e0"
      },
      "source": [
        "### Access sub-tensor from (0,0,0,0) to (1,1,1,1)"
      ]
    },
    {
      "cell_type": "code",
      "execution_count": 36,
      "id": "38dfeaf4",
      "metadata": {
        "colab": {
          "base_uri": "https://localhost:8080/"
        },
        "id": "38dfeaf4",
        "outputId": "d5d4e592-bd89-44f8-9ff1-0459adf6019d"
      },
      "outputs": [
        {
          "output_type": "stream",
          "name": "stdout",
          "text": [
            "Access sub-tensor from (0,0,0,0) to (1,1,1,1): tensor([[[[-0.9502, -0.4503],\n",
            "          [-2.6622,  0.2410]],\n",
            "\n",
            "         [[ 0.2303, -0.0659],\n",
            "          [-0.6672,  0.2081]]],\n",
            "\n",
            "\n",
            "        [[[ 0.6913,  0.0778],\n",
            "          [ 0.7385, -0.5150]],\n",
            "\n",
            "         [[ 0.5238, -2.6186],\n",
            "          [-0.8324, -0.5457]]]])\n"
          ]
        }
      ],
      "source": [
        "print('Access sub-tensor from (0,0,0,0) to (1,1,1,1):', tensor_4d[:2, :2, :2, :2])"
      ]
    },
    {
      "cell_type": "markdown",
      "id": "32956d2d",
      "metadata": {
        "id": "32956d2d"
      },
      "source": [
        "### Access all rows, last column in the last matrix of the first block"
      ]
    },
    {
      "cell_type": "code",
      "execution_count": 37,
      "id": "dfc1e503",
      "metadata": {
        "colab": {
          "base_uri": "https://localhost:8080/"
        },
        "id": "dfc1e503",
        "outputId": "42779639-02c4-47f0-977e-065c74624384"
      },
      "outputs": [
        {
          "output_type": "stream",
          "name": "stdout",
          "text": [
            "Access all rows, last column in the last matrix of the first block: tensor([-2.0196, -1.9433,  0.2705])\n"
          ]
        }
      ],
      "source": [
        "print('Access all rows, last column in the last matrix of the first block:', tensor_4d[0, :, -1, -1])"
      ]
    },
    {
      "cell_type": "markdown",
      "id": "00ceed20",
      "metadata": {
        "id": "00ceed20"
      },
      "source": [
        "\n",
        "## Summary\n",
        "\n",
        "In this notebook, we have explored various ways to access elements, rows, columns, and slices in tensors of different dimensions using PyTorch.\n",
        "These indexing techniques are crucial for manipulating data effectively in deep learning models.\n"
      ]
    },
    {
      "cell_type": "code",
      "source": [],
      "metadata": {
        "id": "XtES-q318TME"
      },
      "id": "XtES-q318TME",
      "execution_count": 37,
      "outputs": []
    }
  ],
  "metadata": {
    "colab": {
      "provenance": []
    },
    "language_info": {
      "name": "python"
    },
    "kernelspec": {
      "name": "python3",
      "display_name": "Python 3"
    }
  },
  "nbformat": 4,
  "nbformat_minor": 5
}