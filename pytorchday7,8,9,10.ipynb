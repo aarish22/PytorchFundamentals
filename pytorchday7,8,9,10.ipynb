{
 "cells": [
  {
   "cell_type": "code",
   "execution_count": 1,
   "metadata": {},
   "outputs": [],
   "source": [
    "import torch \n",
    "from torch import nn\n",
    "import matplotlib.pyplot as plt\n",
    "import seaborn as sns\n",
    "import pandas as pd\n",
    "import numpy as np"
   ]
  },
  {
   "cell_type": "code",
   "execution_count": 2,
   "metadata": {},
   "outputs": [
    {
     "data": {
      "text/plain": [
       "'2.4.0'"
      ]
     },
     "execution_count": 2,
     "metadata": {},
     "output_type": "execute_result"
    }
   ],
   "source": [
    "torch.__version__"
   ]
  },
  {
   "cell_type": "code",
   "execution_count": 3,
   "metadata": {},
   "outputs": [
    {
     "data": {
      "text/plain": [
       "device(type='cuda')"
      ]
     },
     "execution_count": 3,
     "metadata": {},
     "output_type": "execute_result"
    }
   ],
   "source": [
    "device = torch.device('cuda' if torch.cuda.is_available() else 'cpu')\n",
    "device "
   ]
  },
  {
   "cell_type": "code",
   "execution_count": 4,
   "metadata": {},
   "outputs": [
    {
     "data": {
      "text/plain": [
       "(tensor([[0.0000],\n",
       "         [0.0200],\n",
       "         [0.0400],\n",
       "         [0.0600],\n",
       "         [0.0800],\n",
       "         [0.1000],\n",
       "         [0.1200],\n",
       "         [0.1400],\n",
       "         [0.1600],\n",
       "         [0.1800]]),\n",
       " tensor([[0.2000],\n",
       "         [0.2160],\n",
       "         [0.2320],\n",
       "         [0.2480],\n",
       "         [0.2640],\n",
       "         [0.2800],\n",
       "         [0.2960],\n",
       "         [0.3120],\n",
       "         [0.3280],\n",
       "         [0.3440]]))"
      ]
     },
     "execution_count": 4,
     "metadata": {},
     "output_type": "execute_result"
    }
   ],
   "source": [
    "## known parameters\n",
    "weight = 0.8\n",
    "bias = 0.2\n",
    "\n",
    "## creating data\n",
    "start = 0\n",
    "end = 1\n",
    "step = 0.02\n",
    "X = torch.arange(start, end, step).unsqueeze(dim=1)\n",
    "y = weight * X + bias  ## formula\n",
    "\n",
    "X[:10],y[:10]"
   ]
  },
  {
   "cell_type": "code",
   "execution_count": 5,
   "metadata": {},
   "outputs": [
    {
     "data": {
      "text/plain": [
       "(50, 50)"
      ]
     },
     "execution_count": 5,
     "metadata": {},
     "output_type": "execute_result"
    }
   ],
   "source": [
    "len(X),len(y)"
   ]
  },
  {
   "cell_type": "code",
   "execution_count": 6,
   "metadata": {},
   "outputs": [],
   "source": [
    "### spliting data into train and test\n",
    "train_split = int(0.8 * len(X))\n",
    "\n",
    "X_train, y_train = X[:train_split], y[:train_split]\n",
    "X_test, y_test = X[train_split:], y[train_split:]"
   ]
  },
  {
   "cell_type": "code",
   "execution_count": 7,
   "metadata": {},
   "outputs": [
    {
     "data": {
      "text/plain": [
       "(40, 40)"
      ]
     },
     "execution_count": 7,
     "metadata": {},
     "output_type": "execute_result"
    }
   ],
   "source": [
    "len(X_train), len(y_train)"
   ]
  },
  {
   "cell_type": "code",
   "execution_count": 8,
   "metadata": {},
   "outputs": [
    {
     "data": {
      "text/plain": [
       "(10, 10)"
      ]
     },
     "execution_count": 8,
     "metadata": {},
     "output_type": "execute_result"
    }
   ],
   "source": [
    "len(X_test), len(y_test)"
   ]
  },
  {
   "cell_type": "code",
   "execution_count": 9,
   "metadata": {},
   "outputs": [
    {
     "data": {
      "image/png": "[encoded data removed]",
      "text/plain": [
       "<Figure size 1000x600 with 1 Axes>"
      ]
     },
     "metadata": {},
     "output_type": "display_data"
    }
   ],
   "source": [
    "plt.figure(figsize=(10,6))\n",
    "plt.scatter(X_train,y_train,c=\"r\",label=\"Training Data\")\n",
    "plt.scatter(X_test,y_test,c=\"g\",label=\"Test Data\")\n",
    "plt.show()"
   ]
  },
  {
   "cell_type": "markdown",
   "metadata": {},
   "source": [
    "### Linear Regression Model"
   ]
  },
  {
   "cell_type": "code",
   "execution_count": 31,
   "metadata": {},
   "outputs": [],
   "source": [
    "class LinearRegression(nn.Module):\n",
    "    def __init__(self):\n",
    "        super().__init__()\n",
    "        self.weight = nn.Parameter(torch.randn(1,\n",
    "                                requires_grad=True,  ## if the parameters requires gradient\n",
    "                                dtype = torch.float))\n",
    "        self.bias = nn.Parameter(torch.randn(1,\n",
    "                                requires_grad=True,  ### it is set True by default\n",
    "                                dtype=torch.float))\n",
    "    def forward(self,x:torch.Tensor) -> torch.Tensor:\n",
    "        return self.weight * x + self.bias"
   ]
  },
  {
   "cell_type": "code",
   "execution_count": 32,
   "metadata": {},
   "outputs": [
    {
     "data": {
      "text/plain": [
       "[Parameter containing:\n",
       " tensor([0.3367], requires_grad=True),\n",
       " Parameter containing:\n",
       " tensor([0.1288], requires_grad=True)]"
      ]
     },
     "execution_count": 32,
     "metadata": {},
     "output_type": "execute_result"
    }
   ],
   "source": [
    "torch.manual_seed(42)\n",
    "\n",
    "model = LinearRegression()\n",
    "\n",
    "list(model.parameters())  "
   ]
  },
  {
   "cell_type": "code",
   "execution_count": 33,
   "metadata": {},
   "outputs": [
    {
     "data": {
      "text/plain": [
       "OrderedDict([('weight', tensor([0.3367])), ('bias', tensor([0.1288]))])"
      ]
     },
     "execution_count": 33,
     "metadata": {},
     "output_type": "execute_result"
    }
   ],
   "source": [
    "model.state_dict()"
   ]
  },
  {
   "cell_type": "code",
   "execution_count": 34,
   "metadata": {},
   "outputs": [
    {
     "data": {
      "text/plain": [
       "(0.8, 0.2)"
      ]
     },
     "execution_count": 34,
     "metadata": {},
     "output_type": "execute_result"
    }
   ],
   "source": [
    "weight,bias"
   ]
  },
  {
   "cell_type": "code",
   "execution_count": 35,
   "metadata": {},
   "outputs": [
    {
     "data": {
      "text/plain": [
       "tensor([[0.3982],\n",
       "        [0.4049],\n",
       "        [0.4116],\n",
       "        [0.4184],\n",
       "        [0.4251],\n",
       "        [0.4318],\n",
       "        [0.4386],\n",
       "        [0.4453],\n",
       "        [0.4520],\n",
       "        [0.4588]])"
      ]
     },
     "execution_count": 35,
     "metadata": {},
     "output_type": "execute_result"
    }
   ],
   "source": [
    "### making predictions\n",
    "\n",
    "with torch.inference_mode():  ## turns off gradient tracking\n",
    "    y_preds = model(X_test)   ## makes your code faster since it does not track grad func\n",
    "\n",
    "y_preds"
   ]
  },
  {
   "cell_type": "code",
   "execution_count": 36,
   "metadata": {},
   "outputs": [
    {
     "data": {
      "image/png": "[encoded data removed]",
      "text/plain": [
       "<Figure size 1000x600 with 1 Axes>"
      ]
     },
     "metadata": {},
     "output_type": "display_data"
    }
   ],
   "source": [
    "plt.figure(figsize=(10,6))\n",
    "plt.scatter(X_train,y_train,c=\"r\",label=\"Training Data\")\n",
    "plt.scatter(X_test,y_test,c=\"g\",label=\"Test Data\")\n",
    "plt.scatter(X_test,y_preds,label=\"Predictions\")\n",
    "plt.show()"
   ]
  },
  {
   "cell_type": "code",
   "execution_count": 37,
   "metadata": {},
   "outputs": [
    {
     "data": {
      "text/plain": [
       "tensor([[0.3982],\n",
       "        [0.4049],\n",
       "        [0.4116],\n",
       "        [0.4184],\n",
       "        [0.4251],\n",
       "        [0.4318],\n",
       "        [0.4386],\n",
       "        [0.4453],\n",
       "        [0.4520],\n",
       "        [0.4588]], grad_fn=<AddBackward0>)"
      ]
     },
     "execution_count": 37,
     "metadata": {},
     "output_type": "execute_result"
    }
   ],
   "source": [
    "y_preds = model(X_test)\n",
    "y_preds   ### has the grad func "
   ]
  },
  {
   "cell_type": "code",
   "execution_count": 38,
   "metadata": {},
   "outputs": [
    {
     "data": {
      "text/plain": [
       "tensor([[0.3982],\n",
       "        [0.4049],\n",
       "        [0.4116],\n",
       "        [0.4184],\n",
       "        [0.4251],\n",
       "        [0.4318],\n",
       "        [0.4386],\n",
       "        [0.4453],\n",
       "        [0.4520],\n",
       "        [0.4588]])"
      ]
     },
     "execution_count": 38,
     "metadata": {},
     "output_type": "execute_result"
    }
   ],
   "source": [
    "with torch.no_grad():\n",
    "    y_preds = model(X_test)\n",
    "y_preds"
   ]
  },
  {
   "cell_type": "code",
   "execution_count": 39,
   "metadata": {},
   "outputs": [],
   "source": [
    "loss_fn = nn.L1Loss()  ## mean absolute squared error\n",
    "optimizer = torch.optim.SGD(params=model.parameters(), ## stochastic gradient descent\n",
    "                            lr=0.01)  ## learning rate"
   ]
  },
  {
   "cell_type": "code",
   "execution_count": 40,
   "metadata": {},
   "outputs": [
    {
     "name": "stdout",
     "output_type": "stream",
     "text": [
      "Loss: 0.25188133120536804\n",
      "Epoch: 0 | Loss: 0.25188133120536804 | Test Loss: 0.470065176486969\n",
      "OrderedDict({'weight': tensor([0.3406]), 'bias': tensor([0.1388])})\n",
      "Loss: 0.24036037921905518\n",
      "Loss: 0.22883935272693634\n",
      "Loss: 0.2173183411359787\n",
      "Loss: 0.20579734444618225\n",
      "Loss: 0.1942763328552246\n",
      "Loss: 0.18275533616542816\n",
      "Loss: 0.1712343394756317\n",
      "Loss: 0.16016218066215515\n",
      "Loss: 0.15058299899101257\n",
      "Loss: 0.14190271496772766\n",
      "Epoch: 10 | Loss: 0.14190271496772766 | Test Loss: 0.33994418382644653\n",
      "OrderedDict({'weight': tensor([0.3795]), 'bias': tensor([0.2343])})\n",
      "Loss: 0.13406160473823547\n",
      "Loss: 0.12699952721595764\n",
      "Loss: 0.12069326639175415\n",
      "Loss: 0.11472223699092865\n",
      "Loss: 0.10941245406866074\n",
      "Loss: 0.10470227897167206\n",
      "Loss: 0.10052935779094696\n",
      "Loss: 0.09683910757303238\n",
      "Loss: 0.0934247300028801\n",
      "Loss: 0.09042375534772873\n",
      "Epoch: 20 | Loss: 0.09042375534772873 | Test Loss: 0.2502245604991913\n",
      "OrderedDict({'weight': tensor([0.4151]), 'bias': tensor([0.2923])})\n",
      "Loss: 0.08777400106191635\n",
      "Loss: 0.08536015450954437\n",
      "Loss: 0.08323155343532562\n",
      "Loss: 0.08143755048513412\n",
      "Loss: 0.07971859723329544\n",
      "Loss: 0.07828134298324585\n",
      "Loss: 0.07688211649656296\n",
      "Loss: 0.0757531225681305\n",
      "Loss: 0.07462412118911743\n",
      "Loss: 0.07359591871500015\n",
      "Epoch: 30 | Loss: 0.07359591871500015 | Test Loss: 0.19869937002658844\n",
      "OrderedDict({'weight': tensor([0.4438]), 'bias': tensor([0.3183])})\n",
      "Loss: 0.07272575050592422\n",
      "Loss: 0.07185559719800949\n",
      "Loss: 0.07108204811811447\n",
      "Loss: 0.07042035460472107\n",
      "Loss: 0.06975866854190826\n",
      "Loss: 0.06912045925855637\n",
      "Loss: 0.0686158537864685\n",
      "Loss: 0.06811126321554184\n",
      "Loss: 0.06760664284229279\n",
      "Loss: 0.06710202991962433\n",
      "Epoch: 40 | Loss: 0.06710202991962433 | Test Loss: 0.1696048378944397\n",
      "OrderedDict({'weight': tensor([0.4670]), 'bias': tensor([0.3268])})\n",
      "Loss: 0.0666099488735199\n",
      "Loss: 0.06620994955301285\n",
      "Loss: 0.0658099502325058\n",
      "Loss: 0.06540994346141815\n",
      "Loss: 0.0650099366903305\n",
      "Loss: 0.06460993736982346\n",
      "Loss: 0.064209945499897\n",
      "Loss: 0.06380994617938995\n",
      "Loss: 0.06340993940830231\n",
      "Loss: 0.06304941326379776\n",
      "Epoch: 50 | Loss: 0.06304941326379776 | Test Loss: 0.152482807636261\n",
      "OrderedDict({'weight': tensor([0.4868]), 'bias': tensor([0.3263])})\n",
      "Loss: 0.06270040571689606\n",
      "Loss: 0.06235141679644585\n",
      "Loss: 0.06200242042541504\n",
      "Loss: 0.061653416603803635\n",
      "Loss: 0.06130441278219223\n",
      "Loss: 0.06095542386174202\n",
      "Loss: 0.060606420040130615\n",
      "Loss: 0.06025741621851921\n",
      "Loss: 0.0599084198474884\n",
      "Loss: 0.059559416025877\n",
      "Epoch: 60 | Loss: 0.059559416025877 | Test Loss: 0.14146271347999573\n",
      "OrderedDict({'weight': tensor([0.5048]), 'bias': tensor([0.3213])})\n",
      "Loss: 0.05921042710542679\n",
      "Loss: 0.058861423283815384\n",
      "Loss: 0.05851241201162338\n",
      "Loss: 0.05816342681646347\n",
      "Loss: 0.05781440809369087\n",
      "Loss: 0.05746542662382126\n",
      "Loss: 0.057116419076919556\n",
      "Loss: 0.05676742643117905\n",
      "Loss: 0.056418418884277344\n",
      "Loss: 0.05606941506266594\n",
      "Epoch: 70 | Loss: 0.05606941506266594 | Test Loss: 0.13044264912605286\n",
      "OrderedDict({'weight': tensor([0.5228]), 'bias': tensor([0.3163])})\n",
      "Loss: 0.05572041869163513\n",
      "Loss: 0.05537746101617813\n",
      "Loss: 0.05503521487116814\n",
      "Loss: 0.05468844622373581\n",
      "Loss: 0.05435001105070114\n",
      "Loss: 0.054001014679670334\n",
      "Loss: 0.053663235157728195\n",
      "Loss: 0.053315818309783936\n",
      "Loss: 0.05297423154115677\n",
      "Loss: 0.05263061448931694\n",
      "Epoch: 80 | Loss: 0.05263061448931694 | Test Loss: 0.1221701130270958\n",
      "OrderedDict({'weight': tensor([0.5399]), 'bias': tensor([0.3093])})\n",
      "Loss: 0.05228521302342415\n",
      "Loss: 0.051945410668849945\n",
      "Loss: 0.05159641429781914\n",
      "Loss: 0.05126000568270683\n",
      "Loss: 0.05091121047735214\n",
      "Loss: 0.05057099461555481\n",
      "Loss: 0.050226014107465744\n",
      "Loss: 0.049881983548402786\n",
      "Loss: 0.04954080656170845\n",
      "Loss: 0.04919297620654106\n",
      "Epoch: 90 | Loss: 0.04919297620654106 | Test Loss: 0.11458444595336914\n",
      "OrderedDict({'weight': tensor([0.5569]), 'bias': tensor([0.3018])})\n",
      "Loss: 0.04885561019182205\n",
      "Loss: 0.048506610095500946\n",
      "Loss: 0.04816776514053345\n",
      "Loss: 0.04782141000032425\n",
      "Loss: 0.047478754073381424\n",
      "Loss: 0.047136202454566956\n",
      "Loss: 0.0467897430062294\n",
      "Loss: 0.046451009809970856\n",
      "Loss: 0.04610200226306915\n"
     ]
    }
   ],
   "source": [
    "### training loop\n",
    "## loop through the data\n",
    "## calculate the loss\n",
    "## gradient descent\n",
    "epochs = 100\n",
    "## tracking\n",
    "epoch_count = []\n",
    "loss_values = []\n",
    "test_loss_values = []\n",
    "## training loop\n",
    "for epoch in range(epochs):\n",
    "    model.train()  ## sets all parameters that requires gradients to require gradient\n",
    "    ## forward pass\n",
    "    y_pred = model(X_train) \n",
    "    ## calculate loss\n",
    "    loss = loss_fn(y_pred, y_train) \n",
    "    print(f\"Loss: {loss}\") \n",
    "    ## optimizer zero grad\n",
    "    optimizer.zero_grad()\n",
    "    ## back prop\n",
    "    loss.backward()\n",
    "    ## performs gradient descent\n",
    "    optimizer.step()\n",
    "    ## testing\n",
    "    model.eval()  ## turns off settings that are not needed for evaluation/testing\n",
    "    with torch.inference_mode(): ## turns off gradient tracking and a couple more things bts\n",
    "        ## forward pass\n",
    "        test_pred = model(X_test)\n",
    "        ## test loss\n",
    "        test_loss = loss_fn(test_pred,y_test)\n",
    "    if epoch % 10 == 0:\n",
    "        epoch_count.append(epoch)\n",
    "        loss_values.append(loss)\n",
    "        test_loss_values.append(test_loss)\n",
    "        print(f\"Epoch: {epoch} | Loss: {loss} | Test Loss: {test_loss}\")\n",
    "        ## printing our model state_dict\n",
    "        print(model.state_dict())\n",
    "    "
   ]
  },
  {
   "cell_type": "code",
   "execution_count": 41,
   "metadata": {},
   "outputs": [
    {
     "name": "stdout",
     "output_type": "stream",
     "text": [
      "Epoch Count: [0, 10, 20, 30, 40, 50, 60, 70, 80, 90]\n",
      "Loss: 0.04610200226306915\n",
      "Test Loss: [tensor(0.4701), tensor(0.3399), tensor(0.2502), tensor(0.1987), tensor(0.1696), tensor(0.1525), tensor(0.1415), tensor(0.1304), tensor(0.1222), tensor(0.1146)]\n"
     ]
    }
   ],
   "source": [
    "print(f\"Epoch Count: {epoch_count}\")\n",
    "print(f\"Loss: {loss}\")\n",
    "print(f\"Test Loss: {test_loss_values}\")"
   ]
  },
  {
   "cell_type": "code",
   "execution_count": 42,
   "metadata": {},
   "outputs": [],
   "source": [
    "with torch.inference_mode():\n",
    "    y_preds_new = model(X_test)"
   ]
  },
  {
   "cell_type": "code",
   "execution_count": 43,
   "metadata": {},
   "outputs": [
    {
     "data": {
      "text/plain": [
       "tensor([[0.7538],\n",
       "        [0.7652],\n",
       "        [0.7767],\n",
       "        [0.7881],\n",
       "        [0.7995],\n",
       "        [0.8110],\n",
       "        [0.8224],\n",
       "        [0.8339],\n",
       "        [0.8453],\n",
       "        [0.8568]])"
      ]
     },
     "execution_count": 43,
     "metadata": {},
     "output_type": "execute_result"
    }
   ],
   "source": [
    "y_preds_new"
   ]
  },
  {
   "cell_type": "code",
   "execution_count": 44,
   "metadata": {},
   "outputs": [
    {
     "data": {
      "image/png": "[encoded data removed]",
      "text/plain": [
       "<Figure size 1000x600 with 1 Axes>"
      ]
     },
     "metadata": {},
     "output_type": "display_data"
    }
   ],
   "source": [
    "plt.figure(figsize=(10,6))\n",
    "plt.scatter(X_train,y_train,c=\"r\",label=\"Training Data\")\n",
    "plt.scatter(X_test,y_test,c=\"g\",label=\"Test Data\")\n",
    "plt.scatter(X_test,y_preds_new,label=\"Predictions\")\n",
    "plt.title(\"Almost Equal\")\n",
    "plt.show()"
   ]
  },
  {
   "cell_type": "code",
   "execution_count": 45,
   "metadata": {},
   "outputs": [
    {
     "data": {
      "image/png": "[encoded data removed]",
      "text/plain": [
       "<Figure size 640x480 with 1 Axes>"
      ]
     },
     "metadata": {},
     "output_type": "display_data"
    }
   ],
   "source": [
    "plt.plot(epoch_count, np.array(torch.tensor(loss_values).numpy()),label=\"Train Loss\")\n",
    "plt.plot(epoch_count, test_loss_values, label=\"Test Loss\")\n",
    "plt.title(\"Training and Test loss\")\n",
    "plt.ylabel(\"Loss\")\n",
    "plt.xlabel(\"Epochs\")\n",
    "plt.legend()\n",
    "plt.show()"
   ]
  },
  {
   "cell_type": "markdown",
   "metadata": {},
   "source": [
    "### `Saving` a model in `Pytorch`"
   ]
  },
  {
   "cell_type": "markdown",
   "metadata": {},
   "source": [
    "1. `torch.save()` - allows you save a PyTorch object in Pythn's pickle format\n",
    "2. `torch.load()` - allows you to load a saved PyTorch object\n",
    "3. `torch.nn.Module.load_state_dict()` - allows to load a model's saved state dictionary"
   ]
  },
  {
   "cell_type": "code",
   "execution_count": 48,
   "metadata": {},
   "outputs": [
    {
     "name": "stdout",
     "output_type": "stream",
     "text": [
      "Saving model to: models\\01_pytorch_lr.pth\n"
     ]
    }
   ],
   "source": [
    "### Saving our PyTorch model\n",
    "from pathlib import Path\n",
    "\n",
    "### create model direvtory\n",
    "MODEL_PATH = Path('models')\n",
    "MODEL_PATH.mkdir(parents=True, exist_ok=True)\n",
    "\n",
    "### model save path\n",
    "MODEL_NAME = \"01_pytorch_lr.pth\"\n",
    "\n",
    "MDOEL_SAVE_PATH = MODEL_PATH / MODEL_NAME\n",
    "\n",
    "### save the model state.dict()\n",
    "\n",
    "print(f\"Saving model to: {MDOEL_SAVE_PATH}\")\n",
    "torch.save(obj=model.state_dict(), ## not the entire model , just the state dict\n",
    "           f=MDOEL_SAVE_PATH)"
   ]
  },
  {
   "cell_type": "code",
   "execution_count": 49,
   "metadata": {},
   "outputs": [
    {
     "name": "stdout",
     "output_type": "stream",
     "text": [
      "total 4\n",
      "-rw-r--r-- 1 ASUS 197121 1532 Aug 22 14:02 01_pytorch_lr.pth\n"
     ]
    }
   ],
   "source": [
    "!ls -l models"
   ]
  },
  {
   "cell_type": "code",
   "execution_count": 54,
   "metadata": {},
   "outputs": [
    {
     "data": {
      "text/plain": [
       "<All keys matched successfully>"
      ]
     },
     "execution_count": 54,
     "metadata": {},
     "output_type": "execute_result"
    }
   ],
   "source": [
    "### loading a pytorch model\n",
    "loaded_model = LinearRegression()\n",
    "### load the saved state_dict()\n",
    "loaded_model.load_state_dict(torch.load(f=MDOEL_SAVE_PATH,weights_only=True))"
   ]
  },
  {
   "cell_type": "code",
   "execution_count": 55,
   "metadata": {},
   "outputs": [
    {
     "data": {
      "text/plain": [
       "OrderedDict([('weight', tensor([0.5724])), ('bias', tensor([0.2958]))])"
      ]
     },
     "execution_count": 55,
     "metadata": {},
     "output_type": "execute_result"
    }
   ],
   "source": [
    "loaded_model.state_dict()"
   ]
  },
  {
   "cell_type": "code",
   "execution_count": 56,
   "metadata": {},
   "outputs": [
    {
     "data": {
      "text/plain": [
       "tensor([[0.7538],\n",
       "        [0.7652],\n",
       "        [0.7767],\n",
       "        [0.7881],\n",
       "        [0.7995],\n",
       "        [0.8110],\n",
       "        [0.8224],\n",
       "        [0.8339],\n",
       "        [0.8453],\n",
       "        [0.8568]])"
      ]
     },
     "execution_count": 56,
     "metadata": {},
     "output_type": "execute_result"
    }
   ],
   "source": [
    "### make some predictions\n",
    "loaded_model.eval()\n",
    "with torch.inference_mode():\n",
    "    loaded_model_preds = loaded_model(X_test)\n",
    "    \n",
    "loaded_model_preds"
   ]
  },
  {
   "cell_type": "code",
   "execution_count": 58,
   "metadata": {},
   "outputs": [
    {
     "data": {
      "text/plain": [
       "tensor([[0.7538],\n",
       "        [0.7652],\n",
       "        [0.7767],\n",
       "        [0.7881],\n",
       "        [0.7995],\n",
       "        [0.8110],\n",
       "        [0.8224],\n",
       "        [0.8339],\n",
       "        [0.8453],\n",
       "        [0.8568]])"
      ]
     },
     "execution_count": 58,
     "metadata": {},
     "output_type": "execute_result"
    }
   ],
   "source": [
    "model.eval()\n",
    "with torch.inference_mode():\n",
    "    y_preds = model(X_test)\n",
    "y_preds"
   ]
  },
  {
   "cell_type": "code",
   "execution_count": 59,
   "metadata": {},
   "outputs": [
    {
     "data": {
      "text/plain": [
       "tensor([[True],\n",
       "        [True],\n",
       "        [True],\n",
       "        [True],\n",
       "        [True],\n",
       "        [True],\n",
       "        [True],\n",
       "        [True],\n",
       "        [True],\n",
       "        [True]])"
      ]
     },
     "execution_count": 59,
     "metadata": {},
     "output_type": "execute_result"
    }
   ],
   "source": [
    "y_preds == loaded_model_preds"
   ]
  },
  {
   "cell_type": "code",
   "execution_count": 60,
   "metadata": {},
   "outputs": [
    {
     "data": {
      "text/plain": [
       "tensor([[0.7538],\n",
       "        [0.7652],\n",
       "        [0.7767],\n",
       "        [0.7881],\n",
       "        [0.7995],\n",
       "        [0.8110],\n",
       "        [0.8224],\n",
       "        [0.8339],\n",
       "        [0.8453],\n",
       "        [0.8568]])"
      ]
     },
     "execution_count": 60,
     "metadata": {},
     "output_type": "execute_result"
    }
   ],
   "source": [
    "y_preds_new"
   ]
  },
  {
   "cell_type": "code",
   "execution_count": null,
   "metadata": {},
   "outputs": [],
   "source": []
  }
 ],
 "metadata": {
  "kernelspec": {
   "display_name": "base",
   "language": "python",
   "name": "python3"
  },
  "language_info": {
   "codemirror_mode": {
    "name": "ipython",
    "version": 3
   },
   "file_extension": ".py",
   "mimetype": "text/x-python",
   "name": "python",
   "nbconvert_exporter": "python",
   "pygments_lexer": "ipython3",
   "version": "3.12.4"
  }
 },
 "nbformat": 4,
 "nbformat_minor": 2
}
