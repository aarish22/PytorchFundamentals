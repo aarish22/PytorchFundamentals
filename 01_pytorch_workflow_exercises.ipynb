{
  "nbformat": 4,
  "nbformat_minor": 0,
  "metadata": {
    "colab": {
      "provenance": []
    },
    "kernelspec": {
      "name": "python3",
      "display_name": "Python 3"
    },
    "language_info": {
      "name": "python"
    },
    "accelerator": "GPU"
  },
  "cells": [
    {
      "cell_type": "markdown",
      "metadata": {
        "id": "view-in-github"
      },
      "source": [
        "<a href=\"https://colab.research.google.com/github/mrdbourke/pytorch-deep-learning/blob/main/extras/exercises/01_pytorch_workflow_exercises.ipynb\" target=\"_parent\"><img src=\"https://colab.research.google.com/assets/colab-badge.svg\" alt=\"Open In Colab\"/></a>"
      ]
    },
    {
      "cell_type": "markdown",
      "source": [
        "# 01. PyTorch Workflow Exercise Template\n",
        "\n",
        "The following is a template for the PyTorch workflow exercises.\n",
        "\n",
        "It's only starter code and it's your job to fill in the blanks.\n",
        "\n",
        "Because of the flexibility of PyTorch, there may be more than one way to answer the question.\n",
        "\n",
        "Don't worry about trying to be *right* just try writing code that suffices the question.\n",
        "\n",
        "You can see one form of [solutions on GitHub](https://github.com/mrdbourke/pytorch-deep-learning/tree/main/extras/solutions) (but try the exercises below yourself first!)."
      ],
      "metadata": {
        "id": "N8LsPXZti9Sw"
      }
    },
    {
      "cell_type": "code",
      "source": [
        "# Import necessary libraries\n",
        "import torch\n",
        "from torch import nn\n",
        "import matplotlib.pyplot as plt\n",
        "import seaborn as sns\n",
        "import pandas as pd\n",
        "import numpy as np"
      ],
      "metadata": {
        "id": "Glu2fM4dkNlx"
      },
      "execution_count": 31,
      "outputs": []
    },
    {
      "cell_type": "code",
      "source": [
        "# Setup device-agnostic code\n",
        "device = \"cuda\" if torch.cuda.is_available() else \"cpu\"\n",
        "device"
      ],
      "metadata": {
        "id": "LqKhXY26m31s",
        "colab": {
          "base_uri": "https://localhost:8080/",
          "height": 36
        },
        "outputId": "68188448-511a-4eee-e2b6-c716888c8623"
      },
      "execution_count": 19,
      "outputs": [
        {
          "output_type": "execute_result",
          "data": {
            "text/plain": [
              "'cuda'"
            ],
            "application/vnd.google.colaboratory.intrinsic+json": {
              "type": "string"
            }
          },
          "metadata": {},
          "execution_count": 19
        }
      ]
    },
    {
      "cell_type": "markdown",
      "source": [
        "## 1. Create a straight line dataset using the linear regression formula (`weight * X + bias`).\n",
        "  * Set `weight=0.3` and `bias=0.9` there should be at least 100 datapoints total.\n",
        "  * Split the data into 80% training, 20% testing.\n",
        "  * Plot the training and testing data so it becomes visual.\n",
        "\n",
        "Your output of the below cell should look something like:\n",
        "```\n",
        "Number of X samples: 100\n",
        "Number of y samples: 100\n",
        "First 10 X & y samples:\n",
        "X: tensor([0.0000, 0.0100, 0.0200, 0.0300, 0.0400, 0.0500, 0.0600, 0.0700, 0.0800,\n",
        "        0.0900])\n",
        "y: tensor([0.9000, 0.9030, 0.9060, 0.9090, 0.9120, 0.9150, 0.9180, 0.9210, 0.9240,\n",
        "        0.9270])\n",
        "```\n",
        "\n",
        "Of course the numbers in `X` and `y` may be different but ideally they're created using the linear regression formula."
      ],
      "metadata": {
        "id": "g7HUhxCxjeBx"
      }
    },
    {
      "cell_type": "code",
      "source": [
        "# Create the data parameters\n",
        "weight = 0.9\n",
        "bias = 0.1\n",
        "\n",
        "start = 0\n",
        "end = 100\n",
        "step = 1\n",
        "# Make X and y using linear regression feature\n",
        "X = torch.arange(start,end,step).unsqueeze(dim=1).float()\n",
        "y = weight * X + bias\n",
        "print(f\"Number of X samples: {len(X)}\")\n",
        "print(f\"Number of y samples: {len(y)}\")\n",
        "print(f\"First 10 X & y samples:\\nX: {X[:10]}\\ny: {y[:10]}\")"
      ],
      "metadata": {
        "id": "KbDG5MV7jhvE",
        "colab": {
          "base_uri": "https://localhost:8080/"
        },
        "outputId": "0fe105e6-d8ba-4a09-9296-f2c7b710532f"
      },
      "execution_count": 40,
      "outputs": [
        {
          "output_type": "stream",
          "name": "stdout",
          "text": [
            "Number of X samples: 100\n",
            "Number of y samples: 100\n",
            "First 10 X & y samples:\n",
            "X: tensor([[0.],\n",
            "        [1.],\n",
            "        [2.],\n",
            "        [3.],\n",
            "        [4.],\n",
            "        [5.],\n",
            "        [6.],\n",
            "        [7.],\n",
            "        [8.],\n",
            "        [9.]])\n",
            "y: tensor([[0.1000],\n",
            "        [1.0000],\n",
            "        [1.9000],\n",
            "        [2.8000],\n",
            "        [3.7000],\n",
            "        [4.6000],\n",
            "        [5.5000],\n",
            "        [6.4000],\n",
            "        [7.3000],\n",
            "        [8.2000]])\n"
          ]
        }
      ]
    },
    {
      "cell_type": "code",
      "source": [
        "# Split the data into training and testing\n",
        "train_test_split = int(0.8 * len(X))\n",
        "X_train, y_train = X[:train_test_split], y[:train_test_split]\n",
        "X_test, y_test = X[train_test_split:], y[train_test_split:]"
      ],
      "metadata": {
        "id": "GlwtT1djkmLw"
      },
      "execution_count": 41,
      "outputs": []
    },
    {
      "cell_type": "code",
      "source": [
        "# Plot the training and testing data\n",
        "plt.figure(figsize=(12,6))\n",
        "plt.plot(X_train, y_train, label=\"Training data\")\n",
        "plt.plot(X_test, y_test, label=\"Testing data\")\n",
        "plt.legend()\n",
        "plt.show()"
      ],
      "metadata": {
        "id": "29iQZFNhlYJ-",
        "colab": {
          "base_uri": "https://localhost:8080/",
          "height": 522
        },
        "outputId": "2dad89b5-988f-4306-ce6e-7890385481c6"
      },
      "execution_count": 42,
      "outputs": [
        {
          "output_type": "display_data",
          "data": {
            "text/plain": [
              "<Figure size 1200x600 with 1 Axes>"
            ],
            "image/png": "[encoded data removed]"
          },
          "metadata": {}
        }
      ]
    },
    {
      "cell_type": "markdown",
      "source": [
        "## 2. Build a PyTorch model by subclassing `nn.Module`.\n",
        "  * Inside should be a randomly initialized `nn.Parameter()` with `requires_grad=True`, one for `weights` and one for `bias`.\n",
        "  * Implement the `forward()` method to compute the linear regression function you used to create the dataset in 1.\n",
        "  * Once you've constructed the model, make an instance of it and check its `state_dict()`.\n",
        "  * **Note:** If you'd like to use `nn.Linear()` instead of `nn.Parameter()` you can."
      ],
      "metadata": {
        "id": "ImZoe3v8jif8"
      }
    },
    {
      "cell_type": "code",
      "source": [
        "# Create PyTorch linear regression model by subclassing nn.Module\n",
        "class LinearRegression(nn.Module):\n",
        "  def __init__(self):\n",
        "    super().__init__()\n",
        "    self.linear = nn.Linear(in_features=1, out_features=1)\n",
        "\n",
        "  def forward(self, x: torch.Tensor) -> torch.Tensor:\n",
        "    return self.linear(x)"
      ],
      "metadata": {
        "id": "8jh8T2DSyd4V"
      },
      "execution_count": 43,
      "outputs": []
    },
    {
      "cell_type": "code",
      "source": [
        "# Instantiate the model and put it to the target device\n",
        "torch.manual_seed(56)\n",
        "model_0 = LinearRegression()\n",
        "model_0,model_0.state_dict()"
      ],
      "metadata": {
        "id": "5LdcDnmOmyQ2",
        "colab": {
          "base_uri": "https://localhost:8080/"
        },
        "outputId": "64efde61-907f-4481-de82-de06b1869b2c"
      },
      "execution_count": 44,
      "outputs": [
        {
          "output_type": "execute_result",
          "data": {
            "text/plain": [
              "(LinearRegression(\n",
              "   (linear): Linear(in_features=1, out_features=1, bias=True)\n",
              " ),\n",
              " OrderedDict([('linear.weight', tensor([[0.9062]])),\n",
              "              ('linear.bias', tensor([0.1214]))]))"
            ]
          },
          "metadata": {},
          "execution_count": 44
        }
      ]
    },
    {
      "cell_type": "markdown",
      "source": [
        "## 3. Create a loss function and optimizer using `nn.L1Loss()` and `torch.optim.SGD(params, lr)` respectively.\n",
        "  * Set the learning rate of the optimizer to be 0.01 and the parameters to optimize should be the model parameters from the model you created in 2.\n",
        "  * Write a training loop to perform the appropriate training steps for 300 epochs.\n",
        "  * The training loop should test the model on the test dataset every 20 epochs."
      ],
      "metadata": {
        "id": "G6nYOrJhjtfu"
      }
    },
    {
      "cell_type": "code",
      "source": [
        "next(model_0.parameters()).device"
      ],
      "metadata": {
        "colab": {
          "base_uri": "https://localhost:8080/"
        },
        "id": "biPjM99W1fwK",
        "outputId": "e1666533-30d7-4509-95f7-a5737962c81d"
      },
      "execution_count": 45,
      "outputs": [
        {
          "output_type": "execute_result",
          "data": {
            "text/plain": [
              "device(type='cpu')"
            ]
          },
          "metadata": {},
          "execution_count": 45
        }
      ]
    },
    {
      "cell_type": "code",
      "source": [
        "# Create the loss function and optimizer\n",
        "loss_fn = nn.L1Loss()\n",
        "optimizer = torch.optim.SGD(params=model_0.parameters(),lr=0.01)"
      ],
      "metadata": {
        "id": "ltvoZ-FWjv1j"
      },
      "execution_count": 46,
      "outputs": []
    },
    {
      "cell_type": "code",
      "source": [
        "# Training loop\n",
        "# Train model for 300 epochs\n",
        "epochs = 300\n",
        "\n",
        "# # Send data to target device\n",
        "# X_train = X_train.to(device)\n",
        "# y_train = y_train.to(device)\n",
        "# X_test = X_test.to(device)\n",
        "# y_test = y_test.to(device)\n",
        "\n",
        "\n",
        "for epoch in range(epochs):\n",
        "  ### Training\n",
        "\n",
        "  # Put model in train mode\n",
        "  model_0.train()\n",
        "\n",
        "  # 1. Forward pass\n",
        "  y_pred = model_0(X_train)\n",
        "\n",
        "  # 2. Calculate loss\n",
        "  loss = loss_fn(y_pred, y_train)\n",
        "\n",
        "  # 3. Zero gradients\n",
        "  optimizer.zero_grad()\n",
        "\n",
        "  # 4. Backpropagation\n",
        "  loss.backward()\n",
        "\n",
        "  # 5. Step the optimizer\n",
        "  optimizer.step()\n",
        "\n",
        "  ### Perform testing every 20 epochs\n",
        "  if epoch % 20 == 0:\n",
        "\n",
        "    # Put model in evaluation mode and setup inference context\n",
        "\n",
        "      # 1. Forward pass\n",
        "      model_0.eval()\n",
        "      # 2. Calculate test loss\n",
        "      with torch.inference_mode():\n",
        "        test_pred = model_0(X_test)\n",
        "        test_loss = loss_fn(test_pred, y_test)\n",
        "      # Print out what's happening\n",
        "      print(f\"Epoch: {epoch} | Train loss: {loss:.3f} | Test loss: {test_loss:.3f}\")"
      ],
      "metadata": {
        "id": "xpE83NvNnkdV",
        "colab": {
          "base_uri": "https://localhost:8080/"
        },
        "outputId": "45e1c471-7b4c-4262-9b2a-544b96fed941"
      },
      "execution_count": 47,
      "outputs": [
        {
          "output_type": "stream",
          "name": "stdout",
          "text": [
            "Epoch: 0 | Train loss: 0.267 | Test loss: 34.784\n",
            "Epoch: 20 | Train loss: 0.265 | Test loss: 34.786\n",
            "Epoch: 40 | Train loss: 0.262 | Test loss: 34.789\n",
            "Epoch: 60 | Train loss: 0.260 | Test loss: 34.791\n",
            "Epoch: 80 | Train loss: 0.257 | Test loss: 34.794\n",
            "Epoch: 100 | Train loss: 0.256 | Test loss: 34.795\n",
            "Epoch: 120 | Train loss: 0.256 | Test loss: 34.795\n",
            "Epoch: 140 | Train loss: 0.256 | Test loss: 34.795\n",
            "Epoch: 160 | Train loss: 0.256 | Test loss: 34.795\n",
            "Epoch: 180 | Train loss: 0.256 | Test loss: 34.795\n",
            "Epoch: 200 | Train loss: 0.256 | Test loss: 34.795\n",
            "Epoch: 220 | Train loss: 0.256 | Test loss: 34.795\n",
            "Epoch: 240 | Train loss: 0.256 | Test loss: 34.795\n",
            "Epoch: 260 | Train loss: 0.256 | Test loss: 34.795\n",
            "Epoch: 280 | Train loss: 0.256 | Test loss: 34.795\n"
          ]
        }
      ]
    },
    {
      "cell_type": "markdown",
      "source": [
        "## 4. Make predictions with the trained model on the test data.\n",
        "  * Visualize these predictions against the original training and testing data (**note:** you may need to make sure the predictions are *not* on the GPU if you want to use non-CUDA-enabled libraries such as matplotlib to plot)."
      ],
      "metadata": {
        "id": "x4j4TM18jwa7"
      }
    },
    {
      "cell_type": "code",
      "source": [
        "# Make predictions with the model\n",
        "with torch.inference_mode():\n",
        "  y_preds = model_0(X_test)\n",
        "y_preds"
      ],
      "metadata": {
        "id": "bbMPK5Qjjyx_",
        "colab": {
          "base_uri": "https://localhost:8080/"
        },
        "outputId": "76e84f03-8df3-460e-9e08-a533425cd8c8"
      },
      "execution_count": 48,
      "outputs": [
        {
          "output_type": "execute_result",
          "data": {
            "text/plain": [
              "tensor([[72.6083],\n",
              "        [73.5145],\n",
              "        [74.4207],\n",
              "        [75.3270],\n",
              "        [76.2332],\n",
              "        [77.1394],\n",
              "        [78.0456],\n",
              "        [78.9519],\n",
              "        [79.8581],\n",
              "        [80.7643],\n",
              "        [81.6706],\n",
              "        [82.5768],\n",
              "        [83.4830],\n",
              "        [84.3893],\n",
              "        [85.2955],\n",
              "        [86.2017],\n",
              "        [87.1079],\n",
              "        [88.0142],\n",
              "        [88.9204],\n",
              "        [89.8266]])"
            ]
          },
          "metadata": {},
          "execution_count": 48
        }
      ]
    },
    {
      "cell_type": "code",
      "source": [
        "plt.figure(figsize=(10,6))\n",
        "plt.scatter(X_train,y_train,c=\"r\",label=\"Training Data\")\n",
        "plt.scatter(X_test,y_test,c=\"g\",label=\"Test Data\")\n",
        "plt.scatter(X_test,y_preds,label=\"Predictions\")\n",
        "plt.legend()\n",
        "plt.show()"
      ],
      "metadata": {
        "id": "K3BdmQaDpFo8",
        "colab": {
          "base_uri": "https://localhost:8080/",
          "height": 522
        },
        "outputId": "3f699957-c03b-460e-f825-151724b2e214"
      },
      "execution_count": 50,
      "outputs": [
        {
          "output_type": "display_data",
          "data": {
            "text/plain": [
              "<Figure size 1000x600 with 1 Axes>"
            ],
            "image/png": "[encoded data removed]"
          },
          "metadata": {}
        }
      ]
    },
    {
      "cell_type": "markdown",
      "source": [
        "## 5. Save your trained model's `state_dict()` to file.\n",
        "  * Create a new instance of your model class you made in 2. and load in the `state_dict()` you just saved to it.\n",
        "  * Perform predictions on your test data with the loaded model and confirm they match the original model predictions from 4."
      ],
      "metadata": {
        "id": "s2OnlMWKjzX8"
      }
    },
    {
      "cell_type": "code",
      "source": [
        "from pathlib import Path\n",
        "\n",
        "# 1. Create models directory\n",
        "MODEL_PATH = Path(\"models\")\n",
        "MODEL_PATH.mkdir(parents=True, exist_ok=True)\n",
        "\n",
        "# 2. Create model save path\n",
        "MODEL_NAME = \"pytorch_prac.pth\"\n",
        "# 3. Save the model state dict\n",
        "MODEL_SAVE_PATH = MODEL_PATH / MODEL_NAME\n",
        "torch.save(obj=model_0.state_dict(),f=MODEL_SAVE_PATH)"
      ],
      "metadata": {
        "id": "pPBarIx_23Rx"
      },
      "execution_count": 51,
      "outputs": []
    },
    {
      "cell_type": "code",
      "source": [
        "# Create new instance of model and load saved state dict (make sure to put it on the target device)\n",
        "loaded_model = LinearRegression()\n",
        "loaded_model.load_state_dict(torch.load(MODEL_SAVE_PATH,weights_only=True))"
      ],
      "metadata": {
        "id": "P9vTgiLRrJ7T",
        "colab": {
          "base_uri": "https://localhost:8080/"
        },
        "outputId": "4dbe06a6-baca-4e8d-ba60-72cec1668cfa"
      },
      "execution_count": 52,
      "outputs": [
        {
          "output_type": "execute_result",
          "data": {
            "text/plain": [
              "<All keys matched successfully>"
            ]
          },
          "metadata": {},
          "execution_count": 52
        }
      ]
    },
    {
      "cell_type": "code",
      "source": [
        "# Make predictions with loaded model and compare them to the previous\n",
        "loaded_model.eval()\n",
        "with torch.inference_mode():\n",
        "  loaded_preds = loaded_model(X_test)\n",
        "  print(f\"Original predictions: {y_preds}\")\n",
        "  print(f\"Loaded predictions: {loaded_preds}\")"
      ],
      "metadata": {
        "id": "8UGX3VebrVtI",
        "colab": {
          "base_uri": "https://localhost:8080/"
        },
        "outputId": "9f23db0d-2f09-4a90-ff95-b95a1225c6c2"
      },
      "execution_count": 53,
      "outputs": [
        {
          "output_type": "stream",
          "name": "stdout",
          "text": [
            "Original predictions: tensor([[72.6083],\n",
            "        [73.5145],\n",
            "        [74.4207],\n",
            "        [75.3270],\n",
            "        [76.2332],\n",
            "        [77.1394],\n",
            "        [78.0456],\n",
            "        [78.9519],\n",
            "        [79.8581],\n",
            "        [80.7643],\n",
            "        [81.6706],\n",
            "        [82.5768],\n",
            "        [83.4830],\n",
            "        [84.3893],\n",
            "        [85.2955],\n",
            "        [86.2017],\n",
            "        [87.1079],\n",
            "        [88.0142],\n",
            "        [88.9204],\n",
            "        [89.8266]])\n",
            "Loaded predictions: tensor([[72.6083],\n",
            "        [73.5145],\n",
            "        [74.4207],\n",
            "        [75.3270],\n",
            "        [76.2332],\n",
            "        [77.1394],\n",
            "        [78.0456],\n",
            "        [78.9519],\n",
            "        [79.8581],\n",
            "        [80.7643],\n",
            "        [81.6706],\n",
            "        [82.5768],\n",
            "        [83.4830],\n",
            "        [84.3893],\n",
            "        [85.2955],\n",
            "        [86.2017],\n",
            "        [87.1079],\n",
            "        [88.0142],\n",
            "        [88.9204],\n",
            "        [89.8266]])\n"
          ]
        }
      ]
    },
    {
      "cell_type": "code",
      "source": [
        "loaded_preds == y_preds"
      ],
      "metadata": {
        "colab": {
          "base_uri": "https://localhost:8080/"
        },
        "id": "_bXL-j5Z3smh",
        "outputId": "8b758028-121c-419e-bc89-5bf3eb1b61b4"
      },
      "execution_count": 54,
      "outputs": [
        {
          "output_type": "execute_result",
          "data": {
            "text/plain": [
              "tensor([[True],\n",
              "        [True],\n",
              "        [True],\n",
              "        [True],\n",
              "        [True],\n",
              "        [True],\n",
              "        [True],\n",
              "        [True],\n",
              "        [True],\n",
              "        [True],\n",
              "        [True],\n",
              "        [True],\n",
              "        [True],\n",
              "        [True],\n",
              "        [True],\n",
              "        [True],\n",
              "        [True],\n",
              "        [True],\n",
              "        [True],\n",
              "        [True]])"
            ]
          },
          "metadata": {},
          "execution_count": 54
        }
      ]
    },
    {
      "cell_type": "code",
      "source": [],
      "metadata": {
        "id": "jcFDPDdp3wrM"
      },
      "execution_count": null,
      "outputs": []
    }
  ]
}