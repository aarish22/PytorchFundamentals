{
  "cells": [
    {
      "cell_type": "markdown",
      "id": "517fac6d",
      "metadata": {
        "id": "517fac6d"
      },
      "source": [
        "# PyTorch Tensor Operations: A Comprehensive Guide"
      ]
    },
    {
      "cell_type": "markdown",
      "id": "b66f41eb",
      "metadata": {
        "id": "b66f41eb"
      },
      "source": [
        "\n",
        "This notebook covers essential PyTorch tensor operations that are crucial for deep learning. It includes examples of different dtypes, compatibility, aggregate functions, operators, matrix multiplications, tensor manipulations, and more. Each section is accompanied by code snippets and explanations.\n",
        "    "
      ]
    },
    {
      "cell_type": "markdown",
      "id": "25c4b982",
      "metadata": {
        "id": "25c4b982"
      },
      "source": [
        "## 1. Tensor Creation with Different dtypes"
      ]
    },
    {
      "cell_type": "code",
      "execution_count": 1,
      "id": "e2cd88c6",
      "metadata": {
        "colab": {
          "base_uri": "https://localhost:8080/"
        },
        "id": "e2cd88c6",
        "outputId": "bacd2fb0-6ef5-40c6-fcd9-ef96e444e0b3"
      },
      "outputs": [
        {
          "output_type": "stream",
          "name": "stdout",
          "text": [
            "Float Tensor: tensor([1.2000, 3.4000, 5.6000])\n",
            "Integer Tensor: tensor([1, 2, 3], dtype=torch.int32)\n",
            "Boolean Tensor: tensor([ True, False,  True])\n"
          ]
        }
      ],
      "source": [
        "import torch\n",
        "float_tensor = torch.tensor([1.2, 3.4, 5.6], dtype=torch.float32)\n",
        "int_tensor = torch.tensor([1, 2, 3], dtype=torch.int32)\n",
        "bool_tensor = torch.tensor([True, False, True], dtype=torch.bool)\n",
        "\n",
        "print('Float Tensor:', float_tensor)\n",
        "print('Integer Tensor:', int_tensor)\n",
        "print('Boolean Tensor:', bool_tensor)\n",
        ""
      ]
    },
    {
      "cell_type": "markdown",
      "id": "22d8cb6c",
      "metadata": {
        "id": "22d8cb6c"
      },
      "source": [
        "## 2. Checking dtype compatibility (Automatic type promotion)"
      ]
    },
    {
      "cell_type": "code",
      "execution_count": 2,
      "id": "16c2e5ac",
      "metadata": {
        "colab": {
          "base_uri": "https://localhost:8080/"
        },
        "id": "16c2e5ac",
        "outputId": "342778e0-8cf4-499f-e069-3dfbd815b301"
      },
      "outputs": [
        {
          "output_type": "stream",
          "name": "stdout",
          "text": [
            "Result Tensor: tensor([2.2000, 5.4000, 8.6000])\n"
          ]
        }
      ],
      "source": [
        "\n",
        "result_tensor = float_tensor + int_tensor.float()\n",
        "print('Result Tensor:', result_tensor)\n",
        ""
      ]
    },
    {
      "cell_type": "markdown",
      "id": "e3114aea",
      "metadata": {
        "id": "e3114aea"
      },
      "source": [
        "## 3. Aggregate Functions"
      ]
    },
    {
      "cell_type": "code",
      "execution_count": 3,
      "id": "a08ad603",
      "metadata": {
        "colab": {
          "base_uri": "https://localhost:8080/"
        },
        "id": "a08ad603",
        "outputId": "0ad021ed-be24-4334-b95a-bdde70acee87"
      },
      "outputs": [
        {
          "output_type": "stream",
          "name": "stdout",
          "text": [
            "Sum: tensor(10.2000)\n",
            "Mean: tensor(3.4000)\n",
            "Max: tensor(5.6000)\n",
            "Min: tensor(1.2000)\n"
          ]
        }
      ],
      "source": [
        "\n",
        "sum_tensor = torch.sum(float_tensor)\n",
        "mean_tensor = torch.mean(float_tensor)\n",
        "max_tensor = torch.max(float_tensor)\n",
        "min_tensor = torch.min(float_tensor)\n",
        "\n",
        "print('Sum:', sum_tensor)\n",
        "print('Mean:', mean_tensor)\n",
        "print('Max:', max_tensor)\n",
        "print('Min:', min_tensor)\n",
        ""
      ]
    },
    {
      "cell_type": "markdown",
      "id": "871bf566",
      "metadata": {
        "id": "871bf566"
      },
      "source": [
        "## 4. Operators"
      ]
    },
    {
      "cell_type": "code",
      "execution_count": 4,
      "id": "d5427b27",
      "metadata": {
        "colab": {
          "base_uri": "https://localhost:8080/"
        },
        "id": "d5427b27",
        "outputId": "7c780df7-5dcc-4896-c725-d03be49b386d"
      },
      "outputs": [
        {
          "output_type": "stream",
          "name": "stdout",
          "text": [
            "Addition: tensor([2.2000, 5.4000, 8.6000])\n",
            "Subtraction: tensor([0.2000, 1.4000, 2.6000])\n",
            "Multiplication: tensor([ 1.2000,  6.8000, 16.8000])\n",
            "Division: tensor([1.2000, 1.7000, 1.8667])\n"
          ]
        }
      ],
      "source": [
        "\n",
        "add_tensor = float_tensor + int_tensor.float()\n",
        "sub_tensor = float_tensor - int_tensor.float()\n",
        "mul_tensor = float_tensor * int_tensor.float()\n",
        "div_tensor = float_tensor / int_tensor.float()\n",
        "\n",
        "print('Addition:', add_tensor)\n",
        "print('Subtraction:', sub_tensor)\n",
        "print('Multiplication:', mul_tensor)\n",
        "print('Division:', div_tensor)\n",
        ""
      ]
    },
    {
      "cell_type": "markdown",
      "id": "825ea196",
      "metadata": {
        "id": "825ea196"
      },
      "source": [
        "## 5. Matrix Multiplications"
      ]
    },
    {
      "cell_type": "code",
      "execution_count": 6,
      "id": "a733391c",
      "metadata": {
        "colab": {
          "base_uri": "https://localhost:8080/"
        },
        "id": "a733391c",
        "outputId": "5f7505ca-5aae-45d4-b674-e6143d5dd9aa"
      },
      "outputs": [
        {
          "output_type": "stream",
          "name": "stdout",
          "text": [
            "Matrix Multiplication Result: tensor([[19., 22.],\n",
            "        [43., 50.]])\n"
          ]
        }
      ],
      "source": [
        "\n",
        "matrix1 = torch.tensor([[1, 2], [3, 4]], dtype=torch.float32)\n",
        "matrix2 = torch.tensor([[5, 6], [7, 8]], dtype=torch.float32)\n",
        "matmul_tensor = torch.matmul(matrix1, matrix2)\n",
        "print('Matrix Multiplication Result:', matmul_tensor)\n",
        ""
      ]
    },
    {
      "cell_type": "markdown",
      "id": "0a6c7b6a",
      "metadata": {
        "id": "0a6c7b6a"
      },
      "source": [
        "## 6. Manipulating Tensors (Reshape, Transpose, Concatenate)"
      ]
    },
    {
      "cell_type": "code",
      "execution_count": 8,
      "id": "3753bc91",
      "metadata": {
        "colab": {
          "base_uri": "https://localhost:8080/"
        },
        "id": "3753bc91",
        "outputId": "62cb0991-435a-451e-a014-acd191c0f645"
      },
      "outputs": [
        {
          "output_type": "stream",
          "name": "stdout",
          "text": [
            "Reshaped Tensor: tensor([[1.2000],\n",
            "        [3.4000],\n",
            "        [5.6000]])\n",
            "Transposed Tensor: tensor([[1., 3.],\n",
            "        [2., 4.]])\n",
            "Concatenated Tensor: tensor([[1., 2.],\n",
            "        [3., 4.],\n",
            "        [5., 6.],\n",
            "        [7., 8.]])\n"
          ]
        }
      ],
      "source": [
        "\n",
        "reshape_tensor = float_tensor.view(3, 1)\n",
        "transpose_tensor = matrix1.t()\n",
        "concat_tensor = torch.cat((matrix1, matrix2), dim=0)\n",
        "print('Reshaped Tensor:', reshape_tensor)\n",
        "print('Transposed Tensor:', transpose_tensor)\n",
        "print('Concatenated Tensor:', concat_tensor)\n",
        ""
      ]
    },
    {
      "cell_type": "markdown",
      "id": "de84dd40",
      "metadata": {
        "id": "de84dd40"
      },
      "source": [
        "## 7. Squeezing and Unsqueezing"
      ]
    },
    {
      "cell_type": "code",
      "execution_count": 9,
      "id": "60fa72d2",
      "metadata": {
        "colab": {
          "base_uri": "https://localhost:8080/"
        },
        "id": "60fa72d2",
        "outputId": "c57ca4dd-32ae-4da5-828d-985621313efa"
      },
      "outputs": [
        {
          "output_type": "stream",
          "name": "stdout",
          "text": [
            "Original Tensor: tensor([[[1.],\n",
            "         [2.],\n",
            "         [3.]]])\n",
            "Squeezed Tensor: tensor([1., 2., 3.])\n",
            "Unsqueezed Tensor: tensor([[[[1.],\n",
            "          [2.],\n",
            "          [3.]]]])\n"
          ]
        }
      ],
      "source": [
        "\n",
        "tensor = torch.tensor([[[1], [2], [3]]], dtype=torch.float32)\n",
        "squeezed_tensor = torch.squeeze(tensor)\n",
        "unsqueezed_tensor = torch.unsqueeze(tensor, 0)\n",
        "\n",
        "print('Original Tensor:', tensor)\n",
        "print('Squeezed Tensor:', squeezed_tensor)\n",
        "print('Unsqueezed Tensor:', unsqueezed_tensor)\n",
        ""
      ]
    },
    {
      "cell_type": "markdown",
      "id": "1763c85c",
      "metadata": {
        "id": "1763c85c"
      },
      "source": [
        "## 8. Indexing and Slicing"
      ]
    },
    {
      "cell_type": "code",
      "execution_count": 10,
      "id": "ce871360",
      "metadata": {
        "colab": {
          "base_uri": "https://localhost:8080/"
        },
        "id": "ce871360",
        "outputId": "a3ee8be3-3c54-436a-ab2b-de1ddee83710"
      },
      "outputs": [
        {
          "output_type": "stream",
          "name": "stdout",
          "text": [
            "Index Tensor: tensor(3.4000)\n",
            "Slice Tensor: tensor([3.4000, 5.6000])\n"
          ]
        }
      ],
      "source": [
        "\n",
        "index_tensor = float_tensor[1]\n",
        "slice_tensor = float_tensor[1:]\n",
        "\n",
        "print('Index Tensor:', index_tensor)\n",
        "print('Slice Tensor:', slice_tensor)\n",
        ""
      ]
    },
    {
      "cell_type": "markdown",
      "id": "c671865e",
      "metadata": {
        "id": "c671865e"
      },
      "source": [
        "## 9. Converting Tensors to Numpy and vice versa"
      ]
    },
    {
      "cell_type": "code",
      "execution_count": 11,
      "id": "2c00afdf",
      "metadata": {
        "colab": {
          "base_uri": "https://localhost:8080/"
        },
        "id": "2c00afdf",
        "outputId": "05aebabd-fd44-4689-90fc-c06a8391e164"
      },
      "outputs": [
        {
          "output_type": "stream",
          "name": "stdout",
          "text": [
            "Numpy Array: [1.2 3.4 5.6]\n",
            "Tensor from Numpy: tensor([1.2000, 3.4000, 5.6000])\n"
          ]
        }
      ],
      "source": [
        "\n",
        "numpy_array = float_tensor.numpy()\n",
        "tensor_from_numpy = torch.from_numpy(numpy_array)\n",
        "\n",
        "print('Numpy Array:', numpy_array)\n",
        "print('Tensor from Numpy:', tensor_from_numpy)\n",
        ""
      ]
    },
    {
      "cell_type": "markdown",
      "id": "7a672b5f",
      "metadata": {
        "id": "7a672b5f"
      },
      "source": [
        "## 10. Cloning and Detaching"
      ]
    },
    {
      "cell_type": "code",
      "execution_count": 12,
      "id": "38700011",
      "metadata": {
        "colab": {
          "base_uri": "https://localhost:8080/"
        },
        "id": "38700011",
        "outputId": "3aef6ab6-bfa8-4d8e-c5a6-a7e27bd65821"
      },
      "outputs": [
        {
          "output_type": "stream",
          "name": "stdout",
          "text": [
            "Cloned Tensor: tensor([1.2000, 3.4000, 5.6000])\n",
            "Detached Tensor: tensor([1.2000, 3.4000, 5.6000])\n"
          ]
        }
      ],
      "source": [
        "\n",
        "cloned_tensor = float_tensor.clone()\n",
        "detached_tensor = float_tensor.detach()\n",
        "\n",
        "print('Cloned Tensor:', cloned_tensor)\n",
        "print('Detached Tensor:', detached_tensor)\n",
        ""
      ]
    },
    {
      "cell_type": "markdown",
      "id": "d4d5f20c",
      "metadata": {
        "id": "d4d5f20c"
      },
      "source": [
        "## 11. Element-wise Multiplication"
      ]
    },
    {
      "cell_type": "code",
      "execution_count": 13,
      "id": "dfc43fdf",
      "metadata": {
        "colab": {
          "base_uri": "https://localhost:8080/"
        },
        "id": "dfc43fdf",
        "outputId": "b7d47b99-ebb5-4f44-9a0f-6e61277e2855"
      },
      "outputs": [
        {
          "output_type": "stream",
          "name": "stdout",
          "text": [
            "Element-wise Multiplication: tensor([ 4., 10., 18.])\n"
          ]
        }
      ],
      "source": [
        "\n",
        "tensor1 = torch.tensor([1.0, 2.0, 3.0], dtype=torch.float32)\n",
        "tensor2 = torch.tensor([4.0, 5.0, 6.0], dtype=torch.float32)\n",
        "elementwise_mul = tensor1 * tensor2\n",
        "\n",
        "print('Element-wise Multiplication:', elementwise_mul)\n",
        ""
      ]
    },
    {
      "cell_type": "markdown",
      "id": "725d85ca",
      "metadata": {
        "id": "725d85ca"
      },
      "source": [
        "## 12. Broadcasting"
      ]
    },
    {
      "cell_type": "code",
      "execution_count": 15,
      "id": "be4713c4",
      "metadata": {
        "colab": {
          "base_uri": "https://localhost:8080/"
        },
        "id": "be4713c4",
        "outputId": "f83ea3cf-fea5-4088-93fb-070e20f7f04d"
      },
      "outputs": [
        {
          "output_type": "stream",
          "name": "stdout",
          "text": [
            "Broadcasted Tensor: tensor([[2., 3., 4.],\n",
            "        [3., 4., 5.],\n",
            "        [4., 5., 6.]])\n"
          ]
        }
      ],
      "source": [
        "\n",
        "tensor3 = torch.tensor([1, 2, 3], dtype=torch.float32)\n",
        "tensor4 = torch.tensor([[1], [2], [3]], dtype=torch.float32)\n",
        "broadcasted_tensor = tensor3 + tensor4\n",
        "\n",
        "print('Broadcasted Tensor:', broadcasted_tensor)\n",
        ""
      ]
    },
    {
      "cell_type": "markdown",
      "id": "4767f871",
      "metadata": {
        "id": "4767f871"
      },
      "source": [
        "## 13. In-place Operations"
      ]
    },
    {
      "cell_type": "code",
      "execution_count": 16,
      "id": "ffc7a097",
      "metadata": {
        "colab": {
          "base_uri": "https://localhost:8080/"
        },
        "id": "ffc7a097",
        "outputId": "39797ff0-2ea1-4716-ee5e-d2f4c170dd98"
      },
      "outputs": [
        {
          "output_type": "stream",
          "name": "stdout",
          "text": [
            "In-place Addition: tensor([3., 4., 5.])\n"
          ]
        }
      ],
      "source": [
        "\n",
        "tensor5 = torch.tensor([1.0, 2.0, 3.0], dtype=torch.float32)\n",
        "tensor5.add_(2)\n",
        "\n",
        "print('In-place Addition:', tensor5)\n",
        ""
      ]
    },
    {
      "cell_type": "markdown",
      "id": "0ec957b3",
      "metadata": {
        "id": "0ec957b3"
      },
      "source": [
        "## 14. Tensor Initialization"
      ]
    },
    {
      "cell_type": "code",
      "execution_count": 17,
      "id": "05d12e65",
      "metadata": {
        "colab": {
          "base_uri": "https://localhost:8080/"
        },
        "id": "05d12e65",
        "outputId": "fb68100c-2611-4d91-e122-8ee66e1e4a5c"
      },
      "outputs": [
        {
          "output_type": "stream",
          "name": "stdout",
          "text": [
            "Zero Tensor: tensor([[0., 0.],\n",
            "        [0., 0.]])\n",
            "One Tensor: tensor([[1., 1.],\n",
            "        [1., 1.]])\n",
            "Random Tensor: tensor([[0.1695, 0.3532],\n",
            "        [0.7935, 0.7834]])\n"
          ]
        }
      ],
      "source": [
        "\n",
        "zero_tensor = torch.zeros((2, 2))\n",
        "one_tensor = torch.ones((2, 2))\n",
        "rand_tensor = torch.rand((2, 2))\n",
        "\n",
        "print('Zero Tensor:', zero_tensor)\n",
        "print('One Tensor:', one_tensor)\n",
        "print('Random Tensor:', rand_tensor)\n",
        ""
      ]
    },
    {
      "cell_type": "markdown",
      "id": "5fb26b3a",
      "metadata": {
        "id": "5fb26b3a"
      },
      "source": [
        "## 15. Tensor Type Casting"
      ]
    },
    {
      "cell_type": "code",
      "execution_count": 18,
      "id": "e0d2e89a",
      "metadata": {
        "colab": {
          "base_uri": "https://localhost:8080/"
        },
        "id": "e0d2e89a",
        "outputId": "3782f9ff-65b9-4dfd-f883-29ffa39ff3e5"
      },
      "outputs": [
        {
          "output_type": "stream",
          "name": "stdout",
          "text": [
            "Integer to Float: tensor([1., 2., 3.])\n",
            "Float to Integer: tensor([1, 3, 5], dtype=torch.int32)\n"
          ]
        }
      ],
      "source": [
        "\n",
        "int_to_float_tensor = int_tensor.float()\n",
        "float_to_int_tensor = float_tensor.int()\n",
        "\n",
        "print('Integer to Float:', int_to_float_tensor)\n",
        "print('Float to Integer:', float_to_int_tensor)\n",
        ""
      ]
    },
    {
      "cell_type": "markdown",
      "id": "20db6e4b",
      "metadata": {
        "id": "20db6e4b"
      },
      "source": [
        "## 16. Stacking Tensors"
      ]
    },
    {
      "cell_type": "code",
      "execution_count": 19,
      "id": "3cbc486b",
      "metadata": {
        "colab": {
          "base_uri": "https://localhost:8080/"
        },
        "id": "3cbc486b",
        "outputId": "4500b8ef-e34f-4a37-cc00-8e69e14b697b"
      },
      "outputs": [
        {
          "output_type": "stream",
          "name": "stdout",
          "text": [
            "Stacked Tensor: tensor([[1., 2., 3.],\n",
            "        [4., 5., 6.]])\n"
          ]
        }
      ],
      "source": [
        "stacked_tensor = torch.stack([tensor1, tensor2])\n",
        "print('Stacked Tensor:', stacked_tensor)"
      ]
    },
    {
      "cell_type": "markdown",
      "id": "eb630901",
      "metadata": {
        "id": "eb630901"
      },
      "source": [
        "## 17. Splitting Tensors"
      ]
    },
    {
      "cell_type": "code",
      "execution_count": 20,
      "id": "82b7f1c2",
      "metadata": {
        "colab": {
          "base_uri": "https://localhost:8080/"
        },
        "id": "82b7f1c2",
        "outputId": "ff330091-d9f6-40e1-db69-7fb5a9778cb4"
      },
      "outputs": [
        {
          "output_type": "stream",
          "name": "stdout",
          "text": [
            "Split Tensor: (tensor([1.]), tensor([2.]), tensor([3.]))\n"
          ]
        }
      ],
      "source": [
        "split_tensor = torch.split(tensor1, 1)\n",
        "print('Split Tensor:', split_tensor)"
      ]
    },
    {
      "cell_type": "markdown",
      "id": "6ffed540",
      "metadata": {
        "id": "6ffed540"
      },
      "source": [
        "## 18. Repeating Tensors"
      ]
    },
    {
      "cell_type": "code",
      "execution_count": 21,
      "id": "39e0eb25",
      "metadata": {
        "colab": {
          "base_uri": "https://localhost:8080/"
        },
        "id": "39e0eb25",
        "outputId": "d908f95e-5c3f-475a-bea4-c03aa30f4901"
      },
      "outputs": [
        {
          "output_type": "stream",
          "name": "stdout",
          "text": [
            "Repeated Tensor: tensor([[1., 2., 3.],\n",
            "        [1., 2., 3.]])\n"
          ]
        }
      ],
      "source": [
        "repeated_tensor = tensor1.repeat(2, 1)\n",
        "print('Repeated Tensor:', repeated_tensor)"
      ]
    },
    {
      "cell_type": "markdown",
      "id": "7be1c390",
      "metadata": {
        "id": "7be1c390"
      },
      "source": [
        "## 19. Permuting Dimensions"
      ]
    },
    {
      "cell_type": "code",
      "execution_count": 22,
      "id": "e65467a3",
      "metadata": {
        "colab": {
          "base_uri": "https://localhost:8080/"
        },
        "id": "e65467a3",
        "outputId": "d8eef02d-c3f2-498b-dd94-af6f6f1682d9"
      },
      "outputs": [
        {
          "output_type": "stream",
          "name": "stdout",
          "text": [
            "Permuted Tensor: tensor([[[0.2040, 0.0085],\n",
            "         [0.8898, 0.3205],\n",
            "         [0.3421, 0.0740]],\n",
            "\n",
            "        [[0.4624, 0.7526],\n",
            "         [0.6748, 0.4077],\n",
            "         [0.9432, 0.6815]],\n",
            "\n",
            "        [[0.2681, 0.4738],\n",
            "         [0.6785, 0.4601],\n",
            "         [0.4566, 0.3848]],\n",
            "\n",
            "        [[0.4133, 0.5466],\n",
            "         [0.2682, 0.8217],\n",
            "         [0.1472, 0.8307]]])\n"
          ]
        }
      ],
      "source": [
        "tensor6 = torch.rand(2, 3, 4)\n",
        "permuted_tensor = tensor6.permute(2, 1, 0)\n",
        "\n",
        "print('Permuted Tensor:', permuted_tensor)"
      ]
    },
    {
      "cell_type": "markdown",
      "id": "57c500a8",
      "metadata": {
        "id": "57c500a8"
      },
      "source": [
        "## 20. Flattening Tensors"
      ]
    },
    {
      "cell_type": "code",
      "execution_count": 23,
      "id": "94fedf01",
      "metadata": {
        "colab": {
          "base_uri": "https://localhost:8080/"
        },
        "id": "94fedf01",
        "outputId": "ad8c9927-9ebe-4ef9-cfd8-2a7d44cfad69"
      },
      "outputs": [
        {
          "output_type": "stream",
          "name": "stdout",
          "text": [
            "Flattened Tensor: tensor([0.2040, 0.4624, 0.2681, 0.4133, 0.8898, 0.6748, 0.6785, 0.2682, 0.3421,\n",
            "        0.9432, 0.4566, 0.1472, 0.0085, 0.7526, 0.4738, 0.5466, 0.3205, 0.4077,\n",
            "        0.4601, 0.8217, 0.0740, 0.6815, 0.3848, 0.8307])\n"
          ]
        }
      ],
      "source": [
        "flat_tensor = tensor6.flatten()\n",
        "print('Flattened Tensor:', flat_tensor)"
      ]
    },
    {
      "cell_type": "markdown",
      "id": "b0c9aae7",
      "metadata": {
        "id": "b0c9aae7"
      },
      "source": [
        "## 21. Expanding Tensors"
      ]
    },
    {
      "cell_type": "code",
      "execution_count": 24,
      "id": "0e838af6",
      "metadata": {
        "colab": {
          "base_uri": "https://localhost:8080/"
        },
        "id": "0e838af6",
        "outputId": "95d3a916-a399-4226-9516-060bbc14f4bb"
      },
      "outputs": [
        {
          "output_type": "stream",
          "name": "stdout",
          "text": [
            "Expanded Tensor: tensor([[1., 2., 3.],\n",
            "        [1., 2., 3.],\n",
            "        [1., 2., 3.]])\n"
          ]
        }
      ],
      "source": [
        "expanded_tensor = tensor1.unsqueeze(0).expand(3, -1)\n",
        "\n",
        "print('Expanded Tensor:', expanded_tensor)"
      ]
    },
    {
      "cell_type": "markdown",
      "id": "f78779ff",
      "metadata": {
        "id": "f78779ff"
      },
      "source": [
        "## 22. Diagonal Extraction"
      ]
    },
    {
      "cell_type": "code",
      "execution_count": 25,
      "id": "3bdbadd4",
      "metadata": {
        "colab": {
          "base_uri": "https://localhost:8080/"
        },
        "id": "3bdbadd4",
        "outputId": "3a77e4d7-dd25-46fd-a138-818e24fcee67"
      },
      "outputs": [
        {
          "output_type": "stream",
          "name": "stdout",
          "text": [
            "Diagonal Tensor: tensor([[1, 0, 0],\n",
            "        [0, 2, 0],\n",
            "        [0, 0, 3]])\n"
          ]
        }
      ],
      "source": [
        "diag_tensor = torch.diag(torch.tensor([1, 2, 3]))\n",
        "print('Diagonal Tensor:', diag_tensor)"
      ]
    },
    {
      "cell_type": "markdown",
      "id": "c772a3d3",
      "metadata": {
        "id": "c772a3d3"
      },
      "source": [
        "## 23. Element-wise Comparison"
      ]
    },
    {
      "cell_type": "code",
      "execution_count": 26,
      "id": "8b8671e4",
      "metadata": {
        "colab": {
          "base_uri": "https://localhost:8080/"
        },
        "id": "8b8671e4",
        "outputId": "8de3a67e-177d-4c56-be94-79fa2e3a7885"
      },
      "outputs": [
        {
          "output_type": "stream",
          "name": "stdout",
          "text": [
            "Comparison Tensor: tensor([False, False, False])\n"
          ]
        }
      ],
      "source": [
        "comparison_tensor = torch.eq(tensor1, tensor2)\n",
        "\n",
        "print('Comparison Tensor:', comparison_tensor)"
      ]
    },
    {
      "cell_type": "markdown",
      "id": "575f1ab7",
      "metadata": {
        "id": "575f1ab7"
      },
      "source": [
        "## 24. Tensor Masking"
      ]
    },
    {
      "cell_type": "code",
      "execution_count": 27,
      "id": "540687ac",
      "metadata": {
        "colab": {
          "base_uri": "https://localhost:8080/"
        },
        "id": "540687ac",
        "outputId": "22e73eae-cb47-48de-8ae6-42f3cb7019f8"
      },
      "outputs": [
        {
          "output_type": "stream",
          "name": "stdout",
          "text": [
            "Mask: tensor([False,  True,  True])\n",
            "Masked Tensor: tensor([2., 3.])\n"
          ]
        }
      ],
      "source": [
        "mask = tensor1 > 1.5\n",
        "masked_tensor = tensor1[mask]\n",
        "print('Mask:', mask)\n",
        "print('Masked Tensor:', masked_tensor)"
      ]
    },
    {
      "cell_type": "markdown",
      "id": "d4ec3851",
      "metadata": {
        "id": "d4ec3851"
      },
      "source": [
        "## 25. Element-wise Absolute Value"
      ]
    },
    {
      "cell_type": "code",
      "execution_count": 28,
      "id": "0c55995c",
      "metadata": {
        "colab": {
          "base_uri": "https://localhost:8080/"
        },
        "id": "0c55995c",
        "outputId": "fdd0ec11-5440-47c5-98dd-2f323c47109f"
      },
      "outputs": [
        {
          "output_type": "stream",
          "name": "stdout",
          "text": [
            "Absolute Tensor: tensor([1., 2., 3.])\n"
          ]
        }
      ],
      "source": [
        "\n",
        "neg_tensor = torch.tensor([-1, -2, 3], dtype=torch.float32)\n",
        "abs_tensor = torch.abs(neg_tensor)\n",
        "\n",
        "print('Absolute Tensor:', abs_tensor)\n",
        ""
      ]
    },
    {
      "cell_type": "markdown",
      "id": "0f94639c",
      "metadata": {
        "id": "0f94639c"
      },
      "source": [
        "## 26. Tensor Sum Across Dimensions"
      ]
    },
    {
      "cell_type": "code",
      "execution_count": 31,
      "id": "7211e651",
      "metadata": {
        "colab": {
          "base_uri": "https://localhost:8080/"
        },
        "id": "7211e651",
        "outputId": "763a07c0-6ca6-4b81-8966-5faa1b2307b8"
      },
      "outputs": [
        {
          "output_type": "stream",
          "name": "stdout",
          "text": [
            "Sum Across Dimensions: tensor([[0.2125, 1.2150, 0.7420, 0.9598],\n",
            "        [1.2103, 1.0825, 1.1386, 1.0899],\n",
            "        [0.4161, 1.6247, 0.8414, 0.9779]])\n"
          ]
        }
      ],
      "source": [
        "\n",
        "sum_across_dim = torch.sum(tensor6, dim=0)\n",
        "\n",
        "print('Sum Across Dimensions:', sum_across_dim)\n",
        ""
      ]
    },
    {
      "cell_type": "markdown",
      "id": "72dac1b4",
      "metadata": {
        "id": "72dac1b4"
      },
      "source": [
        "## 27. Cumulative Sum"
      ]
    },
    {
      "cell_type": "code",
      "execution_count": 32,
      "id": "7e0f03f5",
      "metadata": {
        "colab": {
          "base_uri": "https://localhost:8080/"
        },
        "id": "7e0f03f5",
        "outputId": "27a0e8b1-335a-43b1-dde4-ec3474e49bcb"
      },
      "outputs": [
        {
          "output_type": "stream",
          "name": "stdout",
          "text": [
            "Cumulative Sum Tensor: tensor([1., 3., 6.])\n"
          ]
        }
      ],
      "source": [
        "\n",
        "cumsum_tensor = torch.cumsum(tensor1, dim=0)\n",
        "\n",
        "print('Cumulative Sum Tensor:', cumsum_tensor)\n",
        ""
      ]
    },
    {
      "cell_type": "markdown",
      "id": "6d6041f0",
      "metadata": {
        "id": "6d6041f0"
      },
      "source": [
        "## 28. Element-wise Square Root"
      ]
    },
    {
      "cell_type": "code",
      "execution_count": 33,
      "id": "002d7667",
      "metadata": {
        "colab": {
          "base_uri": "https://localhost:8080/"
        },
        "id": "002d7667",
        "outputId": "67e6131e-c33f-4d1c-9e1e-339c4e988d46"
      },
      "outputs": [
        {
          "output_type": "stream",
          "name": "stdout",
          "text": [
            "Square Root Tensor: tensor([1., 2., 3.])\n"
          ]
        }
      ],
      "source": [
        "\n",
        "sqrt_tensor = torch.sqrt(torch.tensor([1.0, 4.0, 9.0]))\n",
        "\n",
        "print('Square Root Tensor:', sqrt_tensor)\n",
        ""
      ]
    },
    {
      "cell_type": "markdown",
      "id": "4534e052",
      "metadata": {
        "id": "4534e052"
      },
      "source": [
        "## 29. Element-wise Exponential"
      ]
    },
    {
      "cell_type": "code",
      "execution_count": 34,
      "id": "3e2694f3",
      "metadata": {
        "colab": {
          "base_uri": "https://localhost:8080/"
        },
        "id": "3e2694f3",
        "outputId": "bbaadb23-910c-4068-b496-ecbd2039a306"
      },
      "outputs": [
        {
          "output_type": "stream",
          "name": "stdout",
          "text": [
            "Exponential Tensor: tensor([ 2.7183,  7.3891, 20.0855])\n"
          ]
        }
      ],
      "source": [
        "\n",
        "exp_tensor = torch.exp(torch.tensor([1.0, 2.0, 3.0]))\n",
        "\n",
        "print('Exponential Tensor:', exp_tensor)\n",
        ""
      ]
    },
    {
      "cell_type": "markdown",
      "id": "c45d7861",
      "metadata": {
        "id": "c45d7861"
      },
      "source": [
        "## 30. Logarithm (Element-wise)"
      ]
    },
    {
      "cell_type": "code",
      "execution_count": 35,
      "id": "3fe4ffc1",
      "metadata": {
        "colab": {
          "base_uri": "https://localhost:8080/"
        },
        "id": "3fe4ffc1",
        "outputId": "f5942527-23ef-4281-e2bf-04615bd0767a"
      },
      "outputs": [
        {
          "output_type": "stream",
          "name": "stdout",
          "text": [
            "Logarithm Tensor: tensor([0.0000, 1.0000, 2.9957])\n"
          ]
        }
      ],
      "source": [
        "\n",
        "log_tensor = torch.log(torch.tensor([1.0, 2.7183, 20.0]))\n",
        "\n",
        "print('Logarithm Tensor:', log_tensor)\n",
        ""
      ]
    },
    {
      "cell_type": "code",
      "source": [],
      "metadata": {
        "id": "y46yqPIxzrAW"
      },
      "id": "y46yqPIxzrAW",
      "execution_count": 35,
      "outputs": []
    }
  ],
  "metadata": {
    "colab": {
      "provenance": []
    },
    "language_info": {
      "name": "python"
    },
    "kernelspec": {
      "name": "python3",
      "display_name": "Python 3"
    }
  },
  "nbformat": 4,
  "nbformat_minor": 5
}